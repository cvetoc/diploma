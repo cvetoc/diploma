{
 "cells": [
  {
   "cell_type": "markdown",
   "id": "1f217e7a-093f-4e69-bb2d-df70b1a7c88b",
   "metadata": {
    "jp-MarkdownHeadingCollapsed": true,
    "tags": []
   },
   "source": [
    "## Before Preparation"
   ]
  },
  {
   "cell_type": "code",
   "execution_count": 2,
   "id": "be5f5083-9084-4496-8b3e-88db0e2f7f76",
   "metadata": {
    "execution": {
     "iopub.execute_input": "2024-02-12T20:19:33.669952Z",
     "iopub.status.busy": "2024-02-12T20:19:33.669323Z",
     "iopub.status.idle": "2024-02-12T20:19:35.340495Z",
     "shell.execute_reply": "2024-02-12T20:19:35.339858Z",
     "shell.execute_reply.started": "2024-02-12T20:19:33.669917Z"
    }
   },
   "outputs": [],
   "source": [
    "import zipfile\n",
    "\n",
    "with zipfile.ZipFile(\"Project_cod.zip\", 'r') as zip_ref:\n",
    "    zip_ref.extractall(\"\")"
   ]
  },
  {
   "cell_type": "code",
   "execution_count": 9,
   "id": "0b755722-757f-4249-ab6e-75f7cd4b5986",
   "metadata": {
    "execution": {
     "iopub.execute_input": "2024-02-13T04:41:11.248435Z",
     "iopub.status.busy": "2024-02-13T04:41:11.247556Z",
     "iopub.status.idle": "2024-02-13T04:42:31.503106Z",
     "shell.execute_reply": "2024-02-13T04:42:31.501817Z",
     "shell.execute_reply.started": "2024-02-13T04:41:11.248386Z"
    },
    "tags": []
   },
   "outputs": [],
   "source": [
    "%pip install torch -qqq\n",
    "%pip install numpy -qqq\n",
    "%pip install torchtext -qqq\n",
    "%pip install tqdm -qqq\n",
    "%pip install tokenizers -qqq\n",
    "%pip install matplotlib -qqq\n",
    "%pip install prettytable -qqq\n",
    "%pip install transformers -qqq\n",
    "%pip install cyrtranslit -qqq\n",
    "%pip install torchmetrics -qqq\n",
    "%pip install transformers -qqq"
   ]
  },
  {
   "cell_type": "markdown",
   "id": "4a28d74d-f138-41f7-936d-f87b7adbaa7d",
   "metadata": {},
   "source": [
    "## Train"
   ]
  },
  {
   "cell_type": "code",
   "execution_count": 7,
   "id": "cdba31b5-c93f-4b3b-8d2d-84afabd281bd",
   "metadata": {
    "execution": {
     "iopub.execute_input": "2024-03-17T19:23:29.914709Z",
     "iopub.status.busy": "2024-03-17T19:23:29.914052Z",
     "iopub.status.idle": "2024-03-17T19:23:30.214173Z",
     "shell.execute_reply": "2024-03-17T19:23:30.213497Z",
     "shell.execute_reply.started": "2024-03-17T19:23:29.914679Z"
    },
    "tags": []
   },
   "outputs": [],
   "source": [
    "%load_ext autoreload\n",
    "%autoreload 2"
   ]
  },
  {
   "cell_type": "code",
   "execution_count": 4,
   "id": "d95a495e-8758-4d1a-ba3c-ce88e6913506",
   "metadata": {
    "execution": {
     "iopub.execute_input": "2024-03-17T22:34:31.638434Z",
     "iopub.status.busy": "2024-03-17T22:34:31.637553Z",
     "iopub.status.idle": "2024-03-17T22:34:31.698431Z",
     "shell.execute_reply": "2024-03-17T22:34:31.697708Z",
     "shell.execute_reply.started": "2024-03-17T22:34:31.638378Z"
    },
    "tags": []
   },
   "outputs": [],
   "source": [
    "import warnings\n",
    "warnings.filterwarnings(\"ignore\")"
   ]
  },
  {
   "cell_type": "code",
   "execution_count": 5,
   "id": "be3a67ab-7d6d-4f3a-9689-e377ed8506b3",
   "metadata": {
    "execution": {
     "iopub.execute_input": "2024-03-17T22:34:31.922415Z",
     "iopub.status.busy": "2024-03-17T22:34:31.921735Z",
     "iopub.status.idle": "2024-03-17T22:34:31.949471Z",
     "shell.execute_reply": "2024-03-17T22:34:31.948766Z",
     "shell.execute_reply.started": "2024-03-17T22:34:31.922385Z"
    },
    "tags": []
   },
   "outputs": [],
   "source": [
    "import torch\n",
    "import yaml\n",
    "from distutils.dir_util import copy_tree"
   ]
  },
  {
   "cell_type": "code",
   "execution_count": 6,
   "id": "59691ee2-4b79-4a7e-865e-47749feb3e05",
   "metadata": {
    "execution": {
     "iopub.execute_input": "2024-03-17T22:34:32.273623Z",
     "iopub.status.busy": "2024-03-17T22:34:32.273166Z",
     "iopub.status.idle": "2024-03-17T22:34:32.290509Z",
     "shell.execute_reply": "2024-03-17T22:34:32.289821Z",
     "shell.execute_reply.started": "2024-03-17T22:34:32.273597Z"
    },
    "tags": []
   },
   "outputs": [],
   "source": [
    "import pre_train_seq2seq_transformer as ptst # pre_train, train\n",
    "from src import utils # pre_graf, graf"
   ]
  },
  {
   "cell_type": "code",
   "execution_count": null,
   "id": "5ad8b984-d3fe-4453-9f46-a14f1a6dd702",
   "metadata": {},
   "outputs": [],
   "source": []
  },
  {
   "cell_type": "code",
   "execution_count": 4,
   "id": "1e693333-c1a1-4179-82d8-51310b5cf004",
   "metadata": {
    "execution": {
     "iopub.execute_input": "2024-03-13T20:59:42.285610Z",
     "iopub.status.busy": "2024-03-13T20:59:42.285034Z",
     "iopub.status.idle": "2024-03-13T20:59:42.293172Z",
     "shell.execute_reply": "2024-03-13T20:59:42.292665Z",
     "shell.execute_reply.started": "2024-03-13T20:59:42.285583Z"
    },
    "tags": []
   },
   "outputs": [],
   "source": [
    "from imp import reload"
   ]
  },
  {
   "cell_type": "code",
   "execution_count": 8,
   "id": "2c9c6928-e246-4cb9-9b66-bb7e8ddc8f91",
   "metadata": {
    "execution": {
     "iopub.execute_input": "2024-03-13T21:23:16.296336Z",
     "iopub.status.busy": "2024-03-13T21:23:16.295618Z",
     "iopub.status.idle": "2024-03-13T21:23:16.311766Z",
     "shell.execute_reply": "2024-03-13T21:23:16.311088Z",
     "shell.execute_reply.started": "2024-03-13T21:23:16.296294Z"
    },
    "tags": []
   },
   "outputs": [
    {
     "data": {
      "text/plain": [
       "<module 'pre_train_seq2seq_transformer' from '/home/jupyter/work/resources/pre_train_seq2seq_transformer.py'>"
      ]
     },
     "execution_count": 8,
     "metadata": {},
     "output_type": "execute_result"
    }
   ],
   "source": [
    "reload(ptst)"
   ]
  },
  {
   "cell_type": "code",
   "execution_count": 9,
   "id": "f3cc15b7-4204-48b2-887b-3c518e838013",
   "metadata": {
    "execution": {
     "iopub.execute_input": "2024-03-13T21:23:17.199220Z",
     "iopub.status.busy": "2024-03-13T21:23:17.198515Z",
     "iopub.status.idle": "2024-03-13T21:23:17.210656Z",
     "shell.execute_reply": "2024-03-13T21:23:17.210036Z",
     "shell.execute_reply.started": "2024-03-13T21:23:17.199179Z"
    },
    "tags": []
   },
   "outputs": [
    {
     "data": {
      "text/plain": [
       "<module 'src.utils' from '/home/jupyter/work/resources/src/utils.py'>"
      ]
     },
     "execution_count": 9,
     "metadata": {},
     "output_type": "execute_result"
    }
   ],
   "source": [
    "reload(utils)"
   ]
  },
  {
   "cell_type": "code",
   "execution_count": null,
   "id": "76e59d8d-96d7-4dc8-aebc-cabd2e72c1ac",
   "metadata": {},
   "outputs": [],
   "source": []
  },
  {
   "cell_type": "markdown",
   "id": "4072ba4e-2522-4349-8cae-28ae5b7414df",
   "metadata": {
    "jp-MarkdownHeadingCollapsed": true,
    "tags": []
   },
   "source": [
    "## pre_train"
   ]
  },
  {
   "cell_type": "code",
   "execution_count": 4,
   "id": "24dad906-9c57-44c2-b237-ae0306a5d77a",
   "metadata": {
    "execution": {
     "iopub.execute_input": "2024-03-02T21:01:48.553358Z",
     "iopub.status.busy": "2024-03-02T21:01:48.552552Z",
     "iopub.status.idle": "2024-03-02T21:01:48.568712Z",
     "shell.execute_reply": "2024-03-02T21:01:48.567653Z",
     "shell.execute_reply.started": "2024-03-02T21:01:48.553303Z"
    },
    "tags": []
   },
   "outputs": [],
   "source": [
    "name_exp = \"wikisql_pre_train\"\n",
    "def callback(model):\n",
    "    pass\n",
    "    # torch.save(model.state_dict(), \"save_model_pre_train_\"+name_exp+\".pt\")"
   ]
  },
  {
   "cell_type": "code",
   "execution_count": null,
   "id": "d3e0dd0e-717d-47d5-96d3-8b9944677089",
   "metadata": {
    "tags": []
   },
   "outputs": [],
   "source": [
    "model, dm, dataloader = ptst.pre_train(prin=True, filename=\"progress_log_\"+name_exp+\".txt\")"
   ]
  },
  {
   "cell_type": "code",
   "execution_count": 6,
   "id": "46378069-c31c-40d2-af1a-e32ebeea5587",
   "metadata": {
    "execution": {
     "iopub.execute_input": "2024-02-29T16:54:36.101841Z",
     "iopub.status.busy": "2024-02-29T16:54:36.100711Z",
     "iopub.status.idle": "2024-02-29T16:54:40.573963Z",
     "shell.execute_reply": "2024-02-29T16:54:40.572594Z",
     "shell.execute_reply.started": "2024-02-29T16:54:36.101791Z"
    },
    "tags": []
   },
   "outputs": [],
   "source": [
    "torch.save(model.state_dict(), \"save_model_pre_train_\"+name_exp+\".pt\")"
   ]
  },
  {
   "cell_type": "code",
   "execution_count": 7,
   "id": "d956a88b-e045-409d-abec-e99c97b74b3b",
   "metadata": {
    "execution": {
     "iopub.execute_input": "2024-02-29T16:54:40.577427Z",
     "iopub.status.busy": "2024-02-29T16:54:40.576473Z",
     "iopub.status.idle": "2024-02-29T16:54:40.606874Z",
     "shell.execute_reply": "2024-02-29T16:54:40.605640Z",
     "shell.execute_reply.started": "2024-02-29T16:54:40.577391Z"
    },
    "tags": []
   },
   "outputs": [],
   "source": [
    "data_config = yaml.load(open(\"configs/data_config.yaml\", 'r', encoding='utf-8'), Loader=yaml.Loader)"
   ]
  },
  {
   "cell_type": "code",
   "execution_count": null,
   "id": "307671cb-4e86-4cd9-bfcd-532a611f7ff4",
   "metadata": {},
   "outputs": [],
   "source": []
  },
  {
   "cell_type": "code",
   "execution_count": 8,
   "id": "8e5b78e7-072e-40f3-9ef4-e63e31865e42",
   "metadata": {
    "execution": {
     "iopub.execute_input": "2024-02-29T16:54:40.608981Z",
     "iopub.status.busy": "2024-02-29T16:54:40.608083Z",
     "iopub.status.idle": "2024-02-29T16:54:41.294918Z",
     "shell.execute_reply": "2024-02-29T16:54:41.293322Z",
     "shell.execute_reply.started": "2024-02-29T16:54:40.608935Z"
    },
    "tags": []
   },
   "outputs": [
    {
     "name": "stdout",
     "output_type": "stream",
     "text": [
      "+-----------------+-----------------+\n",
      "|    параметры    |     значения    |\n",
      "+-----------------+-----------------+\n",
      "| pre_train_model | bert-base-cased |\n",
      "|  learning_rate  |      0.0001     |\n",
      "|    sched_step   |        20       |\n",
      "|   sched_gamma   |     0.33333     |\n",
      "|    epoch_num    |        30       |\n",
      "|  try_one_batch  |      False      |\n",
      "+-----------------+-----------------+\n"
     ]
    },
    {
     "data": {
      "image/png": "[encoded data removed]",
      "text/plain": [
       "<Figure size 1152x576 with 4 Axes>"
      ]
     },
     "metadata": {
      "needs_background": "light"
     },
     "output_type": "display_data"
    }
   ],
   "source": [
    "utils.pre_graf(data_config[\"path_repository\"] + \"pre_training_logs/progress_log_wikisql_pre_train.txt\")"
   ]
  },
  {
   "cell_type": "code",
   "execution_count": null,
   "id": "e5ffca6b-4da6-4003-93ac-7549c7d6d54f",
   "metadata": {},
   "outputs": [],
   "source": []
  },
  {
   "cell_type": "markdown",
   "id": "4e3c140c-dc25-44a3-b1f7-d6cfc09d30e2",
   "metadata": {},
   "source": [
    "## train"
   ]
  },
  {
   "cell_type": "code",
   "execution_count": 13,
   "id": "a7e72e80-4210-4aa8-80b9-3ca8e9cf9864",
   "metadata": {
    "execution": {
     "iopub.execute_input": "2024-03-17T22:52:01.708052Z",
     "iopub.status.busy": "2024-03-17T22:52:01.707630Z",
     "iopub.status.idle": "2024-03-17T22:54:58.318318Z",
     "shell.execute_reply": "2024-03-17T22:54:58.317Z",
     "shell.execute_reply.started": "2024-03-17T22:52:01.708028Z"
    },
    "scrolled": true,
    "tags": []
   },
   "outputs": [
    {
     "name": "stdout",
     "output_type": "stream",
     "text": [
      "DEVICE = cpu\n"
     ]
    },
    {
     "name": "stderr",
     "output_type": "stream",
     "text": [
      "Pars data: 100%|██████████| 8420/8420 [00:00<00:00, 2015755.69it/s]\n",
      "Pars data: 100%|██████████| 15877/15877 [00:00<00:00, 2137472.78it/s]\n",
      "  0%|          | 1/400 [00:00<03:30,  1.90it/s, train score=0.264, val score=0.264, train loss=19.6, val loss=11]"
     ]
    },
    {
     "name": "stdout",
     "output_type": "stream",
     "text": [
      "<s>SELECT Winner FROM table WHERE St_Kilda_score = STR_VALUE_1</s> --->                                         \n",
      "<s>SELECT COUNT Wins FROM table WHERE Top-25 < NUM_VALUE_1 AND Events > NUM_VALUE_2 AND Top-5 < NUM_VALUE_3</s> --->                                         \n",
      "##############################\n"
     ]
    },
    {
     "name": "stderr",
     "output_type": "stream",
     "text": [
      "  0%|          | 2/400 [00:00<03:12,  2.07it/s, train score=0.264, val score=0.264, train loss=11, val loss=14]  "
     ]
    },
    {
     "name": "stdout",
     "output_type": "stream",
     "text": [
      "<s>SELECT Winner FROM table WHERE St_Kilda_score = STR_VALUE_1</s> --->                                         \n",
      "<s>SELECT COUNT Wins FROM table WHERE Top-25 < NUM_VALUE_1 AND Events > NUM_VALUE_2 AND Top-5 < NUM_VALUE_3</s> --->                                         \n",
      "##############################\n"
     ]
    },
    {
     "name": "stderr",
     "output_type": "stream",
     "text": [
      "  1%|          | 3/400 [00:01<03:05,  2.14it/s, train score=0.057, val score=0.057, train loss=13.6, val loss=11.4]"
     ]
    },
    {
     "name": "stdout",
     "output_type": "stream",
     "text": [
      "<s>SELECT Winner FROM table WHERE St_Kilda_score = STR_VALUE_1</s> --->  WHERE WHERE WHERE WHERE WHERE WHERE WHERE WHERE WHERE WHERE WHERE WHERE WHERE WHERE WHERE WHERE WHERE WHERE WHERE WHERE WHERE WHERE WHERE WHERE WHERE WHERE WHERE WHERE WHERE WHERE WHERE WHERE WHERE WHERE WHERE WHERE WHERE WHERE WHERE WHERE\n",
      "<s>SELECT COUNT Wins FROM table WHERE Top-25 < NUM_VALUE_1 AND Events > NUM_VALUE_2 AND Top-5 < NUM_VALUE_3</s> --->  WHERE WHERE WHERE WHERE WHERE WHERE WHERE WHERE WHERE WHERE WHERE WHERE WHERE WHERE WHERE WHERE WHERE WHERE WHERE WHERE WHERE WHERE WHERE WHERE WHERE WHERE WHERE WHERE WHERE WHERE WHERE WHERE WHERE WHERE WHERE WHERE WHERE WHERE WHERE WHERE\n",
      "##############################\n"
     ]
    },
    {
     "name": "stderr",
     "output_type": "stream",
     "text": [
      "  1%|          | 4/400 [00:01<03:00,  2.19it/s, train score=0.0769, val score=0.057, train loss=11.4, val loss=11.2]"
     ]
    },
    {
     "name": "stdout",
     "output_type": "stream",
     "text": [
      "<s>SELECT Winner FROM table WHERE St_Kilda_score = STR_VALUE_1</s> ---> SELECTSELECTSELECTSELECTSELECTSELECTSELECTSELECTSELECTSELECTSELECTSELECTSELECTSELECTSELECTSELECTSELECTSELECTSELECTSELECTSELECTSELECTSELECTSELECTSELECTSELECTSELECTSELECTSELECTSELECTSELECTSELECTSELECTSELECTSELECTSELECTSELECTSELECTSELECTSELECT\n",
      "<s>SELECT COUNT Wins FROM table WHERE Top-25 < NUM_VALUE_1 AND Events > NUM_VALUE_2 AND Top-5 < NUM_VALUE_3</s> ---> SELECTSELECTSELECTSELECTSELECTSELECTSELECTSELECTSELECTSELECTSELECTSELECTSELECTSELECTSELECTSELECTSELECTSELECTSELECTSELECTSELECTSELECTSELECTSELECTSELECTSELECTSELECTSELECTSELECTSELECTSELECTSELECTSELECTSELECTSELECTSELECTSELECTSELECTSELECTSELECT\n",
      "##############################\n"
     ]
    },
    {
     "name": "stderr",
     "output_type": "stream",
     "text": [
      "  1%|▏         | 5/400 [00:02<02:54,  2.27it/s, train score=0.057, val score=0.057, train loss=11.2, val loss=10.8] "
     ]
    },
    {
     "name": "stdout",
     "output_type": "stream",
     "text": [
      "<s>SELECT Winner FROM table WHERE St_Kilda_score = STR_VALUE_1</s> ---> SELECTSELECTSELECTSELECTSELECTSELECTSELECTSELECTSELECTSELECTSELECTSELECTSELECTSELECTSELECTSELECTSELECTSELECTSELECTSELECTSELECTSELECTSELECTSELECTSELECTSELECTSELECTSELECTSELECTSELECTSELECTSELECTSELECTSELECTSELECTSELECTSELECTSELECTSELECTSELECT\n",
      "<s>SELECT COUNT Wins FROM table WHERE Top-25 < NUM_VALUE_1 AND Events > NUM_VALUE_2 AND Top-5 < NUM_VALUE_3</s> ---> SELECTSELECTSELECTSELECTSELECTSELECTSELECTSELECTSELECTSELECTSELECTSELECTSELECTSELECTSELECTSELECTSELECTSELECTSELECTSELECTSELECTSELECTSELECTSELECTSELECTSELECTSELECTSELECTSELECTSELECTSELECTSELECTSELECTSELECTSELECTSELECTSELECTSELECTSELECTSELECT\n",
      "##############################\n"
     ]
    },
    {
     "name": "stderr",
     "output_type": "stream",
     "text": [
      "  2%|▏         | 6/400 [00:02<02:48,  2.34it/s, train score=0.037, val score=0.037, train loss=10.9, val loss=10.2]"
     ]
    },
    {
     "name": "stdout",
     "output_type": "stream",
     "text": [
      "<s>SELECT Winner FROM table WHERE St_Kilda_score = STR_VALUE_1</s> --->  < < < < < < < < < < < < < < < < < < < < < < < < < < < < < < < < < < < < < < < <\n",
      "<s>SELECT COUNT Wins FROM table WHERE Top-25 < NUM_VALUE_1 AND Events > NUM_VALUE_2 AND Top-5 < NUM_VALUE_3</s> --->  < < < < < < < < < < < < < < < < < < < < < < < < < < < < < < < < < < < < < < < <\n",
      "##############################\n"
     ]
    },
    {
     "name": "stderr",
     "output_type": "stream",
     "text": [
      "  2%|▏         | 7/400 [00:03<02:45,  2.37it/s, train score=0.037, val score=0.037, train loss=10.2, val loss=9.29]"
     ]
    },
    {
     "name": "stdout",
     "output_type": "stream",
     "text": [
      "<s>SELECT Winner FROM table WHERE St_Kilda_score = STR_VALUE_1</s> --->  < < < < < < < < < < < < < < < < < < < < < < < < < < < < < < < < < < < < < < < <\n",
      "<s>SELECT COUNT Wins FROM table WHERE Top-25 < NUM_VALUE_1 AND Events > NUM_VALUE_2 AND Top-5 < NUM_VALUE_3</s> --->  < < < < < < < < < < < < < < < < < < < < < < < < < < < < < < < < < < < < < < < <\n",
      "##############################\n"
     ]
    },
    {
     "name": "stderr",
     "output_type": "stream",
     "text": [
      "  2%|▏         | 8/400 [00:03<02:42,  2.42it/s, train score=0.057, val score=0.057, train loss=9.63, val loss=8.88]"
     ]
    },
    {
     "name": "stdout",
     "output_type": "stream",
     "text": [
      "<s>SELECT Winner FROM table WHERE St_Kilda_score = STR_VALUE_1</s> --->  table table table table table table table table table table table table table table table table table table table table table table table table table table table table table table table table table table table table table table table table\n",
      "<s>SELECT COUNT Wins FROM table WHERE Top-25 < NUM_VALUE_1 AND Events > NUM_VALUE_2 AND Top-5 < NUM_VALUE_3</s> --->  table table table table table table table table table table table table table table table table table table table table table table table table table table table table table table table table table table table table table table table table\n",
      "##############################\n"
     ]
    },
    {
     "name": "stderr",
     "output_type": "stream",
     "text": [
      "  2%|▏         | 9/400 [00:03<02:41,  2.43it/s, train score=0.264, val score=0.264, train loss=8.91, val loss=8.84]"
     ]
    },
    {
     "name": "stdout",
     "output_type": "stream",
     "text": [
      "<s>SELECT Winner FROM table WHERE St_Kilda_score = STR_VALUE_1</s> --->                                         \n",
      "<s>SELECT COUNT Wins FROM table WHERE Top-25 < NUM_VALUE_1 AND Events > NUM_VALUE_2 AND Top-5 < NUM_VALUE_3</s> --->                                         \n",
      "##############################\n"
     ]
    },
    {
     "name": "stderr",
     "output_type": "stream",
     "text": [
      "  2%|▎         | 10/400 [00:04<02:43,  2.39it/s, train score=0.057, val score=0.057, train loss=8.71, val loss=8.47]"
     ]
    },
    {
     "name": "stdout",
     "output_type": "stream",
     "text": [
      "<s>SELECT Winner FROM table WHERE St_Kilda_score = STR_VALUE_1</s> --->  WHERE WHERE WHERE WHERE WHERE WHERE WHERE WHERE WHERE WHERE WHERE WHERE WHERE WHERE WHERE WHERE WHERE WHERE WHERE WHERE WHERE WHERE WHERE WHERE WHERE WHERE WHERE WHERE WHERE WHERE WHERE WHERE WHERE WHERE WHERE WHERE WHERE WHERE WHERE WHERE\n",
      "<s>SELECT COUNT Wins FROM table WHERE Top-25 < NUM_VALUE_1 AND Events > NUM_VALUE_2 AND Top-5 < NUM_VALUE_3</s> --->  WHERE WHERE WHERE WHERE WHERE WHERE WHERE WHERE WHERE WHERE WHERE WHERE WHERE WHERE WHERE WHERE WHERE WHERE WHERE WHERE WHERE WHERE WHERE WHERE WHERE WHERE WHERE WHERE WHERE WHERE WHERE WHERE WHERE WHERE WHERE WHERE WHERE WHERE WHERE WHERE\n",
      "##############################\n"
     ]
    },
    {
     "name": "stderr",
     "output_type": "stream",
     "text": [
      "  3%|▎         | 11/400 [00:04<02:44,  2.37it/s, train score=0.057, val score=0.057, train loss=8.52, val loss=10.1]"
     ]
    },
    {
     "name": "stdout",
     "output_type": "stream",
     "text": [
      "<s>SELECT Winner FROM table WHERE St_Kilda_score = STR_VALUE_1</s> ---> </s></s></s> WHERE table table table table table table table table table table table table table table table table table table table table table table table table table table table table table table table table table table table table\n",
      "<s>SELECT COUNT Wins FROM table WHERE Top-25 < NUM_VALUE_1 AND Events > NUM_VALUE_2 AND Top-5 < NUM_VALUE_3</s> ---> </s></s>SELECT table table table table table table table table table table table table table table table table table table table table table table table table table table table table table table table table table table table table table\n",
      "##############################\n"
     ]
    },
    {
     "name": "stderr",
     "output_type": "stream",
     "text": [
      "  3%|▎         | 12/400 [00:05<02:41,  2.40it/s, train score=0, val score=0, train loss=22.8, val loss=20]          "
     ]
    },
    {
     "name": "stdout",
     "output_type": "stream",
     "text": [
      "<s>SELECT Winner FROM table WHERE St_Kilda_score = STR_VALUE_1</s> ---> aaaaaaaaaaaaaaaaaaaaaaaaaaaaaaaaaaaaaaaa\n",
      "<s>SELECT COUNT Wins FROM table WHERE Top-25 < NUM_VALUE_1 AND Events > NUM_VALUE_2 AND Top-5 < NUM_VALUE_3</s> ---> aaaaaaaaaaaaaaaaaaaaaaaaaaaaaaaaaaaaaaaa\n",
      "##############################\n"
     ]
    },
    {
     "name": "stderr",
     "output_type": "stream",
     "text": [
      "  3%|▎         | 13/400 [00:05<02:39,  2.42it/s, train score=0.0385, val score=0.0385, train loss=14, val loss=7.59]"
     ]
    },
    {
     "name": "stdout",
     "output_type": "stream",
     "text": [
      "<s>SELECT Winner FROM table WHERE St_Kilda_score = STR_VALUE_1</s> --->  Winner Winner Winner Winner Winner Winner Winner Winner Winner Winner Winner Winner Winner Winner Winner Winner Winner Winner Winner Winner Winner Winner Winner Winner Winner Winner Winner Winner Winner Winner Winner Winner Winner Winner Winner Winner Winner Winner Winner Winner\n",
      "<s>SELECT COUNT Wins FROM table WHERE Top-25 < NUM_VALUE_1 AND Events > NUM_VALUE_2 AND Top-5 < NUM_VALUE_3</s> --->  Winner Winner Winner Winner Winner Winner Winner Winner Winner Winner Winner Winner Winner Winner Winner Winner Winner Winner Winner Winner Winner Winner Winner Winner Winner Winner Winner Winner Winner Winner Winner Winner Winner Winner Winner Winner Winner Winner Winner Winner\n",
      "##############################\n"
     ]
    },
    {
     "name": "stderr",
     "output_type": "stream",
     "text": [
      "  4%|▎         | 14/400 [00:05<02:39,  2.41it/s, train score=0.0185, val score=0.0185, train loss=7.62, val loss=7.09]"
     ]
    },
    {
     "name": "stdout",
     "output_type": "stream",
     "text": [
      "<s>SELECT Winner FROM table WHERE St_Kilda_score = STR_VALUE_1</s> --->  Events Events Events Events Events Events Events Events Events Events Events Events Events Events Events Events Events Events Events Events Events Events Events Events Events Events Events Events Events Events Events Events Events Events Events Events Events Events Events Events\n",
      "<s>SELECT COUNT Wins FROM table WHERE Top-25 < NUM_VALUE_1 AND Events > NUM_VALUE_2 AND Top-5 < NUM_VALUE_3</s> --->  Events Events Events Events Events Events Events Events Events Events Events Events Events Events Events Events Events Events Events Events Events Events Events Events Events Events Events Events Events Events Events Events Events Events Events Events Events Events Events Events\n",
      "##############################\n"
     ]
    },
    {
     "name": "stderr",
     "output_type": "stream",
     "text": [
      "  4%|▍         | 15/400 [00:06<02:38,  2.43it/s, train score=0.264, val score=0.264, train loss=7.15, val loss=6.6]   "
     ]
    },
    {
     "name": "stdout",
     "output_type": "stream",
     "text": [
      "<s>SELECT Winner FROM table WHERE St_Kilda_score = STR_VALUE_1</s> --->                                         \n",
      "<s>SELECT COUNT Wins FROM table WHERE Top-25 < NUM_VALUE_1 AND Events > NUM_VALUE_2 AND Top-5 < NUM_VALUE_3</s> --->                                         \n",
      "##############################\n"
     ]
    },
    {
     "name": "stderr",
     "output_type": "stream",
     "text": [
      "  4%|▍         | 16/400 [00:06<02:39,  2.41it/s, train score=0.264, val score=0.264, train loss=6.63, val loss=6.67]"
     ]
    },
    {
     "name": "stdout",
     "output_type": "stream",
     "text": [
      "<s>SELECT Winner FROM table WHERE St_Kilda_score = STR_VALUE_1</s> --->                                         \n",
      "<s>SELECT COUNT Wins FROM table WHERE Top-25 < NUM_VALUE_1 AND Events > NUM_VALUE_2 AND Top-5 < NUM_VALUE_3</s> --->                                         \n",
      "##############################\n"
     ]
    },
    {
     "name": "stderr",
     "output_type": "stream",
     "text": [
      "  4%|▍         | 17/400 [00:07<02:39,  2.40it/s, train score=0.264, val score=0.264, train loss=6.62, val loss=5.73]"
     ]
    },
    {
     "name": "stdout",
     "output_type": "stream",
     "text": [
      "<s>SELECT Winner FROM table WHERE St_Kilda_score = STR_VALUE_1</s> --->                                         \n",
      "<s>SELECT COUNT Wins FROM table WHERE Top-25 < NUM_VALUE_1 AND Events > NUM_VALUE_2 AND Top-5 < NUM_VALUE_3</s> --->                                         \n",
      "##############################\n"
     ]
    },
    {
     "name": "stderr",
     "output_type": "stream",
     "text": [
      "  4%|▍         | 18/400 [00:07<02:37,  2.42it/s, train score=0.057, val score=0.037, train loss=5.8, val loss=5.32] "
     ]
    },
    {
     "name": "stdout",
     "output_type": "stream",
     "text": [
      "<s>SELECT Winner FROM table WHERE St_Kilda_score = STR_VALUE_1</s> --->  AND AND AND AND AND AND AND AND AND AND AND AND AND AND AND AND AND AND AND AND AND AND AND AND AND AND AND AND AND AND AND AND AND AND AND AND AND AND AND AND\n",
      "<s>SELECT COUNT Wins FROM table WHERE Top-25 < NUM_VALUE_1 AND Events > NUM_VALUE_2 AND Top-5 < NUM_VALUE_3</s> --->  AND AND AND AND AND AND AND AND AND AND AND AND AND AND AND AND AND AND AND AND AND AND AND AND AND AND AND AND AND AND AND AND AND AND AND AND AND AND AND AND\n",
      "##############################\n"
     ]
    },
    {
     "name": "stderr",
     "output_type": "stream",
     "text": [
      "  5%|▍         | 19/400 [00:08<02:36,  2.44it/s, train score=0.0755, val score=0.057, train loss=5.37, val loss=4.92]"
     ]
    },
    {
     "name": "stdout",
     "output_type": "stream",
     "text": [
      "<s>SELECT Winner FROM table WHERE St_Kilda_score = STR_VALUE_1</s> ---> SELECTSELECTSELECTSELECTSELECTSELECTSELECTSELECTSELECTSELECTSELECTSELECTSELECTSELECTSELECTSELECTSELECTSELECTSELECTSELECTSELECTSELECTSELECTSELECTSELECTSELECTSELECTSELECTSELECTSELECTSELECTSELECTSELECTSELECTSELECTSELECTSELECTSELECTSELECTSELECT\n",
      "<s>SELECT COUNT Wins FROM table WHERE Top-25 < NUM_VALUE_1 AND Events > NUM_VALUE_2 AND Top-5 < NUM_VALUE_3</s> ---> SELECTSELECTSELECTSELECTSELECTSELECTSELECTSELECTSELECTSELECTSELECTSELECTSELECTSELECTSELECTSELECTSELECTSELECTSELECTSELECTSELECTSELECTSELECTSELECTSELECTSELECTSELECTSELECTSELECTSELECTSELECTSELECTSELECTSELECTSELECTSELECTSELECTSELECTSELECTSELECT\n",
      "##############################\n"
     ]
    },
    {
     "name": "stderr",
     "output_type": "stream",
     "text": [
      "  5%|▌         | 20/400 [00:08<02:35,  2.45it/s, train score=0.0185, val score=0.057, train loss=4.98, val loss=4.45]"
     ]
    },
    {
     "name": "stdout",
     "output_type": "stream",
     "text": [
      "<s>SELECT Winner FROM table WHERE St_Kilda_score = STR_VALUE_1</s> ---> SELECTSELECTSELECTSELECTSELECTSELECTSELECTSELECTSELECTSELECTSELECTSELECTSELECTSELECTSELECTSELECTSELECTSELECTSELECTSELECTSELECTSELECTSELECTSELECTSELECTSELECTSELECTSELECTSELECTSELECTSELECTSELECTSELECTSELECTSELECTSELECTSELECTSELECTSELECTSELECT\n",
      "<s>SELECT COUNT Wins FROM table WHERE Top-25 < NUM_VALUE_1 AND Events > NUM_VALUE_2 AND Top-5 < NUM_VALUE_3</s> ---> SELECTSELECTSELECTSELECTSELECTSELECTSELECTSELECTSELECTSELECTSELECTSELECTSELECTSELECTSELECTSELECTSELECTSELECTSELECTSELECTSELECTSELECTSELECTSELECTSELECTSELECTSELECTSELECTSELECTSELECTSELECTSELECTSELECTSELECTSELECTSELECTSELECTSELECTSELECTSELECT\n",
      "##############################\n"
     ]
    },
    {
     "name": "stderr",
     "output_type": "stream",
     "text": [
      "  5%|▌         | 21/400 [00:08<02:34,  2.46it/s, train score=0.037, val score=0.0185, train loss=4.5, val loss=3.86] "
     ]
    },
    {
     "name": "stdout",
     "output_type": "stream",
     "text": [
      "<s>SELECT Winner FROM table WHERE St_Kilda_score = STR_VALUE_1</s> ---> Top-25Top-25Top-25Top-25Top-25Top-25Top-25Top-25Top-25Top-25Top-25Top-25Top-25Top-25Top-25Top-25Top-25Top-25Top-25Top-25Top-25Top-25Top-25Top-25Top-25Top-25Top-25Top-25Top-25Top-25Top-25Top-25Top-25Top-25Top-25Top-25Top-25Top-25Top-25Top-25\n",
      "<s>SELECT COUNT Wins FROM table WHERE Top-25 < NUM_VALUE_1 AND Events > NUM_VALUE_2 AND Top-5 < NUM_VALUE_3</s> ---> Top-25Top-25Top-25Top-25Top-25Top-25Top-25Top-25Top-25Top-25Top-25Top-25Top-25Top-25Top-25Top-25Top-25Top-25Top-25Top-25Top-25Top-25Top-25Top-25Top-25Top-25Top-25Top-25Top-25Top-25Top-25Top-25Top-25Top-25Top-25Top-25Top-25Top-25Top-25Top-25\n",
      "##############################\n"
     ]
    },
    {
     "name": "stderr",
     "output_type": "stream",
     "text": [
      "  6%|▌         | 22/400 [00:09<02:32,  2.48it/s, train score=0.264, val score=0.264, train loss=3.9, val loss=3.3]  "
     ]
    },
    {
     "name": "stdout",
     "output_type": "stream",
     "text": [
      "<s>SELECT Winner FROM table WHERE St_Kilda_score = STR_VALUE_1</s> --->                                         \n",
      "<s>SELECT COUNT Wins FROM table WHERE Top-25 < NUM_VALUE_1 AND Events > NUM_VALUE_2 AND Top-5 < NUM_VALUE_3</s> --->                                         \n",
      "##############################\n"
     ]
    },
    {
     "name": "stderr",
     "output_type": "stream",
     "text": [
      "  6%|▌         | 23/400 [00:09<02:33,  2.46it/s, train score=0.264, val score=0.264, train loss=3.38, val loss=2.8]"
     ]
    },
    {
     "name": "stdout",
     "output_type": "stream",
     "text": [
      "<s>SELECT Winner FROM table WHERE St_Kilda_score = STR_VALUE_1</s> --->                                         \n",
      "<s>SELECT COUNT Wins FROM table WHERE Top-25 < NUM_VALUE_1 AND Events > NUM_VALUE_2 AND Top-5 < NUM_VALUE_3</s> --->                                         \n",
      "##############################\n"
     ]
    },
    {
     "name": "stderr",
     "output_type": "stream",
     "text": [
      "  6%|▌         | 24/400 [00:10<02:33,  2.45it/s, train score=0, val score=0, train loss=2.8, val loss=2.45]        "
     ]
    },
    {
     "name": "stdout",
     "output_type": "stream",
     "text": [
      "<s>SELECT Winner FROM table WHERE St_Kilda_score = STR_VALUE_1</s> ---> \n",
      "<s>SELECT COUNT Wins FROM table WHERE Top-25 < NUM_VALUE_1 AND Events > NUM_VALUE_2 AND Top-5 < NUM_VALUE_3</s> ---> \n",
      "##############################\n"
     ]
    },
    {
     "name": "stderr",
     "output_type": "stream",
     "text": [
      "  6%|▋         | 25/400 [00:10<02:33,  2.44it/s, train score=0, val score=0, train loss=2.47, val loss=2.47]"
     ]
    },
    {
     "name": "stdout",
     "output_type": "stream",
     "text": [
      "<s>SELECT Winner FROM table WHERE St_Kilda_score = STR_VALUE_1</s> ---> \n",
      "<s>SELECT COUNT Wins FROM table WHERE Top-25 < NUM_VALUE_1 AND Events > NUM_VALUE_2 AND Top-5 < NUM_VALUE_3</s> ---> \n",
      "##############################\n"
     ]
    },
    {
     "name": "stderr",
     "output_type": "stream",
     "text": [
      "  6%|▋         | 26/400 [00:10<02:32,  2.45it/s, train score=0, val score=0, train loss=2.47, val loss=2.41]"
     ]
    },
    {
     "name": "stdout",
     "output_type": "stream",
     "text": [
      "<s>SELECT Winner FROM table WHERE St_Kilda_score = STR_VALUE_1</s> ---> \n",
      "<s>SELECT COUNT Wins FROM table WHERE Top-25 < NUM_VALUE_1 AND Events > NUM_VALUE_2 AND Top-5 < NUM_VALUE_3</s> ---> \n",
      "##############################\n"
     ]
    },
    {
     "name": "stderr",
     "output_type": "stream",
     "text": [
      "  7%|▋         | 27/400 [00:11<02:32,  2.45it/s, train score=0.0185, val score=0, train loss=2.56, val loss=2.29]"
     ]
    },
    {
     "name": "stdout",
     "output_type": "stream",
     "text": [
      "<s>SELECT Winner FROM table WHERE St_Kilda_score = STR_VALUE_1</s> ---> \n",
      "<s>SELECT COUNT Wins FROM table WHERE Top-25 < NUM_VALUE_1 AND Events > NUM_VALUE_2 AND Top-5 < NUM_VALUE_3</s> ---> \n",
      "##############################\n"
     ]
    },
    {
     "name": "stderr",
     "output_type": "stream",
     "text": [
      "  7%|▋         | 28/400 [00:11<02:31,  2.45it/s, train score=0.188, val score=0.264, train loss=2.31, val loss=2.56]"
     ]
    },
    {
     "name": "stdout",
     "output_type": "stream",
     "text": [
      "<s>SELECT Winner FROM table WHERE St_Kilda_score = STR_VALUE_1</s> --->                                         \n",
      "<s>SELECT COUNT Wins FROM table WHERE Top-25 < NUM_VALUE_1 AND Events > NUM_VALUE_2 AND Top-5 < NUM_VALUE_3</s> --->                                         \n",
      "##############################\n"
     ]
    },
    {
     "name": "stderr",
     "output_type": "stream",
     "text": [
      "  7%|▋         | 29/400 [00:12<02:36,  2.37it/s, train score=0, val score=0, train loss=2.56, val loss=2.44]        "
     ]
    },
    {
     "name": "stdout",
     "output_type": "stream",
     "text": [
      "<s>SELECT Winner FROM table WHERE St_Kilda_score = STR_VALUE_1</s> ---> \n",
      "<s>SELECT COUNT Wins FROM table WHERE Top-25 < NUM_VALUE_1 AND Events > NUM_VALUE_2 AND Top-5 < NUM_VALUE_3</s> ---> \n",
      "##############################\n"
     ]
    },
    {
     "name": "stderr",
     "output_type": "stream",
     "text": [
      "  8%|▊         | 30/400 [00:12<02:33,  2.42it/s, train score=0, val score=0, train loss=2.44, val loss=2.53]"
     ]
    },
    {
     "name": "stdout",
     "output_type": "stream",
     "text": [
      "<s>SELECT Winner FROM table WHERE St_Kilda_score = STR_VALUE_1</s> ---> \n",
      "<s>SELECT COUNT Wins FROM table WHERE Top-25 < NUM_VALUE_1 AND Events > NUM_VALUE_2 AND Top-5 < NUM_VALUE_3</s> ---> \n",
      "##############################\n"
     ]
    },
    {
     "name": "stderr",
     "output_type": "stream",
     "text": [
      "  8%|▊         | 31/400 [00:12<02:32,  2.42it/s, train score=0, val score=0, train loss=2.49, val loss=2.42]"
     ]
    },
    {
     "name": "stdout",
     "output_type": "stream",
     "text": [
      "<s>SELECT Winner FROM table WHERE St_Kilda_score = STR_VALUE_1</s> ---> \n",
      "<s>SELECT COUNT Wins FROM table WHERE Top-25 < NUM_VALUE_1 AND Events > NUM_VALUE_2 AND Top-5 < NUM_VALUE_3</s> ---> \n",
      "##############################\n"
     ]
    },
    {
     "name": "stderr",
     "output_type": "stream",
     "text": [
      "  8%|▊         | 32/400 [00:13<02:31,  2.43it/s, train score=0, val score=0, train loss=2.4, val loss=2.22] "
     ]
    },
    {
     "name": "stdout",
     "output_type": "stream",
     "text": [
      "<s>SELECT Winner FROM table WHERE St_Kilda_score = STR_VALUE_1</s> ---> \n",
      "<s>SELECT COUNT Wins FROM table WHERE Top-25 < NUM_VALUE_1 AND Events > NUM_VALUE_2 AND Top-5 < NUM_VALUE_3</s> ---> \n",
      "##############################\n"
     ]
    },
    {
     "name": "stderr",
     "output_type": "stream",
     "text": [
      "  8%|▊         | 33/400 [00:13<02:31,  2.43it/s, train score=0, val score=0, train loss=2.23, val loss=2.17]"
     ]
    },
    {
     "name": "stdout",
     "output_type": "stream",
     "text": [
      "<s>SELECT Winner FROM table WHERE St_Kilda_score = STR_VALUE_1</s> ---> \n",
      "<s>SELECT COUNT Wins FROM table WHERE Top-25 < NUM_VALUE_1 AND Events > NUM_VALUE_2 AND Top-5 < NUM_VALUE_3</s> ---> \n",
      "##############################\n"
     ]
    },
    {
     "name": "stderr",
     "output_type": "stream",
     "text": [
      "  8%|▊         | 34/400 [00:14<02:30,  2.43it/s, train score=0.113, val score=0, train loss=2.16, val loss=2.22]"
     ]
    },
    {
     "name": "stdout",
     "output_type": "stream",
     "text": [
      "<s>SELECT Winner FROM table WHERE St_Kilda_score = STR_VALUE_1</s> ---> \n",
      "<s>SELECT COUNT Wins FROM table WHERE Top-25 < NUM_VALUE_1 AND Events > NUM_VALUE_2 AND Top-5 < NUM_VALUE_3</s> ---> \n",
      "##############################\n"
     ]
    },
    {
     "name": "stderr",
     "output_type": "stream",
     "text": [
      "  9%|▉         | 35/400 [00:14<02:29,  2.44it/s, train score=0, val score=0, train loss=2.17, val loss=2.14]    "
     ]
    },
    {
     "name": "stdout",
     "output_type": "stream",
     "text": [
      "<s>SELECT Winner FROM table WHERE St_Kilda_score = STR_VALUE_1</s> ---> \n",
      "<s>SELECT COUNT Wins FROM table WHERE Top-25 < NUM_VALUE_1 AND Events > NUM_VALUE_2 AND Top-5 < NUM_VALUE_3</s> ---> \n",
      "##############################\n"
     ]
    },
    {
     "name": "stderr",
     "output_type": "stream",
     "text": [
      "  9%|▉         | 36/400 [00:14<02:27,  2.47it/s, train score=0, val score=0, train loss=2.16, val loss=2.08]"
     ]
    },
    {
     "name": "stdout",
     "output_type": "stream",
     "text": [
      "<s>SELECT Winner FROM table WHERE St_Kilda_score = STR_VALUE_1</s> ---> \n",
      "<s>SELECT COUNT Wins FROM table WHERE Top-25 < NUM_VALUE_1 AND Events > NUM_VALUE_2 AND Top-5 < NUM_VALUE_3</s> ---> \n",
      "##############################\n"
     ]
    },
    {
     "name": "stderr",
     "output_type": "stream",
     "text": [
      "  9%|▉         | 37/400 [00:15<02:28,  2.44it/s, train score=0, val score=0, train loss=2.08, val loss=2.09]"
     ]
    },
    {
     "name": "stdout",
     "output_type": "stream",
     "text": [
      "<s>SELECT Winner FROM table WHERE St_Kilda_score = STR_VALUE_1</s> ---> \n",
      "<s>SELECT COUNT Wins FROM table WHERE Top-25 < NUM_VALUE_1 AND Events > NUM_VALUE_2 AND Top-5 < NUM_VALUE_3</s> ---> \n",
      "##############################\n"
     ]
    },
    {
     "name": "stderr",
     "output_type": "stream",
     "text": [
      " 10%|▉         | 38/400 [00:15<02:29,  2.43it/s, train score=0, val score=0, train loss=2.09, val loss=2.1] "
     ]
    },
    {
     "name": "stdout",
     "output_type": "stream",
     "text": [
      "<s>SELECT Winner FROM table WHERE St_Kilda_score = STR_VALUE_1</s> ---> \n",
      "<s>SELECT COUNT Wins FROM table WHERE Top-25 < NUM_VALUE_1 AND Events > NUM_VALUE_2 AND Top-5 < NUM_VALUE_3</s> ---> \n",
      "##############################\n"
     ]
    },
    {
     "name": "stderr",
     "output_type": "stream",
     "text": [
      " 10%|▉         | 39/400 [00:16<02:27,  2.44it/s, train score=0, val score=0, train loss=2.13, val loss=2.1]"
     ]
    },
    {
     "name": "stdout",
     "output_type": "stream",
     "text": [
      "<s>SELECT Winner FROM table WHERE St_Kilda_score = STR_VALUE_1</s> ---> \n",
      "<s>SELECT COUNT Wins FROM table WHERE Top-25 < NUM_VALUE_1 AND Events > NUM_VALUE_2 AND Top-5 < NUM_VALUE_3</s> ---> \n",
      "##############################\n"
     ]
    },
    {
     "name": "stderr",
     "output_type": "stream",
     "text": [
      " 10%|█         | 40/400 [00:16<02:27,  2.44it/s, train score=0, val score=0, train loss=2.13, val loss=2.07]"
     ]
    },
    {
     "name": "stdout",
     "output_type": "stream",
     "text": [
      "<s>SELECT Winner FROM table WHERE St_Kilda_score = STR_VALUE_1</s> ---> \n",
      "<s>SELECT COUNT Wins FROM table WHERE Top-25 < NUM_VALUE_1 AND Events > NUM_VALUE_2 AND Top-5 < NUM_VALUE_3</s> ---> \n",
      "##############################\n"
     ]
    },
    {
     "name": "stderr",
     "output_type": "stream",
     "text": [
      " 10%|█         | 41/400 [00:17<02:28,  2.41it/s, train score=0, val score=0, train loss=2.08, val loss=2.05]"
     ]
    },
    {
     "name": "stdout",
     "output_type": "stream",
     "text": [
      "<s>SELECT Winner FROM table WHERE St_Kilda_score = STR_VALUE_1</s> ---> \n",
      "<s>SELECT COUNT Wins FROM table WHERE Top-25 < NUM_VALUE_1 AND Events > NUM_VALUE_2 AND Top-5 < NUM_VALUE_3</s> ---> \n",
      "##############################\n"
     ]
    },
    {
     "name": "stderr",
     "output_type": "stream",
     "text": [
      " 10%|█         | 42/400 [00:17<02:29,  2.40it/s, train score=0, val score=0, train loss=2.04, val loss=2.06]"
     ]
    },
    {
     "name": "stdout",
     "output_type": "stream",
     "text": [
      "<s>SELECT Winner FROM table WHERE St_Kilda_score = STR_VALUE_1</s> ---> \n",
      "<s>SELECT COUNT Wins FROM table WHERE Top-25 < NUM_VALUE_1 AND Events > NUM_VALUE_2 AND Top-5 < NUM_VALUE_3</s> ---> \n",
      "##############################\n"
     ]
    },
    {
     "name": "stderr",
     "output_type": "stream",
     "text": [
      " 11%|█         | 43/400 [00:17<02:28,  2.40it/s, train score=0, val score=0, train loss=2.08, val loss=2.08]"
     ]
    },
    {
     "name": "stdout",
     "output_type": "stream",
     "text": [
      "<s>SELECT Winner FROM table WHERE St_Kilda_score = STR_VALUE_1</s> ---> \n",
      "<s>SELECT COUNT Wins FROM table WHERE Top-25 < NUM_VALUE_1 AND Events > NUM_VALUE_2 AND Top-5 < NUM_VALUE_3</s> ---> \n",
      "##############################\n"
     ]
    },
    {
     "name": "stderr",
     "output_type": "stream",
     "text": [
      " 11%|█         | 44/400 [00:18<02:27,  2.42it/s, train score=0, val score=0, train loss=2.1, val loss=2.07] "
     ]
    },
    {
     "name": "stdout",
     "output_type": "stream",
     "text": [
      "<s>SELECT Winner FROM table WHERE St_Kilda_score = STR_VALUE_1</s> ---> \n",
      "<s>SELECT COUNT Wins FROM table WHERE Top-25 < NUM_VALUE_1 AND Events > NUM_VALUE_2 AND Top-5 < NUM_VALUE_3</s> ---> \n",
      "##############################\n"
     ]
    },
    {
     "name": "stderr",
     "output_type": "stream",
     "text": [
      " 11%|█▏        | 45/400 [00:18<02:26,  2.42it/s, train score=0, val score=0, train loss=2.09, val loss=2.05]"
     ]
    },
    {
     "name": "stdout",
     "output_type": "stream",
     "text": [
      "<s>SELECT Winner FROM table WHERE St_Kilda_score = STR_VALUE_1</s> ---> \n",
      "<s>SELECT COUNT Wins FROM table WHERE Top-25 < NUM_VALUE_1 AND Events > NUM_VALUE_2 AND Top-5 < NUM_VALUE_3</s> ---> \n",
      "##############################\n"
     ]
    },
    {
     "name": "stderr",
     "output_type": "stream",
     "text": [
      " 12%|█▏        | 46/400 [00:19<02:26,  2.41it/s, train score=0, val score=0, train loss=2.04, val loss=2.05]"
     ]
    },
    {
     "name": "stdout",
     "output_type": "stream",
     "text": [
      "<s>SELECT Winner FROM table WHERE St_Kilda_score = STR_VALUE_1</s> ---> \n",
      "<s>SELECT COUNT Wins FROM table WHERE Top-25 < NUM_VALUE_1 AND Events > NUM_VALUE_2 AND Top-5 < NUM_VALUE_3</s> ---> \n",
      "##############################\n"
     ]
    },
    {
     "name": "stderr",
     "output_type": "stream",
     "text": [
      " 12%|█▏        | 47/400 [00:19<02:32,  2.31it/s, train score=0, val score=0, train loss=2.06, val loss=2.05]"
     ]
    },
    {
     "name": "stdout",
     "output_type": "stream",
     "text": [
      "<s>SELECT Winner FROM table WHERE St_Kilda_score = STR_VALUE_1</s> ---> \n",
      "<s>SELECT COUNT Wins FROM table WHERE Top-25 < NUM_VALUE_1 AND Events > NUM_VALUE_2 AND Top-5 < NUM_VALUE_3</s> ---> \n",
      "##############################\n"
     ]
    },
    {
     "name": "stderr",
     "output_type": "stream",
     "text": [
      " 12%|█▏        | 48/400 [00:20<02:29,  2.35it/s, train score=0, val score=0, train loss=2.1, val loss=2.05] "
     ]
    },
    {
     "name": "stdout",
     "output_type": "stream",
     "text": [
      "<s>SELECT Winner FROM table WHERE St_Kilda_score = STR_VALUE_1</s> ---> \n",
      "<s>SELECT COUNT Wins FROM table WHERE Top-25 < NUM_VALUE_1 AND Events > NUM_VALUE_2 AND Top-5 < NUM_VALUE_3</s> ---> \n",
      "##############################\n"
     ]
    },
    {
     "name": "stderr",
     "output_type": "stream",
     "text": [
      " 12%|█▏        | 49/400 [00:20<02:27,  2.39it/s, train score=0, val score=0, train loss=2.05, val loss=2.03]"
     ]
    },
    {
     "name": "stdout",
     "output_type": "stream",
     "text": [
      "<s>SELECT Winner FROM table WHERE St_Kilda_score = STR_VALUE_1</s> ---> \n",
      "<s>SELECT COUNT Wins FROM table WHERE Top-25 < NUM_VALUE_1 AND Events > NUM_VALUE_2 AND Top-5 < NUM_VALUE_3</s> ---> \n",
      "##############################\n"
     ]
    },
    {
     "name": "stderr",
     "output_type": "stream",
     "text": [
      " 12%|█▎        | 50/400 [00:20<02:25,  2.41it/s, train score=0, val score=0, train loss=2.04, val loss=2.03]"
     ]
    },
    {
     "name": "stdout",
     "output_type": "stream",
     "text": [
      "<s>SELECT Winner FROM table WHERE St_Kilda_score = STR_VALUE_1</s> ---> \n",
      "<s>SELECT COUNT Wins FROM table WHERE Top-25 < NUM_VALUE_1 AND Events > NUM_VALUE_2 AND Top-5 < NUM_VALUE_3</s> ---> \n",
      "##############################\n"
     ]
    },
    {
     "name": "stderr",
     "output_type": "stream",
     "text": [
      " 13%|█▎        | 51/400 [00:21<02:23,  2.42it/s, train score=0, val score=0, train loss=1.99, val loss=2.03]"
     ]
    },
    {
     "name": "stdout",
     "output_type": "stream",
     "text": [
      "<s>SELECT Winner FROM table WHERE St_Kilda_score = STR_VALUE_1</s> ---> \n",
      "<s>SELECT COUNT Wins FROM table WHERE Top-25 < NUM_VALUE_1 AND Events > NUM_VALUE_2 AND Top-5 < NUM_VALUE_3</s> ---> \n",
      "##############################\n"
     ]
    },
    {
     "name": "stderr",
     "output_type": "stream",
     "text": [
      " 13%|█▎        | 52/400 [00:21<02:23,  2.43it/s, train score=0, val score=0, train loss=2.07, val loss=2.04]"
     ]
    },
    {
     "name": "stdout",
     "output_type": "stream",
     "text": [
      "<s>SELECT Winner FROM table WHERE St_Kilda_score = STR_VALUE_1</s> ---> \n",
      "<s>SELECT COUNT Wins FROM table WHERE Top-25 < NUM_VALUE_1 AND Events > NUM_VALUE_2 AND Top-5 < NUM_VALUE_3</s> ---> \n",
      "##############################\n"
     ]
    },
    {
     "name": "stderr",
     "output_type": "stream",
     "text": [
      " 13%|█▎        | 53/400 [00:22<02:22,  2.44it/s, train score=0, val score=0, train loss=2.03, val loss=2.03]"
     ]
    },
    {
     "name": "stdout",
     "output_type": "stream",
     "text": [
      "<s>SELECT Winner FROM table WHERE St_Kilda_score = STR_VALUE_1</s> ---> \n",
      "<s>SELECT COUNT Wins FROM table WHERE Top-25 < NUM_VALUE_1 AND Events > NUM_VALUE_2 AND Top-5 < NUM_VALUE_3</s> ---> \n",
      "##############################\n"
     ]
    },
    {
     "name": "stderr",
     "output_type": "stream",
     "text": [
      " 14%|█▎        | 54/400 [00:22<02:25,  2.38it/s, train score=0, val score=0, train loss=2.04, val loss=2.02]"
     ]
    },
    {
     "name": "stdout",
     "output_type": "stream",
     "text": [
      "<s>SELECT Winner FROM table WHERE St_Kilda_score = STR_VALUE_1</s> ---> \n",
      "<s>SELECT COUNT Wins FROM table WHERE Top-25 < NUM_VALUE_1 AND Events > NUM_VALUE_2 AND Top-5 < NUM_VALUE_3</s> ---> \n",
      "##############################\n"
     ]
    },
    {
     "name": "stderr",
     "output_type": "stream",
     "text": [
      " 14%|█▍        | 55/400 [00:22<02:23,  2.41it/s, train score=0, val score=0, train loss=2.02, val loss=2.02]"
     ]
    },
    {
     "name": "stdout",
     "output_type": "stream",
     "text": [
      "<s>SELECT Winner FROM table WHERE St_Kilda_score = STR_VALUE_1</s> ---> \n",
      "<s>SELECT COUNT Wins FROM table WHERE Top-25 < NUM_VALUE_1 AND Events > NUM_VALUE_2 AND Top-5 < NUM_VALUE_3</s> ---> \n",
      "##############################\n"
     ]
    },
    {
     "name": "stderr",
     "output_type": "stream",
     "text": [
      " 14%|█▍        | 56/400 [00:23<02:21,  2.43it/s, train score=0, val score=0, train loss=2.05, val loss=2.02]"
     ]
    },
    {
     "name": "stdout",
     "output_type": "stream",
     "text": [
      "<s>SELECT Winner FROM table WHERE St_Kilda_score = STR_VALUE_1</s> ---> \n",
      "<s>SELECT COUNT Wins FROM table WHERE Top-25 < NUM_VALUE_1 AND Events > NUM_VALUE_2 AND Top-5 < NUM_VALUE_3</s> ---> \n",
      "##############################\n"
     ]
    },
    {
     "name": "stderr",
     "output_type": "stream",
     "text": [
      " 14%|█▍        | 57/400 [00:23<02:20,  2.43it/s, train score=0, val score=0, train loss=2, val loss=2.02]   "
     ]
    },
    {
     "name": "stdout",
     "output_type": "stream",
     "text": [
      "<s>SELECT Winner FROM table WHERE St_Kilda_score = STR_VALUE_1</s> ---> \n",
      "<s>SELECT COUNT Wins FROM table WHERE Top-25 < NUM_VALUE_1 AND Events > NUM_VALUE_2 AND Top-5 < NUM_VALUE_3</s> ---> \n",
      "##############################\n"
     ]
    },
    {
     "name": "stderr",
     "output_type": "stream",
     "text": [
      " 14%|█▍        | 58/400 [00:24<02:20,  2.44it/s, train score=0, val score=0, train loss=2, val loss=2.01]"
     ]
    },
    {
     "name": "stdout",
     "output_type": "stream",
     "text": [
      "<s>SELECT Winner FROM table WHERE St_Kilda_score = STR_VALUE_1</s> ---> \n",
      "<s>SELECT COUNT Wins FROM table WHERE Top-25 < NUM_VALUE_1 AND Events > NUM_VALUE_2 AND Top-5 < NUM_VALUE_3</s> ---> \n",
      "##############################\n"
     ]
    },
    {
     "name": "stderr",
     "output_type": "stream",
     "text": [
      " 15%|█▍        | 59/400 [00:24<02:19,  2.45it/s, train score=0, val score=0, train loss=2.04, val loss=2.01]"
     ]
    },
    {
     "name": "stdout",
     "output_type": "stream",
     "text": [
      "<s>SELECT Winner FROM table WHERE St_Kilda_score = STR_VALUE_1</s> ---> \n",
      "<s>SELECT COUNT Wins FROM table WHERE Top-25 < NUM_VALUE_1 AND Events > NUM_VALUE_2 AND Top-5 < NUM_VALUE_3</s> ---> \n",
      "##############################\n"
     ]
    },
    {
     "name": "stderr",
     "output_type": "stream",
     "text": [
      " 15%|█▌        | 60/400 [00:24<02:18,  2.46it/s, train score=0, val score=0, train loss=2.02, val loss=2.02]"
     ]
    },
    {
     "name": "stdout",
     "output_type": "stream",
     "text": [
      "<s>SELECT Winner FROM table WHERE St_Kilda_score = STR_VALUE_1</s> ---> \n",
      "<s>SELECT COUNT Wins FROM table WHERE Top-25 < NUM_VALUE_1 AND Events > NUM_VALUE_2 AND Top-5 < NUM_VALUE_3</s> ---> \n",
      "##############################\n"
     ]
    },
    {
     "name": "stderr",
     "output_type": "stream",
     "text": [
      " 15%|█▌        | 61/400 [00:25<02:17,  2.46it/s, train score=0, val score=0, train loss=2.02, val loss=2.02]"
     ]
    },
    {
     "name": "stdout",
     "output_type": "stream",
     "text": [
      "<s>SELECT Winner FROM table WHERE St_Kilda_score = STR_VALUE_1</s> ---> \n",
      "<s>SELECT COUNT Wins FROM table WHERE Top-25 < NUM_VALUE_1 AND Events > NUM_VALUE_2 AND Top-5 < NUM_VALUE_3</s> ---> \n",
      "##############################\n"
     ]
    },
    {
     "name": "stderr",
     "output_type": "stream",
     "text": [
      " 16%|█▌        | 62/400 [00:25<02:17,  2.47it/s, train score=0, val score=0, train loss=2.04, val loss=2.01]"
     ]
    },
    {
     "name": "stdout",
     "output_type": "stream",
     "text": [
      "<s>SELECT Winner FROM table WHERE St_Kilda_score = STR_VALUE_1</s> ---> \n",
      "<s>SELECT COUNT Wins FROM table WHERE Top-25 < NUM_VALUE_1 AND Events > NUM_VALUE_2 AND Top-5 < NUM_VALUE_3</s> ---> \n",
      "##############################\n"
     ]
    },
    {
     "name": "stderr",
     "output_type": "stream",
     "text": [
      " 16%|█▌        | 63/400 [00:26<02:16,  2.47it/s, train score=0, val score=0, train loss=2.04, val loss=2.01]"
     ]
    },
    {
     "name": "stdout",
     "output_type": "stream",
     "text": [
      "<s>SELECT Winner FROM table WHERE St_Kilda_score = STR_VALUE_1</s> ---> \n",
      "<s>SELECT COUNT Wins FROM table WHERE Top-25 < NUM_VALUE_1 AND Events > NUM_VALUE_2 AND Top-5 < NUM_VALUE_3</s> ---> \n",
      "##############################\n"
     ]
    },
    {
     "name": "stderr",
     "output_type": "stream",
     "text": [
      " 16%|█▌        | 64/400 [00:26<02:16,  2.46it/s, train score=0, val score=0, train loss=2.01, val loss=2.01]"
     ]
    },
    {
     "name": "stdout",
     "output_type": "stream",
     "text": [
      "<s>SELECT Winner FROM table WHERE St_Kilda_score = STR_VALUE_1</s> ---> \n",
      "<s>SELECT COUNT Wins FROM table WHERE Top-25 < NUM_VALUE_1 AND Events > NUM_VALUE_2 AND Top-5 < NUM_VALUE_3</s> ---> \n",
      "##############################\n"
     ]
    },
    {
     "name": "stderr",
     "output_type": "stream",
     "text": [
      " 16%|█▋        | 65/400 [00:26<02:16,  2.46it/s, train score=0, val score=0, train loss=1.98, val loss=2.01]"
     ]
    },
    {
     "name": "stdout",
     "output_type": "stream",
     "text": [
      "<s>SELECT Winner FROM table WHERE St_Kilda_score = STR_VALUE_1</s> ---> \n",
      "<s>SELECT COUNT Wins FROM table WHERE Top-25 < NUM_VALUE_1 AND Events > NUM_VALUE_2 AND Top-5 < NUM_VALUE_3</s> ---> \n",
      "##############################\n"
     ]
    },
    {
     "name": "stderr",
     "output_type": "stream",
     "text": [
      " 16%|█▋        | 66/400 [00:27<02:17,  2.42it/s, train score=0, val score=0, train loss=2.03, val loss=2.01]"
     ]
    },
    {
     "name": "stdout",
     "output_type": "stream",
     "text": [
      "<s>SELECT Winner FROM table WHERE St_Kilda_score = STR_VALUE_1</s> ---> \n",
      "<s>SELECT COUNT Wins FROM table WHERE Top-25 < NUM_VALUE_1 AND Events > NUM_VALUE_2 AND Top-5 < NUM_VALUE_3</s> ---> \n",
      "##############################\n"
     ]
    },
    {
     "name": "stderr",
     "output_type": "stream",
     "text": [
      " 17%|█▋        | 67/400 [00:27<02:18,  2.41it/s, train score=0, val score=0, train loss=2.02, val loss=2.01]"
     ]
    },
    {
     "name": "stdout",
     "output_type": "stream",
     "text": [
      "<s>SELECT Winner FROM table WHERE St_Kilda_score = STR_VALUE_1</s> ---> \n",
      "<s>SELECT COUNT Wins FROM table WHERE Top-25 < NUM_VALUE_1 AND Events > NUM_VALUE_2 AND Top-5 < NUM_VALUE_3</s> ---> \n",
      "##############################\n"
     ]
    },
    {
     "name": "stderr",
     "output_type": "stream",
     "text": [
      " 17%|█▋        | 68/400 [00:28<02:16,  2.43it/s, train score=0, val score=0, train loss=2.03, val loss=2.01]"
     ]
    },
    {
     "name": "stdout",
     "output_type": "stream",
     "text": [
      "<s>SELECT Winner FROM table WHERE St_Kilda_score = STR_VALUE_1</s> ---> \n",
      "<s>SELECT COUNT Wins FROM table WHERE Top-25 < NUM_VALUE_1 AND Events > NUM_VALUE_2 AND Top-5 < NUM_VALUE_3</s> ---> \n",
      "##############################\n"
     ]
    },
    {
     "name": "stderr",
     "output_type": "stream",
     "text": [
      " 17%|█▋        | 69/400 [00:28<02:15,  2.44it/s, train score=0, val score=0, train loss=2.02, val loss=2.01]"
     ]
    },
    {
     "name": "stdout",
     "output_type": "stream",
     "text": [
      "<s>SELECT Winner FROM table WHERE St_Kilda_score = STR_VALUE_1</s> ---> \n",
      "<s>SELECT COUNT Wins FROM table WHERE Top-25 < NUM_VALUE_1 AND Events > NUM_VALUE_2 AND Top-5 < NUM_VALUE_3</s> ---> \n",
      "##############################\n"
     ]
    },
    {
     "name": "stderr",
     "output_type": "stream",
     "text": [
      " 18%|█▊        | 70/400 [00:29<02:15,  2.44it/s, train score=0, val score=0, train loss=2, val loss=2.01]   "
     ]
    },
    {
     "name": "stdout",
     "output_type": "stream",
     "text": [
      "<s>SELECT Winner FROM table WHERE St_Kilda_score = STR_VALUE_1</s> ---> \n",
      "<s>SELECT COUNT Wins FROM table WHERE Top-25 < NUM_VALUE_1 AND Events > NUM_VALUE_2 AND Top-5 < NUM_VALUE_3</s> ---> \n",
      "##############################\n"
     ]
    },
    {
     "name": "stderr",
     "output_type": "stream",
     "text": [
      " 18%|█▊        | 71/400 [00:29<02:14,  2.45it/s, train score=0, val score=0, train loss=2.01, val loss=2.01]"
     ]
    },
    {
     "name": "stdout",
     "output_type": "stream",
     "text": [
      "<s>SELECT Winner FROM table WHERE St_Kilda_score = STR_VALUE_1</s> ---> \n",
      "<s>SELECT COUNT Wins FROM table WHERE Top-25 < NUM_VALUE_1 AND Events > NUM_VALUE_2 AND Top-5 < NUM_VALUE_3</s> ---> \n",
      "##############################\n"
     ]
    },
    {
     "name": "stderr",
     "output_type": "stream",
     "text": [
      " 18%|█▊        | 72/400 [00:29<02:13,  2.45it/s, train score=0, val score=0, train loss=2, val loss=2.01]   "
     ]
    },
    {
     "name": "stdout",
     "output_type": "stream",
     "text": [
      "<s>SELECT Winner FROM table WHERE St_Kilda_score = STR_VALUE_1</s> ---> \n",
      "<s>SELECT COUNT Wins FROM table WHERE Top-25 < NUM_VALUE_1 AND Events > NUM_VALUE_2 AND Top-5 < NUM_VALUE_3</s> ---> \n",
      "##############################\n"
     ]
    },
    {
     "name": "stderr",
     "output_type": "stream",
     "text": [
      " 18%|█▊        | 73/400 [00:30<02:13,  2.46it/s, train score=0, val score=0, train loss=2, val loss=2.01]"
     ]
    },
    {
     "name": "stdout",
     "output_type": "stream",
     "text": [
      "<s>SELECT Winner FROM table WHERE St_Kilda_score = STR_VALUE_1</s> ---> \n",
      "<s>SELECT COUNT Wins FROM table WHERE Top-25 < NUM_VALUE_1 AND Events > NUM_VALUE_2 AND Top-5 < NUM_VALUE_3</s> ---> \n",
      "##############################\n"
     ]
    },
    {
     "name": "stderr",
     "output_type": "stream",
     "text": [
      " 18%|█▊        | 74/400 [00:30<02:12,  2.46it/s, train score=0, val score=0, train loss=2.01, val loss=2.01]"
     ]
    },
    {
     "name": "stdout",
     "output_type": "stream",
     "text": [
      "<s>SELECT Winner FROM table WHERE St_Kilda_score = STR_VALUE_1</s> ---> \n",
      "<s>SELECT COUNT Wins FROM table WHERE Top-25 < NUM_VALUE_1 AND Events > NUM_VALUE_2 AND Top-5 < NUM_VALUE_3</s> ---> \n",
      "##############################\n"
     ]
    },
    {
     "name": "stderr",
     "output_type": "stream",
     "text": [
      " 19%|█▉        | 75/400 [00:31<02:11,  2.47it/s, train score=0, val score=0, train loss=2, val loss=2.01]   "
     ]
    },
    {
     "name": "stdout",
     "output_type": "stream",
     "text": [
      "<s>SELECT Winner FROM table WHERE St_Kilda_score = STR_VALUE_1</s> ---> \n",
      "<s>SELECT COUNT Wins FROM table WHERE Top-25 < NUM_VALUE_1 AND Events > NUM_VALUE_2 AND Top-5 < NUM_VALUE_3</s> ---> \n",
      "##############################\n"
     ]
    },
    {
     "name": "stderr",
     "output_type": "stream",
     "text": [
      " 19%|█▉        | 76/400 [00:31<02:11,  2.47it/s, train score=0, val score=0, train loss=2.02, val loss=2.01]"
     ]
    },
    {
     "name": "stdout",
     "output_type": "stream",
     "text": [
      "<s>SELECT Winner FROM table WHERE St_Kilda_score = STR_VALUE_1</s> ---> \n",
      "<s>SELECT COUNT Wins FROM table WHERE Top-25 < NUM_VALUE_1 AND Events > NUM_VALUE_2 AND Top-5 < NUM_VALUE_3</s> ---> \n",
      "##############################\n"
     ]
    },
    {
     "name": "stderr",
     "output_type": "stream",
     "text": [
      " 19%|█▉        | 77/400 [00:31<02:10,  2.47it/s, train score=0, val score=0, train loss=2.01, val loss=2.01]"
     ]
    },
    {
     "name": "stdout",
     "output_type": "stream",
     "text": [
      "<s>SELECT Winner FROM table WHERE St_Kilda_score = STR_VALUE_1</s> ---> \n",
      "<s>SELECT COUNT Wins FROM table WHERE Top-25 < NUM_VALUE_1 AND Events > NUM_VALUE_2 AND Top-5 < NUM_VALUE_3</s> ---> \n",
      "##############################\n"
     ]
    },
    {
     "name": "stderr",
     "output_type": "stream",
     "text": [
      " 20%|█▉        | 78/400 [00:32<02:10,  2.47it/s, train score=0, val score=0, train loss=2.01, val loss=2.01]"
     ]
    },
    {
     "name": "stdout",
     "output_type": "stream",
     "text": [
      "<s>SELECT Winner FROM table WHERE St_Kilda_score = STR_VALUE_1</s> ---> \n",
      "<s>SELECT COUNT Wins FROM table WHERE Top-25 < NUM_VALUE_1 AND Events > NUM_VALUE_2 AND Top-5 < NUM_VALUE_3</s> ---> \n",
      "##############################\n"
     ]
    },
    {
     "name": "stderr",
     "output_type": "stream",
     "text": [
      " 20%|█▉        | 79/400 [00:32<02:13,  2.41it/s, train score=0, val score=0, train loss=2.02, val loss=2.01]"
     ]
    },
    {
     "name": "stdout",
     "output_type": "stream",
     "text": [
      "<s>SELECT Winner FROM table WHERE St_Kilda_score = STR_VALUE_1</s> ---> \n",
      "<s>SELECT COUNT Wins FROM table WHERE Top-25 < NUM_VALUE_1 AND Events > NUM_VALUE_2 AND Top-5 < NUM_VALUE_3</s> ---> \n",
      "##############################\n"
     ]
    },
    {
     "name": "stderr",
     "output_type": "stream",
     "text": [
      " 20%|██        | 80/400 [00:33<02:11,  2.43it/s, train score=0, val score=0, train loss=2, val loss=2.01]   "
     ]
    },
    {
     "name": "stdout",
     "output_type": "stream",
     "text": [
      "<s>SELECT Winner FROM table WHERE St_Kilda_score = STR_VALUE_1</s> ---> \n",
      "<s>SELECT COUNT Wins FROM table WHERE Top-25 < NUM_VALUE_1 AND Events > NUM_VALUE_2 AND Top-5 < NUM_VALUE_3</s> ---> \n",
      "##############################\n"
     ]
    },
    {
     "name": "stderr",
     "output_type": "stream",
     "text": [
      " 20%|██        | 81/400 [00:33<02:11,  2.43it/s, train score=0, val score=0, train loss=2.01, val loss=2.01]"
     ]
    },
    {
     "name": "stdout",
     "output_type": "stream",
     "text": [
      "<s>SELECT Winner FROM table WHERE St_Kilda_score = STR_VALUE_1</s> ---> \n",
      "<s>SELECT COUNT Wins FROM table WHERE Top-25 < NUM_VALUE_1 AND Events > NUM_VALUE_2 AND Top-5 < NUM_VALUE_3</s> ---> \n",
      "##############################\n"
     ]
    },
    {
     "name": "stderr",
     "output_type": "stream",
     "text": [
      " 20%|██        | 82/400 [00:33<02:10,  2.44it/s, train score=0, val score=0, train loss=2, val loss=2.01]   "
     ]
    },
    {
     "name": "stdout",
     "output_type": "stream",
     "text": [
      "<s>SELECT Winner FROM table WHERE St_Kilda_score = STR_VALUE_1</s> ---> \n",
      "<s>SELECT COUNT Wins FROM table WHERE Top-25 < NUM_VALUE_1 AND Events > NUM_VALUE_2 AND Top-5 < NUM_VALUE_3</s> ---> \n",
      "##############################\n"
     ]
    },
    {
     "name": "stderr",
     "output_type": "stream",
     "text": [
      " 21%|██        | 83/400 [00:34<02:09,  2.44it/s, train score=0, val score=0, train loss=2.01, val loss=2.01]"
     ]
    },
    {
     "name": "stdout",
     "output_type": "stream",
     "text": [
      "<s>SELECT Winner FROM table WHERE St_Kilda_score = STR_VALUE_1</s> ---> \n",
      "<s>SELECT COUNT Wins FROM table WHERE Top-25 < NUM_VALUE_1 AND Events > NUM_VALUE_2 AND Top-5 < NUM_VALUE_3</s> ---> \n",
      "##############################\n"
     ]
    },
    {
     "name": "stderr",
     "output_type": "stream",
     "text": [
      " 21%|██        | 84/400 [00:34<02:08,  2.45it/s, train score=0, val score=0, train loss=1.99, val loss=2.01]"
     ]
    },
    {
     "name": "stdout",
     "output_type": "stream",
     "text": [
      "<s>SELECT Winner FROM table WHERE St_Kilda_score = STR_VALUE_1</s> ---> \n",
      "<s>SELECT COUNT Wins FROM table WHERE Top-25 < NUM_VALUE_1 AND Events > NUM_VALUE_2 AND Top-5 < NUM_VALUE_3</s> ---> \n",
      "##############################\n"
     ]
    },
    {
     "name": "stderr",
     "output_type": "stream",
     "text": [
      " 21%|██▏       | 85/400 [00:35<02:09,  2.43it/s, train score=0, val score=0, train loss=1.99, val loss=2.01]"
     ]
    },
    {
     "name": "stdout",
     "output_type": "stream",
     "text": [
      "<s>SELECT Winner FROM table WHERE St_Kilda_score = STR_VALUE_1</s> ---> \n",
      "<s>SELECT COUNT Wins FROM table WHERE Top-25 < NUM_VALUE_1 AND Events > NUM_VALUE_2 AND Top-5 < NUM_VALUE_3</s> ---> \n",
      "##############################\n"
     ]
    },
    {
     "name": "stderr",
     "output_type": "stream",
     "text": [
      " 22%|██▏       | 86/400 [00:35<02:08,  2.44it/s, train score=0, val score=0, train loss=2, val loss=2.01]   "
     ]
    },
    {
     "name": "stdout",
     "output_type": "stream",
     "text": [
      "<s>SELECT Winner FROM table WHERE St_Kilda_score = STR_VALUE_1</s> ---> \n",
      "<s>SELECT COUNT Wins FROM table WHERE Top-25 < NUM_VALUE_1 AND Events > NUM_VALUE_2 AND Top-5 < NUM_VALUE_3</s> ---> \n",
      "##############################\n"
     ]
    },
    {
     "name": "stderr",
     "output_type": "stream",
     "text": [
      " 22%|██▏       | 87/400 [00:35<02:07,  2.45it/s, train score=0, val score=0, train loss=2.02, val loss=2.01]"
     ]
    },
    {
     "name": "stdout",
     "output_type": "stream",
     "text": [
      "<s>SELECT Winner FROM table WHERE St_Kilda_score = STR_VALUE_1</s> ---> \n",
      "<s>SELECT COUNT Wins FROM table WHERE Top-25 < NUM_VALUE_1 AND Events > NUM_VALUE_2 AND Top-5 < NUM_VALUE_3</s> ---> \n",
      "##############################\n"
     ]
    },
    {
     "name": "stderr",
     "output_type": "stream",
     "text": [
      " 22%|██▏       | 88/400 [00:36<02:07,  2.45it/s, train score=0, val score=0, train loss=2.02, val loss=2.01]"
     ]
    },
    {
     "name": "stdout",
     "output_type": "stream",
     "text": [
      "<s>SELECT Winner FROM table WHERE St_Kilda_score = STR_VALUE_1</s> ---> \n",
      "<s>SELECT COUNT Wins FROM table WHERE Top-25 < NUM_VALUE_1 AND Events > NUM_VALUE_2 AND Top-5 < NUM_VALUE_3</s> ---> \n",
      "##############################\n"
     ]
    },
    {
     "name": "stderr",
     "output_type": "stream",
     "text": [
      " 22%|██▏       | 89/400 [00:36<02:18,  2.24it/s, train score=0, val score=0, train loss=2.01, val loss=2]   "
     ]
    },
    {
     "name": "stdout",
     "output_type": "stream",
     "text": [
      "<s>SELECT Winner FROM table WHERE St_Kilda_score = STR_VALUE_1</s> ---> \n",
      "<s>SELECT COUNT Wins FROM table WHERE Top-25 < NUM_VALUE_1 AND Events > NUM_VALUE_2 AND Top-5 < NUM_VALUE_3</s> ---> \n",
      "##############################\n"
     ]
    },
    {
     "name": "stderr",
     "output_type": "stream",
     "text": [
      " 22%|██▎       | 90/400 [00:37<02:16,  2.28it/s, train score=0, val score=0, train loss=2.01, val loss=2]"
     ]
    },
    {
     "name": "stdout",
     "output_type": "stream",
     "text": [
      "<s>SELECT Winner FROM table WHERE St_Kilda_score = STR_VALUE_1</s> ---> \n",
      "<s>SELECT COUNT Wins FROM table WHERE Top-25 < NUM_VALUE_1 AND Events > NUM_VALUE_2 AND Top-5 < NUM_VALUE_3</s> ---> \n",
      "##############################\n"
     ]
    },
    {
     "name": "stderr",
     "output_type": "stream",
     "text": [
      " 23%|██▎       | 91/400 [00:37<02:17,  2.25it/s, train score=0, val score=0, train loss=2, val loss=2]   "
     ]
    },
    {
     "name": "stdout",
     "output_type": "stream",
     "text": [
      "<s>SELECT Winner FROM table WHERE St_Kilda_score = STR_VALUE_1</s> ---> \n",
      "<s>SELECT COUNT Wins FROM table WHERE Top-25 < NUM_VALUE_1 AND Events > NUM_VALUE_2 AND Top-5 < NUM_VALUE_3</s> ---> \n",
      "##############################\n"
     ]
    },
    {
     "name": "stderr",
     "output_type": "stream",
     "text": [
      " 23%|██▎       | 92/400 [00:38<02:13,  2.30it/s, train score=0, val score=0, train loss=2.04, val loss=2.01]"
     ]
    },
    {
     "name": "stdout",
     "output_type": "stream",
     "text": [
      "<s>SELECT Winner FROM table WHERE St_Kilda_score = STR_VALUE_1</s> ---> \n",
      "<s>SELECT COUNT Wins FROM table WHERE Top-25 < NUM_VALUE_1 AND Events > NUM_VALUE_2 AND Top-5 < NUM_VALUE_3</s> ---> \n",
      "##############################\n"
     ]
    },
    {
     "name": "stderr",
     "output_type": "stream",
     "text": [
      " 23%|██▎       | 93/400 [00:38<02:11,  2.33it/s, train score=0, val score=0, train loss=2.03, val loss=2.01]"
     ]
    },
    {
     "name": "stdout",
     "output_type": "stream",
     "text": [
      "<s>SELECT Winner FROM table WHERE St_Kilda_score = STR_VALUE_1</s> ---> \n",
      "<s>SELECT COUNT Wins FROM table WHERE Top-25 < NUM_VALUE_1 AND Events > NUM_VALUE_2 AND Top-5 < NUM_VALUE_3</s> ---> \n",
      "##############################\n"
     ]
    },
    {
     "name": "stderr",
     "output_type": "stream",
     "text": [
      " 24%|██▎       | 94/400 [00:39<02:09,  2.35it/s, train score=0, val score=0, train loss=2.03, val loss=2.01]"
     ]
    },
    {
     "name": "stdout",
     "output_type": "stream",
     "text": [
      "<s>SELECT Winner FROM table WHERE St_Kilda_score = STR_VALUE_1</s> ---> \n",
      "<s>SELECT COUNT Wins FROM table WHERE Top-25 < NUM_VALUE_1 AND Events > NUM_VALUE_2 AND Top-5 < NUM_VALUE_3</s> ---> \n",
      "##############################\n"
     ]
    },
    {
     "name": "stderr",
     "output_type": "stream",
     "text": [
      " 24%|██▍       | 95/400 [00:39<02:08,  2.38it/s, train score=0, val score=0, train loss=1.99, val loss=2.01]"
     ]
    },
    {
     "name": "stdout",
     "output_type": "stream",
     "text": [
      "<s>SELECT Winner FROM table WHERE St_Kilda_score = STR_VALUE_1</s> ---> \n",
      "<s>SELECT COUNT Wins FROM table WHERE Top-25 < NUM_VALUE_1 AND Events > NUM_VALUE_2 AND Top-5 < NUM_VALUE_3</s> ---> \n",
      "##############################\n"
     ]
    },
    {
     "name": "stderr",
     "output_type": "stream",
     "text": [
      " 24%|██▍       | 96/400 [00:39<02:11,  2.31it/s, train score=0, val score=0, train loss=1.98, val loss=2.01]"
     ]
    },
    {
     "name": "stdout",
     "output_type": "stream",
     "text": [
      "<s>SELECT Winner FROM table WHERE St_Kilda_score = STR_VALUE_1</s> ---> \n",
      "<s>SELECT COUNT Wins FROM table WHERE Top-25 < NUM_VALUE_1 AND Events > NUM_VALUE_2 AND Top-5 < NUM_VALUE_3</s> ---> \n",
      "##############################\n"
     ]
    },
    {
     "name": "stderr",
     "output_type": "stream",
     "text": [
      " 24%|██▍       | 97/400 [00:40<02:10,  2.32it/s, train score=0, val score=0, train loss=1.98, val loss=2.01]"
     ]
    },
    {
     "name": "stdout",
     "output_type": "stream",
     "text": [
      "<s>SELECT Winner FROM table WHERE St_Kilda_score = STR_VALUE_1</s> ---> \n",
      "<s>SELECT COUNT Wins FROM table WHERE Top-25 < NUM_VALUE_1 AND Events > NUM_VALUE_2 AND Top-5 < NUM_VALUE_3</s> ---> \n",
      "##############################\n"
     ]
    },
    {
     "name": "stderr",
     "output_type": "stream",
     "text": [
      " 24%|██▍       | 98/400 [00:40<02:08,  2.36it/s, train score=0, val score=0, train loss=1.97, val loss=2.01]"
     ]
    },
    {
     "name": "stdout",
     "output_type": "stream",
     "text": [
      "<s>SELECT Winner FROM table WHERE St_Kilda_score = STR_VALUE_1</s> ---> \n",
      "<s>SELECT COUNT Wins FROM table WHERE Top-25 < NUM_VALUE_1 AND Events > NUM_VALUE_2 AND Top-5 < NUM_VALUE_3</s> ---> \n",
      "##############################\n"
     ]
    },
    {
     "name": "stderr",
     "output_type": "stream",
     "text": [
      " 25%|██▍       | 99/400 [00:41<02:05,  2.39it/s, train score=0, val score=0, train loss=2.01, val loss=2.02]"
     ]
    },
    {
     "name": "stdout",
     "output_type": "stream",
     "text": [
      "<s>SELECT Winner FROM table WHERE St_Kilda_score = STR_VALUE_1</s> ---> \n",
      "<s>SELECT COUNT Wins FROM table WHERE Top-25 < NUM_VALUE_1 AND Events > NUM_VALUE_2 AND Top-5 < NUM_VALUE_3</s> ---> \n",
      "##############################\n"
     ]
    },
    {
     "name": "stderr",
     "output_type": "stream",
     "text": [
      " 25%|██▌       | 100/400 [00:41<02:04,  2.42it/s, train score=0, val score=0, train loss=1.98, val loss=2.02]"
     ]
    },
    {
     "name": "stdout",
     "output_type": "stream",
     "text": [
      "<s>SELECT Winner FROM table WHERE St_Kilda_score = STR_VALUE_1</s> ---> \n",
      "<s>SELECT COUNT Wins FROM table WHERE Top-25 < NUM_VALUE_1 AND Events > NUM_VALUE_2 AND Top-5 < NUM_VALUE_3</s> ---> \n",
      "##############################\n"
     ]
    },
    {
     "name": "stderr",
     "output_type": "stream",
     "text": [
      " 25%|██▌       | 101/400 [00:42<02:22,  2.10it/s, train score=0, val score=0, train loss=1.93, val loss=2.02]"
     ]
    },
    {
     "name": "stdout",
     "output_type": "stream",
     "text": [
      "<s>SELECT Winner FROM table WHERE St_Kilda_score = STR_VALUE_1</s> ---> \n",
      "<s>SELECT COUNT Wins FROM table WHERE Top-25 < NUM_VALUE_1 AND Events > NUM_VALUE_2 AND Top-5 < NUM_VALUE_3</s> ---> \n",
      "##############################\n"
     ]
    },
    {
     "name": "stderr",
     "output_type": "stream",
     "text": [
      " 26%|██▌       | 102/400 [00:42<02:16,  2.19it/s, train score=0, val score=0, train loss=1.98, val loss=2.02]"
     ]
    },
    {
     "name": "stdout",
     "output_type": "stream",
     "text": [
      "<s>SELECT Winner FROM table WHERE St_Kilda_score = STR_VALUE_1</s> ---> \n",
      "<s>SELECT COUNT Wins FROM table WHERE Top-25 < NUM_VALUE_1 AND Events > NUM_VALUE_2 AND Top-5 < NUM_VALUE_3</s> ---> \n",
      "##############################\n"
     ]
    },
    {
     "name": "stderr",
     "output_type": "stream",
     "text": [
      " 26%|██▌       | 103/400 [00:43<02:11,  2.26it/s, train score=0, val score=0, train loss=2.05, val loss=2.02]"
     ]
    },
    {
     "name": "stdout",
     "output_type": "stream",
     "text": [
      "<s>SELECT Winner FROM table WHERE St_Kilda_score = STR_VALUE_1</s> ---> \n",
      "<s>SELECT COUNT Wins FROM table WHERE Top-25 < NUM_VALUE_1 AND Events > NUM_VALUE_2 AND Top-5 < NUM_VALUE_3</s> ---> \n",
      "##############################\n"
     ]
    },
    {
     "name": "stderr",
     "output_type": "stream",
     "text": [
      " 26%|██▌       | 104/400 [00:43<02:15,  2.19it/s, train score=0, val score=0, train loss=1.93, val loss=2.02]"
     ]
    },
    {
     "name": "stdout",
     "output_type": "stream",
     "text": [
      "<s>SELECT Winner FROM table WHERE St_Kilda_score = STR_VALUE_1</s> ---> \n",
      "<s>SELECT COUNT Wins FROM table WHERE Top-25 < NUM_VALUE_1 AND Events > NUM_VALUE_2 AND Top-5 < NUM_VALUE_3</s> ---> \n",
      "##############################\n"
     ]
    },
    {
     "name": "stderr",
     "output_type": "stream",
     "text": [
      " 26%|██▋       | 105/400 [00:43<02:09,  2.27it/s, train score=0, val score=0, train loss=1.98, val loss=2.02]"
     ]
    },
    {
     "name": "stdout",
     "output_type": "stream",
     "text": [
      "<s>SELECT Winner FROM table WHERE St_Kilda_score = STR_VALUE_1</s> ---> \n",
      "<s>SELECT COUNT Wins FROM table WHERE Top-25 < NUM_VALUE_1 AND Events > NUM_VALUE_2 AND Top-5 < NUM_VALUE_3</s> ---> \n",
      "##############################\n"
     ]
    },
    {
     "name": "stderr",
     "output_type": "stream",
     "text": [
      " 26%|██▋       | 106/400 [00:44<02:06,  2.32it/s, train score=0, val score=0, train loss=1.97, val loss=2.02]"
     ]
    },
    {
     "name": "stdout",
     "output_type": "stream",
     "text": [
      "<s>SELECT Winner FROM table WHERE St_Kilda_score = STR_VALUE_1</s> ---> \n",
      "<s>SELECT COUNT Wins FROM table WHERE Top-25 < NUM_VALUE_1 AND Events > NUM_VALUE_2 AND Top-5 < NUM_VALUE_3</s> ---> \n",
      "##############################\n"
     ]
    },
    {
     "name": "stderr",
     "output_type": "stream",
     "text": [
      " 27%|██▋       | 107/400 [00:44<02:03,  2.37it/s, train score=0, val score=0, train loss=1.98, val loss=2.02]"
     ]
    },
    {
     "name": "stdout",
     "output_type": "stream",
     "text": [
      "<s>SELECT Winner FROM table WHERE St_Kilda_score = STR_VALUE_1</s> ---> \n",
      "<s>SELECT COUNT Wins FROM table WHERE Top-25 < NUM_VALUE_1 AND Events > NUM_VALUE_2 AND Top-5 < NUM_VALUE_3</s> ---> \n",
      "##############################\n"
     ]
    },
    {
     "name": "stderr",
     "output_type": "stream",
     "text": [
      " 27%|██▋       | 108/400 [00:45<02:06,  2.32it/s, train score=0, val score=0, train loss=1.98, val loss=2.03]"
     ]
    },
    {
     "name": "stdout",
     "output_type": "stream",
     "text": [
      "<s>SELECT Winner FROM table WHERE St_Kilda_score = STR_VALUE_1</s> ---> \n",
      "<s>SELECT COUNT Wins FROM table WHERE Top-25 < NUM_VALUE_1 AND Events > NUM_VALUE_2 AND Top-5 < NUM_VALUE_3</s> ---> \n",
      "##############################\n"
     ]
    },
    {
     "name": "stderr",
     "output_type": "stream",
     "text": [
      " 27%|██▋       | 109/400 [00:45<02:05,  2.33it/s, train score=0, val score=0, train loss=1.95, val loss=2.03]"
     ]
    },
    {
     "name": "stdout",
     "output_type": "stream",
     "text": [
      "<s>SELECT Winner FROM table WHERE St_Kilda_score = STR_VALUE_1</s> ---> \n",
      "<s>SELECT COUNT Wins FROM table WHERE Top-25 < NUM_VALUE_1 AND Events > NUM_VALUE_2 AND Top-5 < NUM_VALUE_3</s> ---> \n",
      "##############################\n"
     ]
    },
    {
     "name": "stderr",
     "output_type": "stream",
     "text": [
      " 28%|██▊       | 110/400 [00:46<02:06,  2.30it/s, train score=0, val score=0, train loss=1.99, val loss=2.03]"
     ]
    },
    {
     "name": "stdout",
     "output_type": "stream",
     "text": [
      "<s>SELECT Winner FROM table WHERE St_Kilda_score = STR_VALUE_1</s> ---> \n",
      "<s>SELECT COUNT Wins FROM table WHERE Top-25 < NUM_VALUE_1 AND Events > NUM_VALUE_2 AND Top-5 < NUM_VALUE_3</s> ---> \n",
      "##############################\n"
     ]
    },
    {
     "name": "stderr",
     "output_type": "stream",
     "text": [
      " 28%|██▊       | 111/400 [00:46<02:02,  2.35it/s, train score=0, val score=0, train loss=1.97, val loss=2.03]"
     ]
    },
    {
     "name": "stdout",
     "output_type": "stream",
     "text": [
      "<s>SELECT Winner FROM table WHERE St_Kilda_score = STR_VALUE_1</s> ---> \n",
      "<s>SELECT COUNT Wins FROM table WHERE Top-25 < NUM_VALUE_1 AND Events > NUM_VALUE_2 AND Top-5 < NUM_VALUE_3</s> ---> \n",
      "##############################\n"
     ]
    },
    {
     "name": "stderr",
     "output_type": "stream",
     "text": [
      " 28%|██▊       | 112/400 [00:46<02:02,  2.35it/s, train score=0, val score=0, train loss=2, val loss=2.04]   "
     ]
    },
    {
     "name": "stdout",
     "output_type": "stream",
     "text": [
      "<s>SELECT Winner FROM table WHERE St_Kilda_score = STR_VALUE_1</s> ---> \n",
      "<s>SELECT COUNT Wins FROM table WHERE Top-25 < NUM_VALUE_1 AND Events > NUM_VALUE_2 AND Top-5 < NUM_VALUE_3</s> ---> \n",
      "##############################\n"
     ]
    },
    {
     "name": "stderr",
     "output_type": "stream",
     "text": [
      " 28%|██▊       | 113/400 [00:47<02:01,  2.36it/s, train score=0, val score=0, train loss=1.96, val loss=2.05]"
     ]
    },
    {
     "name": "stdout",
     "output_type": "stream",
     "text": [
      "<s>SELECT Winner FROM table WHERE St_Kilda_score = STR_VALUE_1</s> ---> \n",
      "<s>SELECT COUNT Wins FROM table WHERE Top-25 < NUM_VALUE_1 AND Events > NUM_VALUE_2 AND Top-5 < NUM_VALUE_3</s> ---> \n",
      "##############################\n"
     ]
    },
    {
     "name": "stderr",
     "output_type": "stream",
     "text": [
      " 28%|██▊       | 114/400 [00:47<02:04,  2.29it/s, train score=0, val score=0, train loss=1.99, val loss=2.05]"
     ]
    },
    {
     "name": "stdout",
     "output_type": "stream",
     "text": [
      "<s>SELECT Winner FROM table WHERE St_Kilda_score = STR_VALUE_1</s> ---> \n",
      "<s>SELECT COUNT Wins FROM table WHERE Top-25 < NUM_VALUE_1 AND Events > NUM_VALUE_2 AND Top-5 < NUM_VALUE_3</s> ---> \n",
      "##############################\n"
     ]
    },
    {
     "name": "stderr",
     "output_type": "stream",
     "text": [
      " 29%|██▉       | 115/400 [00:48<02:01,  2.34it/s, train score=0, val score=0, train loss=2.05, val loss=2.05]"
     ]
    },
    {
     "name": "stdout",
     "output_type": "stream",
     "text": [
      "<s>SELECT Winner FROM table WHERE St_Kilda_score = STR_VALUE_1</s> ---> \n",
      "<s>SELECT COUNT Wins FROM table WHERE Top-25 < NUM_VALUE_1 AND Events > NUM_VALUE_2 AND Top-5 < NUM_VALUE_3</s> ---> \n",
      "##############################\n"
     ]
    },
    {
     "name": "stderr",
     "output_type": "stream",
     "text": [
      " 29%|██▉       | 116/400 [00:48<02:03,  2.30it/s, train score=0, val score=0, train loss=2.03, val loss=2.04]"
     ]
    },
    {
     "name": "stdout",
     "output_type": "stream",
     "text": [
      "<s>SELECT Winner FROM table WHERE St_Kilda_score = STR_VALUE_1</s> ---> \n",
      "<s>SELECT COUNT Wins FROM table WHERE Top-25 < NUM_VALUE_1 AND Events > NUM_VALUE_2 AND Top-5 < NUM_VALUE_3</s> ---> \n",
      "##############################\n"
     ]
    },
    {
     "name": "stderr",
     "output_type": "stream",
     "text": [
      " 29%|██▉       | 117/400 [00:49<02:01,  2.32it/s, train score=0, val score=0, train loss=1.94, val loss=2.04]"
     ]
    },
    {
     "name": "stdout",
     "output_type": "stream",
     "text": [
      "<s>SELECT Winner FROM table WHERE St_Kilda_score = STR_VALUE_1</s> ---> \n",
      "<s>SELECT COUNT Wins FROM table WHERE Top-25 < NUM_VALUE_1 AND Events > NUM_VALUE_2 AND Top-5 < NUM_VALUE_3</s> ---> \n",
      "##############################\n"
     ]
    },
    {
     "name": "stderr",
     "output_type": "stream",
     "text": [
      " 30%|██▉       | 118/400 [00:49<02:00,  2.34it/s, train score=0, val score=0, train loss=1.99, val loss=2.04]"
     ]
    },
    {
     "name": "stdout",
     "output_type": "stream",
     "text": [
      "<s>SELECT Winner FROM table WHERE St_Kilda_score = STR_VALUE_1</s> ---> \n",
      "<s>SELECT COUNT Wins FROM table WHERE Top-25 < NUM_VALUE_1 AND Events > NUM_VALUE_2 AND Top-5 < NUM_VALUE_3</s> ---> \n",
      "##############################\n"
     ]
    },
    {
     "name": "stderr",
     "output_type": "stream",
     "text": [
      " 30%|██▉       | 119/400 [00:49<01:57,  2.39it/s, train score=0, val score=0, train loss=1.94, val loss=2.03]"
     ]
    },
    {
     "name": "stdout",
     "output_type": "stream",
     "text": [
      "<s>SELECT Winner FROM table WHERE St_Kilda_score = STR_VALUE_1</s> ---> \n",
      "<s>SELECT COUNT Wins FROM table WHERE Top-25 < NUM_VALUE_1 AND Events > NUM_VALUE_2 AND Top-5 < NUM_VALUE_3</s> ---> \n",
      "##############################\n"
     ]
    },
    {
     "name": "stderr",
     "output_type": "stream",
     "text": [
      " 30%|███       | 120/400 [00:50<01:57,  2.39it/s, train score=0, val score=0, train loss=1.9, val loss=2.03] "
     ]
    },
    {
     "name": "stdout",
     "output_type": "stream",
     "text": [
      "<s>SELECT Winner FROM table WHERE St_Kilda_score = STR_VALUE_1</s> ---> \n",
      "<s>SELECT COUNT Wins FROM table WHERE Top-25 < NUM_VALUE_1 AND Events > NUM_VALUE_2 AND Top-5 < NUM_VALUE_3</s> ---> \n",
      "##############################\n"
     ]
    },
    {
     "name": "stderr",
     "output_type": "stream",
     "text": [
      " 30%|███       | 121/400 [00:50<01:54,  2.43it/s, train score=0, val score=0, train loss=1.92, val loss=2.03]"
     ]
    },
    {
     "name": "stdout",
     "output_type": "stream",
     "text": [
      "<s>SELECT Winner FROM table WHERE St_Kilda_score = STR_VALUE_1</s> ---> \n",
      "<s>SELECT COUNT Wins FROM table WHERE Top-25 < NUM_VALUE_1 AND Events > NUM_VALUE_2 AND Top-5 < NUM_VALUE_3</s> ---> \n",
      "##############################\n"
     ]
    },
    {
     "name": "stderr",
     "output_type": "stream",
     "text": [
      " 30%|███       | 122/400 [00:51<01:55,  2.41it/s, train score=0, val score=0, train loss=2.01, val loss=2.04]"
     ]
    },
    {
     "name": "stdout",
     "output_type": "stream",
     "text": [
      "<s>SELECT Winner FROM table WHERE St_Kilda_score = STR_VALUE_1</s> ---> \n",
      "<s>SELECT COUNT Wins FROM table WHERE Top-25 < NUM_VALUE_1 AND Events > NUM_VALUE_2 AND Top-5 < NUM_VALUE_3</s> ---> \n",
      "##############################\n"
     ]
    },
    {
     "name": "stderr",
     "output_type": "stream",
     "text": [
      " 31%|███       | 123/400 [00:51<01:53,  2.45it/s, train score=0, val score=0, train loss=2, val loss=2.05]   "
     ]
    },
    {
     "name": "stdout",
     "output_type": "stream",
     "text": [
      "<s>SELECT Winner FROM table WHERE St_Kilda_score = STR_VALUE_1</s> ---> \n",
      "<s>SELECT COUNT Wins FROM table WHERE Top-25 < NUM_VALUE_1 AND Events > NUM_VALUE_2 AND Top-5 < NUM_VALUE_3</s> ---> \n",
      "##############################\n"
     ]
    },
    {
     "name": "stderr",
     "output_type": "stream",
     "text": [
      " 31%|███       | 124/400 [00:51<01:53,  2.42it/s, train score=0, val score=0, train loss=1.94, val loss=2.06]"
     ]
    },
    {
     "name": "stdout",
     "output_type": "stream",
     "text": [
      "<s>SELECT Winner FROM table WHERE St_Kilda_score = STR_VALUE_1</s> ---> \n",
      "<s>SELECT COUNT Wins FROM table WHERE Top-25 < NUM_VALUE_1 AND Events > NUM_VALUE_2 AND Top-5 < NUM_VALUE_3</s> ---> \n",
      "##############################\n"
     ]
    },
    {
     "name": "stderr",
     "output_type": "stream",
     "text": [
      " 31%|███▏      | 125/400 [00:52<01:51,  2.46it/s, train score=0, val score=0, train loss=1.93, val loss=2.07]"
     ]
    },
    {
     "name": "stdout",
     "output_type": "stream",
     "text": [
      "<s>SELECT Winner FROM table WHERE St_Kilda_score = STR_VALUE_1</s> ---> \n",
      "<s>SELECT COUNT Wins FROM table WHERE Top-25 < NUM_VALUE_1 AND Events > NUM_VALUE_2 AND Top-5 < NUM_VALUE_3</s> ---> \n",
      "##############################\n"
     ]
    },
    {
     "name": "stderr",
     "output_type": "stream",
     "text": [
      " 32%|███▏      | 126/400 [00:52<01:52,  2.44it/s, train score=0, val score=0, train loss=1.89, val loss=2.09]"
     ]
    },
    {
     "name": "stdout",
     "output_type": "stream",
     "text": [
      "<s>SELECT Winner FROM table WHERE St_Kilda_score = STR_VALUE_1</s> ---> \n",
      "<s>SELECT COUNT Wins FROM table WHERE Top-25 < NUM_VALUE_1 AND Events > NUM_VALUE_2 AND Top-5 < NUM_VALUE_3</s> ---> \n",
      "##############################\n"
     ]
    },
    {
     "name": "stderr",
     "output_type": "stream",
     "text": [
      " 32%|███▏      | 127/400 [00:53<01:51,  2.44it/s, train score=0, val score=0, train loss=2.04, val loss=2.1] "
     ]
    },
    {
     "name": "stdout",
     "output_type": "stream",
     "text": [
      "<s>SELECT Winner FROM table WHERE St_Kilda_score = STR_VALUE_1</s> ---> \n",
      "<s>SELECT COUNT Wins FROM table WHERE Top-25 < NUM_VALUE_1 AND Events > NUM_VALUE_2 AND Top-5 < NUM_VALUE_3</s> ---> \n",
      "##############################\n"
     ]
    },
    {
     "name": "stderr",
     "output_type": "stream",
     "text": [
      " 32%|███▏      | 128/400 [00:53<01:54,  2.38it/s, train score=0, val score=0, train loss=2, val loss=2.1]   "
     ]
    },
    {
     "name": "stdout",
     "output_type": "stream",
     "text": [
      "<s>SELECT Winner FROM table WHERE St_Kilda_score = STR_VALUE_1</s> ---> \n",
      "<s>SELECT COUNT Wins FROM table WHERE Top-25 < NUM_VALUE_1 AND Events > NUM_VALUE_2 AND Top-5 < NUM_VALUE_3</s> ---> \n",
      "##############################\n"
     ]
    },
    {
     "name": "stderr",
     "output_type": "stream",
     "text": [
      " 32%|███▏      | 129/400 [00:53<01:53,  2.39it/s, train score=0, val score=0, train loss=2.03, val loss=2.11]"
     ]
    },
    {
     "name": "stdout",
     "output_type": "stream",
     "text": [
      "<s>SELECT Winner FROM table WHERE St_Kilda_score = STR_VALUE_1</s> ---> \n",
      "<s>SELECT COUNT Wins FROM table WHERE Top-25 < NUM_VALUE_1 AND Events > NUM_VALUE_2 AND Top-5 < NUM_VALUE_3</s> ---> \n",
      "##############################\n"
     ]
    },
    {
     "name": "stderr",
     "output_type": "stream",
     "text": [
      " 32%|███▎      | 130/400 [00:54<01:51,  2.41it/s, train score=0, val score=0, train loss=1.96, val loss=2.11]"
     ]
    },
    {
     "name": "stdout",
     "output_type": "stream",
     "text": [
      "<s>SELECT Winner FROM table WHERE St_Kilda_score = STR_VALUE_1</s> ---> \n",
      "<s>SELECT COUNT Wins FROM table WHERE Top-25 < NUM_VALUE_1 AND Events > NUM_VALUE_2 AND Top-5 < NUM_VALUE_3</s> ---> \n",
      "##############################\n"
     ]
    },
    {
     "name": "stderr",
     "output_type": "stream",
     "text": [
      " 33%|███▎      | 131/400 [00:54<01:51,  2.42it/s, train score=0, val score=0, train loss=1.9, val loss=2.11] "
     ]
    },
    {
     "name": "stdout",
     "output_type": "stream",
     "text": [
      "<s>SELECT Winner FROM table WHERE St_Kilda_score = STR_VALUE_1</s> ---> \n",
      "<s>SELECT COUNT Wins FROM table WHERE Top-25 < NUM_VALUE_1 AND Events > NUM_VALUE_2 AND Top-5 < NUM_VALUE_3</s> ---> \n",
      "##############################\n"
     ]
    },
    {
     "name": "stderr",
     "output_type": "stream",
     "text": [
      " 33%|███▎      | 132/400 [00:55<01:50,  2.42it/s, train score=0.0385, val score=0, train loss=2.04, val loss=2.11]"
     ]
    },
    {
     "name": "stdout",
     "output_type": "stream",
     "text": [
      "<s>SELECT Winner FROM table WHERE St_Kilda_score = STR_VALUE_1</s> ---> \n",
      "<s>SELECT COUNT Wins FROM table WHERE Top-25 < NUM_VALUE_1 AND Events > NUM_VALUE_2 AND Top-5 < NUM_VALUE_3</s> ---> \n",
      "##############################\n"
     ]
    },
    {
     "name": "stderr",
     "output_type": "stream",
     "text": [
      " 33%|███▎      | 133/400 [00:55<01:48,  2.45it/s, train score=0.0185, val score=0, train loss=2, val loss=2.13]   "
     ]
    },
    {
     "name": "stdout",
     "output_type": "stream",
     "text": [
      "<s>SELECT Winner FROM table WHERE St_Kilda_score = STR_VALUE_1</s> ---> \n",
      "<s>SELECT COUNT Wins FROM table WHERE Top-25 < NUM_VALUE_1 AND Events > NUM_VALUE_2 AND Top-5 < NUM_VALUE_3</s> ---> \n",
      "##############################\n"
     ]
    },
    {
     "name": "stderr",
     "output_type": "stream",
     "text": [
      " 34%|███▎      | 134/400 [00:56<01:49,  2.43it/s, train score=0.0385, val score=0.264, train loss=1.96, val loss=2.16]"
     ]
    },
    {
     "name": "stdout",
     "output_type": "stream",
     "text": [
      "<s>SELECT Winner FROM table WHERE St_Kilda_score = STR_VALUE_1</s> --->                                         \n",
      "<s>SELECT COUNT Wins FROM table WHERE Top-25 < NUM_VALUE_1 AND Events > NUM_VALUE_2 AND Top-5 < NUM_VALUE_3</s> --->                                         \n",
      "##############################\n"
     ]
    },
    {
     "name": "stderr",
     "output_type": "stream",
     "text": [
      " 34%|███▍      | 135/400 [00:56<01:47,  2.46it/s, train score=0.094, val score=0.264, train loss=1.95, val loss=2.19] "
     ]
    },
    {
     "name": "stdout",
     "output_type": "stream",
     "text": [
      "<s>SELECT Winner FROM table WHERE St_Kilda_score = STR_VALUE_1</s> --->                                         \n",
      "<s>SELECT COUNT Wins FROM table WHERE Top-25 < NUM_VALUE_1 AND Events > NUM_VALUE_2 AND Top-5 < NUM_VALUE_3</s> --->                                         \n",
      "##############################\n"
     ]
    },
    {
     "name": "stderr",
     "output_type": "stream",
     "text": [
      " 34%|███▍      | 136/400 [00:56<01:49,  2.41it/s, train score=0.0954, val score=0.264, train loss=1.94, val loss=2.22]"
     ]
    },
    {
     "name": "stdout",
     "output_type": "stream",
     "text": [
      "<s>SELECT Winner FROM table WHERE St_Kilda_score = STR_VALUE_1</s> --->                                         \n",
      "<s>SELECT COUNT Wins FROM table WHERE Top-25 < NUM_VALUE_1 AND Events > NUM_VALUE_2 AND Top-5 < NUM_VALUE_3</s> --->                                         \n",
      "##############################\n"
     ]
    },
    {
     "name": "stderr",
     "output_type": "stream",
     "text": [
      " 34%|███▍      | 137/400 [00:57<01:47,  2.45it/s, train score=0.115, val score=0.264, train loss=1.96, val loss=2.26] "
     ]
    },
    {
     "name": "stdout",
     "output_type": "stream",
     "text": [
      "<s>SELECT Winner FROM table WHERE St_Kilda_score = STR_VALUE_1</s> --->                                         \n",
      "<s>SELECT COUNT Wins FROM table WHERE Top-25 < NUM_VALUE_1 AND Events > NUM_VALUE_2 AND Top-5 < NUM_VALUE_3</s> --->                                         \n",
      "##############################\n"
     ]
    },
    {
     "name": "stderr",
     "output_type": "stream",
     "text": [
      " 34%|███▍      | 138/400 [00:57<01:47,  2.44it/s, train score=0.114, val score=0.264, train loss=1.87, val loss=2.29]"
     ]
    },
    {
     "name": "stdout",
     "output_type": "stream",
     "text": [
      "<s>SELECT Winner FROM table WHERE St_Kilda_score = STR_VALUE_1</s> --->                                         \n",
      "<s>SELECT COUNT Wins FROM table WHERE Top-25 < NUM_VALUE_1 AND Events > NUM_VALUE_2 AND Top-5 < NUM_VALUE_3</s> --->                                         \n",
      "##############################\n"
     ]
    },
    {
     "name": "stderr",
     "output_type": "stream",
     "text": [
      " 35%|███▍      | 139/400 [00:58<01:46,  2.44it/s, train score=0.057, val score=0.264, train loss=1.98, val loss=2.32]"
     ]
    },
    {
     "name": "stdout",
     "output_type": "stream",
     "text": [
      "<s>SELECT Winner FROM table WHERE St_Kilda_score = STR_VALUE_1</s> --->                                         \n",
      "<s>SELECT COUNT Wins FROM table WHERE Top-25 < NUM_VALUE_1 AND Events > NUM_VALUE_2 AND Top-5 < NUM_VALUE_3</s> --->                                         \n",
      "##############################\n"
     ]
    },
    {
     "name": "stderr",
     "output_type": "stream",
     "text": [
      " 35%|███▌      | 140/400 [00:58<01:45,  2.46it/s, train score=0.208, val score=0.264, train loss=1.87, val loss=2.34]"
     ]
    },
    {
     "name": "stdout",
     "output_type": "stream",
     "text": [
      "<s>SELECT Winner FROM table WHERE St_Kilda_score = STR_VALUE_1</s> --->                                         \n",
      "<s>SELECT COUNT Wins FROM table WHERE Top-25 < NUM_VALUE_1 AND Events > NUM_VALUE_2 AND Top-5 < NUM_VALUE_3</s> --->                                         \n",
      "##############################\n"
     ]
    },
    {
     "name": "stderr",
     "output_type": "stream",
     "text": [
      " 35%|███▌      | 141/400 [00:58<01:49,  2.37it/s, train score=0.037, val score=0.264, train loss=1.94, val loss=2.36]"
     ]
    },
    {
     "name": "stdout",
     "output_type": "stream",
     "text": [
      "<s>SELECT Winner FROM table WHERE St_Kilda_score = STR_VALUE_1</s> --->                                         \n",
      "<s>SELECT COUNT Wins FROM table WHERE Top-25 < NUM_VALUE_1 AND Events > NUM_VALUE_2 AND Top-5 < NUM_VALUE_3</s> --->                                         \n",
      "##############################\n"
     ]
    },
    {
     "name": "stderr",
     "output_type": "stream",
     "text": [
      " 36%|███▌      | 142/400 [00:59<01:47,  2.40it/s, train score=0.0556, val score=0.264, train loss=1.9, val loss=2.38]"
     ]
    },
    {
     "name": "stdout",
     "output_type": "stream",
     "text": [
      "<s>SELECT Winner FROM table WHERE St_Kilda_score = STR_VALUE_1</s> --->                                         \n",
      "<s>SELECT COUNT Wins FROM table WHERE Top-25 < NUM_VALUE_1 AND Events > NUM_VALUE_2 AND Top-5 < NUM_VALUE_3</s> --->                                         \n",
      "##############################\n"
     ]
    },
    {
     "name": "stderr",
     "output_type": "stream",
     "text": [
      " 36%|███▌      | 143/400 [00:59<01:45,  2.43it/s, train score=0.187, val score=0.264, train loss=1.86, val loss=2.4] "
     ]
    },
    {
     "name": "stdout",
     "output_type": "stream",
     "text": [
      "<s>SELECT Winner FROM table WHERE St_Kilda_score = STR_VALUE_1</s> --->                                         \n",
      "<s>SELECT COUNT Wins FROM table WHERE Top-25 < NUM_VALUE_1 AND Events > NUM_VALUE_2 AND Top-5 < NUM_VALUE_3</s> --->                                         \n",
      "##############################\n"
     ]
    },
    {
     "name": "stderr",
     "output_type": "stream",
     "text": [
      " 36%|███▌      | 144/400 [01:00<01:44,  2.45it/s, train score=0.115, val score=0.264, train loss=1.96, val loss=2.41]"
     ]
    },
    {
     "name": "stdout",
     "output_type": "stream",
     "text": [
      "<s>SELECT Winner FROM table WHERE St_Kilda_score = STR_VALUE_1</s> --->                                         \n",
      "<s>SELECT COUNT Wins FROM table WHERE Top-25 < NUM_VALUE_1 AND Events > NUM_VALUE_2 AND Top-5 < NUM_VALUE_3</s> --->                                         \n",
      "##############################\n"
     ]
    },
    {
     "name": "stderr",
     "output_type": "stream",
     "text": [
      " 36%|███▋      | 145/400 [01:00<01:43,  2.46it/s, train score=0.134, val score=0.264, train loss=1.91, val loss=2.42]"
     ]
    },
    {
     "name": "stdout",
     "output_type": "stream",
     "text": [
      "<s>SELECT Winner FROM table WHERE St_Kilda_score = STR_VALUE_1</s> --->                                         \n",
      "<s>SELECT COUNT Wins FROM table WHERE Top-25 < NUM_VALUE_1 AND Events > NUM_VALUE_2 AND Top-5 < NUM_VALUE_3</s> --->                                         \n",
      "##############################\n"
     ]
    },
    {
     "name": "stderr",
     "output_type": "stream",
     "text": [
      " 36%|███▋      | 146/400 [01:00<01:42,  2.47it/s, train score=0.115, val score=0.264, train loss=2.13, val loss=2.34]"
     ]
    },
    {
     "name": "stdout",
     "output_type": "stream",
     "text": [
      "<s>SELECT Winner FROM table WHERE St_Kilda_score = STR_VALUE_1</s> --->                                         \n",
      "<s>SELECT COUNT Wins FROM table WHERE Top-25 < NUM_VALUE_1 AND Events > NUM_VALUE_2 AND Top-5 < NUM_VALUE_3</s> --->                                         \n",
      "##############################\n"
     ]
    },
    {
     "name": "stderr",
     "output_type": "stream",
     "text": [
      " 37%|███▋      | 147/400 [01:01<01:42,  2.46it/s, train score=0.0556, val score=0.264, train loss=1.84, val loss=2.27]"
     ]
    },
    {
     "name": "stdout",
     "output_type": "stream",
     "text": [
      "<s>SELECT Winner FROM table WHERE St_Kilda_score = STR_VALUE_1</s> --->                                         \n",
      "<s>SELECT COUNT Wins FROM table WHERE Top-25 < NUM_VALUE_1 AND Events > NUM_VALUE_2 AND Top-5 < NUM_VALUE_3</s> --->                                         \n",
      "##############################\n"
     ]
    },
    {
     "name": "stderr",
     "output_type": "stream",
     "text": [
      " 37%|███▋      | 148/400 [01:01<01:42,  2.45it/s, train score=0.0556, val score=0.264, train loss=2.08, val loss=2.2] "
     ]
    },
    {
     "name": "stdout",
     "output_type": "stream",
     "text": [
      "<s>SELECT Winner FROM table WHERE St_Kilda_score = STR_VALUE_1</s> --->                                         \n",
      "<s>SELECT COUNT Wins FROM table WHERE Top-25 < NUM_VALUE_1 AND Events > NUM_VALUE_2 AND Top-5 < NUM_VALUE_3</s> --->                                         \n",
      "##############################\n"
     ]
    },
    {
     "name": "stderr",
     "output_type": "stream",
     "text": [
      " 37%|███▋      | 149/400 [01:02<01:41,  2.46it/s, train score=0, val score=0, train loss=1.95, val loss=2.16]        "
     ]
    },
    {
     "name": "stdout",
     "output_type": "stream",
     "text": [
      "<s>SELECT Winner FROM table WHERE St_Kilda_score = STR_VALUE_1</s> ---> \n",
      "<s>SELECT COUNT Wins FROM table WHERE Top-25 < NUM_VALUE_1 AND Events > NUM_VALUE_2 AND Top-5 < NUM_VALUE_3</s> ---> \n",
      "##############################\n"
     ]
    },
    {
     "name": "stderr",
     "output_type": "stream",
     "text": [
      " 38%|███▊      | 150/400 [01:02<01:41,  2.46it/s, train score=0, val score=0, train loss=2.02, val loss=2.15]"
     ]
    },
    {
     "name": "stdout",
     "output_type": "stream",
     "text": [
      "<s>SELECT Winner FROM table WHERE St_Kilda_score = STR_VALUE_1</s> ---> \n",
      "<s>SELECT COUNT Wins FROM table WHERE Top-25 < NUM_VALUE_1 AND Events > NUM_VALUE_2 AND Top-5 < NUM_VALUE_3</s> ---> \n",
      "##############################\n"
     ]
    },
    {
     "name": "stderr",
     "output_type": "stream",
     "text": [
      " 38%|███▊      | 150/400 [01:02<01:41,  2.46it/s, train score=0, val score=0, train loss=1.86, val loss=2.15]"
     ]
    },
    {
     "name": "stdout",
     "output_type": "stream",
     "text": [
      "<s>SELECT Winner FROM table WHERE St_Kilda_score = STR_VALUE_1</s> ---> \n",
      "<s>SELECT COUNT Wins FROM table WHERE Top-25 < NUM_VALUE_1 AND Events > NUM_VALUE_2 AND Top-5 < NUM_VALUE_3</s> ---> \n",
      "##############################\n"
     ]
    },
    {
     "name": "stderr",
     "output_type": "stream",
     "text": [
      " 38%|███▊      | 152/400 [01:03<01:40,  2.47it/s, train score=0, val score=0, train loss=1.88, val loss=2.16]"
     ]
    },
    {
     "name": "stdout",
     "output_type": "stream",
     "text": [
      "<s>SELECT Winner FROM table WHERE St_Kilda_score = STR_VALUE_1</s> ---> \n",
      "<s>SELECT COUNT Wins FROM table WHERE Top-25 < NUM_VALUE_1 AND Events > NUM_VALUE_2 AND Top-5 < NUM_VALUE_3</s> ---> \n",
      "##############################\n"
     ]
    },
    {
     "name": "stderr",
     "output_type": "stream",
     "text": [
      " 38%|███▊      | 153/400 [01:03<01:41,  2.44it/s, train score=0, val score=0, train loss=1.86, val loss=2.16]"
     ]
    },
    {
     "name": "stdout",
     "output_type": "stream",
     "text": [
      "<s>SELECT Winner FROM table WHERE St_Kilda_score = STR_VALUE_1</s> ---> \n",
      "<s>SELECT COUNT Wins FROM table WHERE Top-25 < NUM_VALUE_1 AND Events > NUM_VALUE_2 AND Top-5 < NUM_VALUE_3</s> ---> \n",
      "##############################\n"
     ]
    },
    {
     "name": "stderr",
     "output_type": "stream",
     "text": [
      " 38%|███▊      | 154/400 [01:04<01:40,  2.44it/s, train score=0, val score=0, train loss=1.95, val loss=2.17]"
     ]
    },
    {
     "name": "stdout",
     "output_type": "stream",
     "text": [
      "<s>SELECT Winner FROM table WHERE St_Kilda_score = STR_VALUE_1</s> ---> \n",
      "<s>SELECT COUNT Wins FROM table WHERE Top-25 < NUM_VALUE_1 AND Events > NUM_VALUE_2 AND Top-5 < NUM_VALUE_3</s> ---> \n",
      "##############################\n"
     ]
    },
    {
     "name": "stderr",
     "output_type": "stream",
     "text": [
      " 39%|███▉      | 155/400 [01:04<01:41,  2.41it/s, train score=0.0185, val score=0, train loss=1.98, val loss=2.16]"
     ]
    },
    {
     "name": "stdout",
     "output_type": "stream",
     "text": [
      "<s>SELECT Winner FROM table WHERE St_Kilda_score = STR_VALUE_1</s> ---> \n",
      "<s>SELECT COUNT Wins FROM table WHERE Top-25 < NUM_VALUE_1 AND Events > NUM_VALUE_2 AND Top-5 < NUM_VALUE_3</s> ---> \n",
      "##############################\n"
     ]
    },
    {
     "name": "stderr",
     "output_type": "stream",
     "text": [
      " 39%|███▉      | 156/400 [01:05<01:40,  2.43it/s, train score=0, val score=0, train loss=2.01, val loss=2.13]     "
     ]
    },
    {
     "name": "stdout",
     "output_type": "stream",
     "text": [
      "<s>SELECT Winner FROM table WHERE St_Kilda_score = STR_VALUE_1</s> ---> \n",
      "<s>SELECT COUNT Wins FROM table WHERE Top-25 < NUM_VALUE_1 AND Events > NUM_VALUE_2 AND Top-5 < NUM_VALUE_3</s> ---> \n",
      "##############################\n"
     ]
    },
    {
     "name": "stderr",
     "output_type": "stream",
     "text": [
      " 39%|███▉      | 157/400 [01:05<01:40,  2.41it/s, train score=0, val score=0, train loss=1.95, val loss=2.1] "
     ]
    },
    {
     "name": "stdout",
     "output_type": "stream",
     "text": [
      "<s>SELECT Winner FROM table WHERE St_Kilda_score = STR_VALUE_1</s> ---> \n",
      "<s>SELECT COUNT Wins FROM table WHERE Top-25 < NUM_VALUE_1 AND Events > NUM_VALUE_2 AND Top-5 < NUM_VALUE_3</s> ---> \n",
      "##############################\n"
     ]
    },
    {
     "name": "stderr",
     "output_type": "stream",
     "text": [
      " 40%|███▉      | 158/400 [01:05<01:40,  2.41it/s, train score=0, val score=0, train loss=1.97, val loss=2.08]"
     ]
    },
    {
     "name": "stdout",
     "output_type": "stream",
     "text": [
      "<s>SELECT Winner FROM table WHERE St_Kilda_score = STR_VALUE_1</s> ---> \n",
      "<s>SELECT COUNT Wins FROM table WHERE Top-25 < NUM_VALUE_1 AND Events > NUM_VALUE_2 AND Top-5 < NUM_VALUE_3</s> ---> \n",
      "##############################\n"
     ]
    },
    {
     "name": "stderr",
     "output_type": "stream",
     "text": [
      " 40%|███▉      | 159/400 [01:06<01:39,  2.42it/s, train score=0, val score=0, train loss=2.02, val loss=2.06]"
     ]
    },
    {
     "name": "stdout",
     "output_type": "stream",
     "text": [
      "<s>SELECT Winner FROM table WHERE St_Kilda_score = STR_VALUE_1</s> ---> \n",
      "<s>SELECT COUNT Wins FROM table WHERE Top-25 < NUM_VALUE_1 AND Events > NUM_VALUE_2 AND Top-5 < NUM_VALUE_3</s> ---> \n",
      "##############################\n"
     ]
    },
    {
     "name": "stderr",
     "output_type": "stream",
     "text": [
      " 40%|████      | 160/400 [01:06<01:38,  2.44it/s, train score=0, val score=0, train loss=1.91, val loss=2.04]"
     ]
    },
    {
     "name": "stdout",
     "output_type": "stream",
     "text": [
      "<s>SELECT Winner FROM table WHERE St_Kilda_score = STR_VALUE_1</s> ---> \n",
      "<s>SELECT COUNT Wins FROM table WHERE Top-25 < NUM_VALUE_1 AND Events > NUM_VALUE_2 AND Top-5 < NUM_VALUE_3</s> ---> \n",
      "##############################\n"
     ]
    },
    {
     "name": "stderr",
     "output_type": "stream",
     "text": [
      " 40%|████      | 161/400 [01:07<01:38,  2.43it/s, train score=0, val score=0, train loss=1.86, val loss=2.04]"
     ]
    },
    {
     "name": "stdout",
     "output_type": "stream",
     "text": [
      "<s>SELECT Winner FROM table WHERE St_Kilda_score = STR_VALUE_1</s> ---> \n",
      "<s>SELECT COUNT Wins FROM table WHERE Top-25 < NUM_VALUE_1 AND Events > NUM_VALUE_2 AND Top-5 < NUM_VALUE_3</s> ---> \n",
      "##############################\n"
     ]
    },
    {
     "name": "stderr",
     "output_type": "stream",
     "text": [
      " 40%|████      | 162/400 [01:07<01:37,  2.44it/s, train score=0, val score=0, train loss=1.98, val loss=2.03]"
     ]
    },
    {
     "name": "stdout",
     "output_type": "stream",
     "text": [
      "<s>SELECT Winner FROM table WHERE St_Kilda_score = STR_VALUE_1</s> ---> \n",
      "<s>SELECT COUNT Wins FROM table WHERE Top-25 < NUM_VALUE_1 AND Events > NUM_VALUE_2 AND Top-5 < NUM_VALUE_3</s> ---> \n",
      "##############################\n"
     ]
    },
    {
     "name": "stderr",
     "output_type": "stream",
     "text": [
      " 41%|████      | 163/400 [01:07<01:36,  2.46it/s, train score=0, val score=0, train loss=1.89, val loss=2.03]"
     ]
    },
    {
     "name": "stdout",
     "output_type": "stream",
     "text": [
      "<s>SELECT Winner FROM table WHERE St_Kilda_score = STR_VALUE_1</s> ---> \n",
      "<s>SELECT COUNT Wins FROM table WHERE Top-25 < NUM_VALUE_1 AND Events > NUM_VALUE_2 AND Top-5 < NUM_VALUE_3</s> ---> \n",
      "##############################\n"
     ]
    },
    {
     "name": "stderr",
     "output_type": "stream",
     "text": [
      " 41%|████      | 164/400 [01:08<01:36,  2.45it/s, train score=0, val score=0, train loss=2.04, val loss=2.04]"
     ]
    },
    {
     "name": "stdout",
     "output_type": "stream",
     "text": [
      "<s>SELECT Winner FROM table WHERE St_Kilda_score = STR_VALUE_1</s> ---> \n",
      "<s>SELECT COUNT Wins FROM table WHERE Top-25 < NUM_VALUE_1 AND Events > NUM_VALUE_2 AND Top-5 < NUM_VALUE_3</s> ---> \n",
      "##############################\n"
     ]
    },
    {
     "name": "stderr",
     "output_type": "stream",
     "text": [
      " 41%|████▏     | 165/400 [01:08<01:35,  2.46it/s, train score=0, val score=0, train loss=1.87, val loss=2.05]"
     ]
    },
    {
     "name": "stdout",
     "output_type": "stream",
     "text": [
      "<s>SELECT Winner FROM table WHERE St_Kilda_score = STR_VALUE_1</s> ---> \n",
      "<s>SELECT COUNT Wins FROM table WHERE Top-25 < NUM_VALUE_1 AND Events > NUM_VALUE_2 AND Top-5 < NUM_VALUE_3</s> ---> \n",
      "##############################\n"
     ]
    },
    {
     "name": "stderr",
     "output_type": "stream",
     "text": [
      " 42%|████▏     | 166/400 [01:09<01:37,  2.39it/s, train score=0, val score=0, train loss=1.99, val loss=2.05]"
     ]
    },
    {
     "name": "stdout",
     "output_type": "stream",
     "text": [
      "<s>SELECT Winner FROM table WHERE St_Kilda_score = STR_VALUE_1</s> ---> \n",
      "<s>SELECT COUNT Wins FROM table WHERE Top-25 < NUM_VALUE_1 AND Events > NUM_VALUE_2 AND Top-5 < NUM_VALUE_3</s> ---> \n",
      "##############################\n"
     ]
    },
    {
     "name": "stderr",
     "output_type": "stream",
     "text": [
      " 42%|████▏     | 167/400 [01:09<01:35,  2.44it/s, train score=0, val score=0, train loss=1.93, val loss=2.06]"
     ]
    },
    {
     "name": "stdout",
     "output_type": "stream",
     "text": [
      "<s>SELECT Winner FROM table WHERE St_Kilda_score = STR_VALUE_1</s> ---> \n",
      "<s>SELECT COUNT Wins FROM table WHERE Top-25 < NUM_VALUE_1 AND Events > NUM_VALUE_2 AND Top-5 < NUM_VALUE_3</s> ---> \n",
      "##############################\n"
     ]
    },
    {
     "name": "stderr",
     "output_type": "stream",
     "text": [
      " 42%|████▏     | 168/400 [01:09<01:35,  2.42it/s, train score=0, val score=0, train loss=1.99, val loss=2.07]"
     ]
    },
    {
     "name": "stdout",
     "output_type": "stream",
     "text": [
      "<s>SELECT Winner FROM table WHERE St_Kilda_score = STR_VALUE_1</s> ---> \n",
      "<s>SELECT COUNT Wins FROM table WHERE Top-25 < NUM_VALUE_1 AND Events > NUM_VALUE_2 AND Top-5 < NUM_VALUE_3</s> ---> \n",
      "##############################\n"
     ]
    },
    {
     "name": "stderr",
     "output_type": "stream",
     "text": [
      " 42%|████▏     | 169/400 [01:10<01:35,  2.43it/s, train score=0, val score=0, train loss=2.02, val loss=2.07]"
     ]
    },
    {
     "name": "stdout",
     "output_type": "stream",
     "text": [
      "<s>SELECT Winner FROM table WHERE St_Kilda_score = STR_VALUE_1</s> ---> \n",
      "<s>SELECT COUNT Wins FROM table WHERE Top-25 < NUM_VALUE_1 AND Events > NUM_VALUE_2 AND Top-5 < NUM_VALUE_3</s> ---> \n",
      "##############################\n"
     ]
    },
    {
     "name": "stderr",
     "output_type": "stream",
     "text": [
      " 42%|████▏     | 169/400 [01:10<01:35,  2.43it/s, train score=0, val score=0, train loss=1.95, val loss=2.09]"
     ]
    },
    {
     "name": "stdout",
     "output_type": "stream",
     "text": [
      "<s>SELECT Winner FROM table WHERE St_Kilda_score = STR_VALUE_1</s> ---> \n",
      "<s>SELECT COUNT Wins FROM table WHERE Top-25 < NUM_VALUE_1 AND Events > NUM_VALUE_2 AND Top-5 < NUM_VALUE_3</s> ---> \n",
      "##############################\n"
     ]
    },
    {
     "name": "stderr",
     "output_type": "stream",
     "text": [
      " 43%|████▎     | 171/400 [01:11<01:32,  2.47it/s, train score=0.0185, val score=0, train loss=1.96, val loss=2.11]"
     ]
    },
    {
     "name": "stdout",
     "output_type": "stream",
     "text": [
      "<s>SELECT Winner FROM table WHERE St_Kilda_score = STR_VALUE_1</s> ---> \n",
      "<s>SELECT COUNT Wins FROM table WHERE Top-25 < NUM_VALUE_1 AND Events > NUM_VALUE_2 AND Top-5 < NUM_VALUE_3</s> ---> \n",
      "##############################\n"
     ]
    },
    {
     "name": "stderr",
     "output_type": "stream",
     "text": [
      " 43%|████▎     | 172/400 [01:11<01:33,  2.44it/s, train score=0, val score=0, train loss=1.94, val loss=2.12]     "
     ]
    },
    {
     "name": "stdout",
     "output_type": "stream",
     "text": [
      "<s>SELECT Winner FROM table WHERE St_Kilda_score = STR_VALUE_1</s> ---> \n",
      "<s>SELECT COUNT Wins FROM table WHERE Top-25 < NUM_VALUE_1 AND Events > NUM_VALUE_2 AND Top-5 < NUM_VALUE_3</s> ---> \n",
      "##############################\n"
     ]
    },
    {
     "name": "stderr",
     "output_type": "stream",
     "text": [
      " 43%|████▎     | 173/400 [01:11<01:31,  2.47it/s, train score=0, val score=0, train loss=2.05, val loss=2.11]"
     ]
    },
    {
     "name": "stdout",
     "output_type": "stream",
     "text": [
      "<s>SELECT Winner FROM table WHERE St_Kilda_score = STR_VALUE_1</s> ---> \n",
      "<s>SELECT COUNT Wins FROM table WHERE Top-25 < NUM_VALUE_1 AND Events > NUM_VALUE_2 AND Top-5 < NUM_VALUE_3</s> ---> \n",
      "##############################\n"
     ]
    },
    {
     "name": "stderr",
     "output_type": "stream",
     "text": [
      " 44%|████▎     | 174/400 [01:12<01:31,  2.46it/s, train score=0, val score=0, train loss=1.96, val loss=2.11]"
     ]
    },
    {
     "name": "stdout",
     "output_type": "stream",
     "text": [
      "<s>SELECT Winner FROM table WHERE St_Kilda_score = STR_VALUE_1</s> ---> \n",
      "<s>SELECT COUNT Wins FROM table WHERE Top-25 < NUM_VALUE_1 AND Events > NUM_VALUE_2 AND Top-5 < NUM_VALUE_3</s> ---> \n",
      "##############################\n"
     ]
    },
    {
     "name": "stderr",
     "output_type": "stream",
     "text": [
      " 44%|████▍     | 175/400 [01:12<01:30,  2.49it/s, train score=0, val score=0, train loss=1.86, val loss=2.13]"
     ]
    },
    {
     "name": "stdout",
     "output_type": "stream",
     "text": [
      "<s>SELECT Winner FROM table WHERE St_Kilda_score = STR_VALUE_1</s> ---> \n",
      "<s>SELECT COUNT Wins FROM table WHERE Top-25 < NUM_VALUE_1 AND Events > NUM_VALUE_2 AND Top-5 < NUM_VALUE_3</s> ---> \n",
      "##############################\n"
     ]
    },
    {
     "name": "stderr",
     "output_type": "stream",
     "text": [
      " 44%|████▍     | 176/400 [01:13<01:29,  2.49it/s, train score=0, val score=0, train loss=1.99, val loss=2.11]"
     ]
    },
    {
     "name": "stdout",
     "output_type": "stream",
     "text": [
      "<s>SELECT Winner FROM table WHERE St_Kilda_score = STR_VALUE_1</s> ---> \n",
      "<s>SELECT COUNT Wins FROM table WHERE Top-25 < NUM_VALUE_1 AND Events > NUM_VALUE_2 AND Top-5 < NUM_VALUE_3</s> ---> \n",
      "##############################\n"
     ]
    },
    {
     "name": "stderr",
     "output_type": "stream",
     "text": [
      " 44%|████▍     | 177/400 [01:13<01:29,  2.49it/s, train score=0, val score=0, train loss=1.94, val loss=2.11]"
     ]
    },
    {
     "name": "stdout",
     "output_type": "stream",
     "text": [
      "<s>SELECT Winner FROM table WHERE St_Kilda_score = STR_VALUE_1</s> ---> \n",
      "<s>SELECT COUNT Wins FROM table WHERE Top-25 < NUM_VALUE_1 AND Events > NUM_VALUE_2 AND Top-5 < NUM_VALUE_3</s> ---> \n",
      "##############################\n"
     ]
    },
    {
     "name": "stderr",
     "output_type": "stream",
     "text": [
      " 44%|████▍     | 178/400 [01:14<01:29,  2.47it/s, train score=0, val score=0, train loss=1.97, val loss=2.13]"
     ]
    },
    {
     "name": "stdout",
     "output_type": "stream",
     "text": [
      "<s>SELECT Winner FROM table WHERE St_Kilda_score = STR_VALUE_1</s> ---> \n",
      "<s>SELECT COUNT Wins FROM table WHERE Top-25 < NUM_VALUE_1 AND Events > NUM_VALUE_2 AND Top-5 < NUM_VALUE_3</s> ---> \n",
      "##############################\n"
     ]
    },
    {
     "name": "stderr",
     "output_type": "stream",
     "text": [
      " 45%|████▍     | 179/400 [01:14<01:32,  2.38it/s, train score=0.0185, val score=0, train loss=1.96, val loss=2.14]"
     ]
    },
    {
     "name": "stdout",
     "output_type": "stream",
     "text": [
      "<s>SELECT Winner FROM table WHERE St_Kilda_score = STR_VALUE_1</s> ---> \n",
      "<s>SELECT COUNT Wins FROM table WHERE Top-25 < NUM_VALUE_1 AND Events > NUM_VALUE_2 AND Top-5 < NUM_VALUE_3</s> ---> \n",
      "##############################\n"
     ]
    },
    {
     "name": "stderr",
     "output_type": "stream",
     "text": [
      " 45%|████▌     | 180/400 [01:14<01:31,  2.40it/s, train score=0, val score=0, train loss=1.88, val loss=2.16]     "
     ]
    },
    {
     "name": "stdout",
     "output_type": "stream",
     "text": [
      "<s>SELECT Winner FROM table WHERE St_Kilda_score = STR_VALUE_1</s> ---> \n",
      "<s>SELECT COUNT Wins FROM table WHERE Top-25 < NUM_VALUE_1 AND Events > NUM_VALUE_2 AND Top-5 < NUM_VALUE_3</s> ---> \n",
      "##############################\n"
     ]
    },
    {
     "name": "stderr",
     "output_type": "stream",
     "text": [
      " 45%|████▌     | 181/400 [01:15<01:30,  2.43it/s, train score=0, val score=0.264, train loss=1.89, val loss=2.19]"
     ]
    },
    {
     "name": "stdout",
     "output_type": "stream",
     "text": [
      "<s>SELECT Winner FROM table WHERE St_Kilda_score = STR_VALUE_1</s> --->                                         \n",
      "<s>SELECT COUNT Wins FROM table WHERE Top-25 < NUM_VALUE_1 AND Events > NUM_VALUE_2 AND Top-5 < NUM_VALUE_3</s> --->                                         \n",
      "##############################\n"
     ]
    },
    {
     "name": "stderr",
     "output_type": "stream",
     "text": [
      " 46%|████▌     | 182/400 [01:15<01:28,  2.46it/s, train score=0.0385, val score=0.264, train loss=2.13, val loss=2.17]"
     ]
    },
    {
     "name": "stdout",
     "output_type": "stream",
     "text": [
      "<s>SELECT Winner FROM table WHERE St_Kilda_score = STR_VALUE_1</s> --->                                         \n",
      "<s>SELECT COUNT Wins FROM table WHERE Top-25 < NUM_VALUE_1 AND Events > NUM_VALUE_2 AND Top-5 < NUM_VALUE_3</s> --->                                         \n",
      "##############################\n"
     ]
    },
    {
     "name": "stderr",
     "output_type": "stream",
     "text": [
      " 46%|████▌     | 183/400 [01:16<01:27,  2.47it/s, train score=0, val score=0.264, train loss=1.88, val loss=2.17]     "
     ]
    },
    {
     "name": "stdout",
     "output_type": "stream",
     "text": [
      "<s>SELECT Winner FROM table WHERE St_Kilda_score = STR_VALUE_1</s> --->                                         \n",
      "<s>SELECT COUNT Wins FROM table WHERE Top-25 < NUM_VALUE_1 AND Events > NUM_VALUE_2 AND Top-5 < NUM_VALUE_3</s> --->                                         \n",
      "##############################\n"
     ]
    },
    {
     "name": "stderr",
     "output_type": "stream",
     "text": [
      " 46%|████▌     | 184/400 [01:16<01:27,  2.47it/s, train score=0, val score=0, train loss=2.12, val loss=2.13]    "
     ]
    },
    {
     "name": "stdout",
     "output_type": "stream",
     "text": [
      "<s>SELECT Winner FROM table WHERE St_Kilda_score = STR_VALUE_1</s> ---> \n",
      "<s>SELECT COUNT Wins FROM table WHERE Top-25 < NUM_VALUE_1 AND Events > NUM_VALUE_2 AND Top-5 < NUM_VALUE_3</s> ---> \n",
      "##############################\n"
     ]
    },
    {
     "name": "stderr",
     "output_type": "stream",
     "text": [
      " 46%|████▋     | 185/400 [01:16<01:26,  2.47it/s, train score=0, val score=0, train loss=1.93, val loss=2.12]"
     ]
    },
    {
     "name": "stdout",
     "output_type": "stream",
     "text": [
      "<s>SELECT Winner FROM table WHERE St_Kilda_score = STR_VALUE_1</s> ---> \n",
      "<s>SELECT COUNT Wins FROM table WHERE Top-25 < NUM_VALUE_1 AND Events > NUM_VALUE_2 AND Top-5 < NUM_VALUE_3</s> ---> \n",
      "##############################\n"
     ]
    },
    {
     "name": "stderr",
     "output_type": "stream",
     "text": [
      " 46%|████▋     | 186/400 [01:17<01:27,  2.46it/s, train score=0, val score=0, train loss=1.85, val loss=2.12]"
     ]
    },
    {
     "name": "stdout",
     "output_type": "stream",
     "text": [
      "<s>SELECT Winner FROM table WHERE St_Kilda_score = STR_VALUE_1</s> ---> \n",
      "<s>SELECT COUNT Wins FROM table WHERE Top-25 < NUM_VALUE_1 AND Events > NUM_VALUE_2 AND Top-5 < NUM_VALUE_3</s> ---> \n",
      "##############################\n"
     ]
    },
    {
     "name": "stderr",
     "output_type": "stream",
     "text": [
      " 47%|████▋     | 187/400 [01:17<01:26,  2.47it/s, train score=0.0185, val score=0, train loss=1.85, val loss=2.13]"
     ]
    },
    {
     "name": "stdout",
     "output_type": "stream",
     "text": [
      "<s>SELECT Winner FROM table WHERE St_Kilda_score = STR_VALUE_1</s> ---> \n",
      "<s>SELECT COUNT Wins FROM table WHERE Top-25 < NUM_VALUE_1 AND Events > NUM_VALUE_2 AND Top-5 < NUM_VALUE_3</s> ---> \n",
      "##############################\n"
     ]
    },
    {
     "name": "stderr",
     "output_type": "stream",
     "text": [
      " 47%|████▋     | 188/400 [01:18<01:30,  2.34it/s, train score=0, val score=0, train loss=2.02, val loss=2.13]     "
     ]
    },
    {
     "name": "stdout",
     "output_type": "stream",
     "text": [
      "<s>SELECT Winner FROM table WHERE St_Kilda_score = STR_VALUE_1</s> ---> \n",
      "<s>SELECT COUNT Wins FROM table WHERE Top-25 < NUM_VALUE_1 AND Events > NUM_VALUE_2 AND Top-5 < NUM_VALUE_3</s> ---> \n",
      "##############################\n"
     ]
    },
    {
     "name": "stderr",
     "output_type": "stream",
     "text": [
      " 47%|████▋     | 189/400 [01:18<01:29,  2.36it/s, train score=0, val score=0, train loss=1.87, val loss=2.14]"
     ]
    },
    {
     "name": "stdout",
     "output_type": "stream",
     "text": [
      "<s>SELECT Winner FROM table WHERE St_Kilda_score = STR_VALUE_1</s> ---> \n",
      "<s>SELECT COUNT Wins FROM table WHERE Top-25 < NUM_VALUE_1 AND Events > NUM_VALUE_2 AND Top-5 < NUM_VALUE_3</s> ---> \n",
      "##############################\n"
     ]
    },
    {
     "name": "stderr",
     "output_type": "stream",
     "text": [
      " 48%|████▊     | 190/400 [01:18<01:28,  2.39it/s, train score=0.0185, val score=0, train loss=2.04, val loss=2.14]"
     ]
    },
    {
     "name": "stdout",
     "output_type": "stream",
     "text": [
      "<s>SELECT Winner FROM table WHERE St_Kilda_score = STR_VALUE_1</s> ---> \n",
      "<s>SELECT COUNT Wins FROM table WHERE Top-25 < NUM_VALUE_1 AND Events > NUM_VALUE_2 AND Top-5 < NUM_VALUE_3</s> ---> \n",
      "##############################\n"
     ]
    },
    {
     "name": "stderr",
     "output_type": "stream",
     "text": [
      " 48%|████▊     | 191/400 [01:19<01:29,  2.33it/s, train score=0, val score=0, train loss=1.86, val loss=2.15]     "
     ]
    },
    {
     "name": "stdout",
     "output_type": "stream",
     "text": [
      "<s>SELECT Winner FROM table WHERE St_Kilda_score = STR_VALUE_1</s> ---> \n",
      "<s>SELECT COUNT Wins FROM table WHERE Top-25 < NUM_VALUE_1 AND Events > NUM_VALUE_2 AND Top-5 < NUM_VALUE_3</s> ---> \n",
      "##############################\n"
     ]
    },
    {
     "name": "stderr",
     "output_type": "stream",
     "text": [
      " 48%|████▊     | 192/400 [01:19<01:28,  2.36it/s, train score=0, val score=0.264, train loss=1.86, val loss=2.19]"
     ]
    },
    {
     "name": "stdout",
     "output_type": "stream",
     "text": [
      "<s>SELECT Winner FROM table WHERE St_Kilda_score = STR_VALUE_1</s> --->                                         \n",
      "<s>SELECT COUNT Wins FROM table WHERE Top-25 < NUM_VALUE_1 AND Events > NUM_VALUE_2 AND Top-5 < NUM_VALUE_3</s> --->                                         \n",
      "##############################\n"
     ]
    },
    {
     "name": "stderr",
     "output_type": "stream",
     "text": [
      " 48%|████▊     | 193/400 [01:20<01:27,  2.37it/s, train score=0.057, val score=0.264, train loss=1.86, val loss=2.24]"
     ]
    },
    {
     "name": "stdout",
     "output_type": "stream",
     "text": [
      "<s>SELECT Winner FROM table WHERE St_Kilda_score = STR_VALUE_1</s> --->                                         \n",
      "<s>SELECT COUNT Wins FROM table WHERE Top-25 < NUM_VALUE_1 AND Events > NUM_VALUE_2 AND Top-5 < NUM_VALUE_3</s> --->                                         \n",
      "##############################\n"
     ]
    },
    {
     "name": "stderr",
     "output_type": "stream",
     "text": [
      " 48%|████▊     | 194/400 [01:20<01:26,  2.38it/s, train score=0.057, val score=0.264, train loss=1.99, val loss=2.31]"
     ]
    },
    {
     "name": "stdout",
     "output_type": "stream",
     "text": [
      "<s>SELECT Winner FROM table WHERE St_Kilda_score = STR_VALUE_1</s> --->                                         \n",
      "<s>SELECT COUNT Wins FROM table WHERE Top-25 < NUM_VALUE_1 AND Events > NUM_VALUE_2 AND Top-5 < NUM_VALUE_3</s> --->                                         \n",
      "##############################\n"
     ]
    },
    {
     "name": "stderr",
     "output_type": "stream",
     "text": [
      " 49%|████▉     | 195/400 [01:21<01:25,  2.40it/s, train score=0.115, val score=0.264, train loss=1.9, val loss=2.42] "
     ]
    },
    {
     "name": "stdout",
     "output_type": "stream",
     "text": [
      "<s>SELECT Winner FROM table WHERE St_Kilda_score = STR_VALUE_1</s> --->                                         \n",
      "<s>SELECT COUNT Wins FROM table WHERE Top-25 < NUM_VALUE_1 AND Events > NUM_VALUE_2 AND Top-5 < NUM_VALUE_3</s> --->                                         \n",
      "##############################\n"
     ]
    },
    {
     "name": "stderr",
     "output_type": "stream",
     "text": [
      " 49%|████▉     | 196/400 [01:21<01:24,  2.42it/s, train score=0.245, val score=0.264, train loss=1.91, val loss=2.47]"
     ]
    },
    {
     "name": "stdout",
     "output_type": "stream",
     "text": [
      "<s>SELECT Winner FROM table WHERE St_Kilda_score = STR_VALUE_1</s> --->                                         \n",
      "<s>SELECT COUNT Wins FROM table WHERE Top-25 < NUM_VALUE_1 AND Events > NUM_VALUE_2 AND Top-5 < NUM_VALUE_3</s> --->                                         \n",
      "##############################\n"
     ]
    },
    {
     "name": "stderr",
     "output_type": "stream",
     "text": [
      " 49%|████▉     | 197/400 [01:21<01:23,  2.43it/s, train score=0.115, val score=0.264, train loss=1.88, val loss=2.49]"
     ]
    },
    {
     "name": "stdout",
     "output_type": "stream",
     "text": [
      "<s>SELECT Winner FROM table WHERE St_Kilda_score = STR_VALUE_1</s> --->                                         \n",
      "<s>SELECT COUNT Wins FROM table WHERE Top-25 < NUM_VALUE_1 AND Events > NUM_VALUE_2 AND Top-5 < NUM_VALUE_3</s> --->                                         \n",
      "##############################\n"
     ]
    },
    {
     "name": "stderr",
     "output_type": "stream",
     "text": [
      " 50%|████▉     | 198/400 [01:22<01:22,  2.44it/s, train score=0.037, val score=0.264, train loss=1.83, val loss=2.52]"
     ]
    },
    {
     "name": "stdout",
     "output_type": "stream",
     "text": [
      "<s>SELECT Winner FROM table WHERE St_Kilda_score = STR_VALUE_1</s> --->                                         \n",
      "<s>SELECT COUNT Wins FROM table WHERE Top-25 < NUM_VALUE_1 AND Events > NUM_VALUE_2 AND Top-5 < NUM_VALUE_3</s> --->                                         \n",
      "##############################\n"
     ]
    },
    {
     "name": "stderr",
     "output_type": "stream",
     "text": [
      " 50%|████▉     | 199/400 [01:22<01:22,  2.45it/s, train score=0, val score=0.264, train loss=1.86, val loss=2.51]    "
     ]
    },
    {
     "name": "stdout",
     "output_type": "stream",
     "text": [
      "<s>SELECT Winner FROM table WHERE St_Kilda_score = STR_VALUE_1</s> --->                                         \n",
      "<s>SELECT COUNT Wins FROM table WHERE Top-25 < NUM_VALUE_1 AND Events > NUM_VALUE_2 AND Top-5 < NUM_VALUE_3</s> --->                                         \n",
      "##############################\n"
     ]
    },
    {
     "name": "stderr",
     "output_type": "stream",
     "text": [
      " 50%|█████     | 200/400 [01:23<01:21,  2.45it/s, train score=0.115, val score=0.264, train loss=2.14, val loss=2.37]"
     ]
    },
    {
     "name": "stdout",
     "output_type": "stream",
     "text": [
      "<s>SELECT Winner FROM table WHERE St_Kilda_score = STR_VALUE_1</s> --->                                         \n",
      "<s>SELECT COUNT Wins FROM table WHERE Top-25 < NUM_VALUE_1 AND Events > NUM_VALUE_2 AND Top-5 < NUM_VALUE_3</s> --->                                         \n",
      "##############################\n"
     ]
    },
    {
     "name": "stderr",
     "output_type": "stream",
     "text": [
      " 50%|█████     | 201/400 [01:23<01:20,  2.46it/s, train score=0.0556, val score=0.264, train loss=1.84, val loss=2.36]"
     ]
    },
    {
     "name": "stdout",
     "output_type": "stream",
     "text": [
      "<s>SELECT Winner FROM table WHERE St_Kilda_score = STR_VALUE_1</s> --->                                         \n",
      "<s>SELECT COUNT Wins FROM table WHERE Top-25 < NUM_VALUE_1 AND Events > NUM_VALUE_2 AND Top-5 < NUM_VALUE_3</s> --->                                         \n",
      "##############################\n"
     ]
    },
    {
     "name": "stderr",
     "output_type": "stream",
     "text": [
      " 50%|█████     | 202/400 [01:23<01:20,  2.45it/s, train score=0.0741, val score=0.264, train loss=1.84, val loss=2.35]"
     ]
    },
    {
     "name": "stdout",
     "output_type": "stream",
     "text": [
      "<s>SELECT Winner FROM table WHERE St_Kilda_score = STR_VALUE_1</s> --->                                         \n",
      "<s>SELECT COUNT Wins FROM table WHERE Top-25 < NUM_VALUE_1 AND Events > NUM_VALUE_2 AND Top-5 < NUM_VALUE_3</s> --->                                         \n",
      "##############################\n"
     ]
    },
    {
     "name": "stderr",
     "output_type": "stream",
     "text": [
      " 51%|█████     | 203/400 [01:24<01:22,  2.38it/s, train score=0, val score=0.264, train loss=1.79, val loss=2.34]     "
     ]
    },
    {
     "name": "stdout",
     "output_type": "stream",
     "text": [
      "<s>SELECT Winner FROM table WHERE St_Kilda_score = STR_VALUE_1</s> --->                                         \n",
      "<s>SELECT COUNT Wins FROM table WHERE Top-25 < NUM_VALUE_1 AND Events > NUM_VALUE_2 AND Top-5 < NUM_VALUE_3</s> --->                                         \n",
      "##############################\n"
     ]
    },
    {
     "name": "stderr",
     "output_type": "stream",
     "text": [
      " 51%|█████     | 204/400 [01:24<01:22,  2.38it/s, train score=0, val score=0.264, train loss=1.85, val loss=2.33]"
     ]
    },
    {
     "name": "stdout",
     "output_type": "stream",
     "text": [
      "<s>SELECT Winner FROM table WHERE St_Kilda_score = STR_VALUE_1</s> --->                                         \n",
      "<s>SELECT COUNT Wins FROM table WHERE Top-25 < NUM_VALUE_1 AND Events > NUM_VALUE_2 AND Top-5 < NUM_VALUE_3</s> --->                                         \n",
      "##############################\n"
     ]
    },
    {
     "name": "stderr",
     "output_type": "stream",
     "text": [
      " 51%|█████▏    | 205/400 [01:25<01:22,  2.37it/s, train score=0, val score=0.264, train loss=1.81, val loss=2.33]"
     ]
    },
    {
     "name": "stdout",
     "output_type": "stream",
     "text": [
      "<s>SELECT Winner FROM table WHERE St_Kilda_score = STR_VALUE_1</s> --->                                         \n",
      "<s>SELECT COUNT Wins FROM table WHERE Top-25 < NUM_VALUE_1 AND Events > NUM_VALUE_2 AND Top-5 < NUM_VALUE_3</s> --->                                         \n",
      "##############################\n"
     ]
    },
    {
     "name": "stderr",
     "output_type": "stream",
     "text": [
      " 52%|█████▏    | 206/400 [01:25<01:20,  2.40it/s, train score=0.151, val score=0.264, train loss=1.96, val loss=2.33]"
     ]
    },
    {
     "name": "stdout",
     "output_type": "stream",
     "text": [
      "<s>SELECT Winner FROM table WHERE St_Kilda_score = STR_VALUE_1</s> --->                                         \n",
      "<s>SELECT COUNT Wins FROM table WHERE Top-25 < NUM_VALUE_1 AND Events > NUM_VALUE_2 AND Top-5 < NUM_VALUE_3</s> --->                                         \n",
      "##############################\n"
     ]
    },
    {
     "name": "stderr",
     "output_type": "stream",
     "text": [
      " 52%|█████▏    | 207/400 [01:26<01:19,  2.43it/s, train score=0, val score=0.264, train loss=1.82, val loss=2.33]    "
     ]
    },
    {
     "name": "stdout",
     "output_type": "stream",
     "text": [
      "<s>SELECT Winner FROM table WHERE St_Kilda_score = STR_VALUE_1</s> --->                                         \n",
      "<s>SELECT COUNT Wins FROM table WHERE Top-25 < NUM_VALUE_1 AND Events > NUM_VALUE_2 AND Top-5 < NUM_VALUE_3</s> --->                                         \n",
      "##############################\n"
     ]
    },
    {
     "name": "stderr",
     "output_type": "stream",
     "text": [
      " 52%|█████▏    | 207/400 [01:26<01:19,  2.43it/s, train score=0.094, val score=0.264, train loss=1.95, val loss=2.33]"
     ]
    },
    {
     "name": "stdout",
     "output_type": "stream",
     "text": [
      "<s>SELECT Winner FROM table WHERE St_Kilda_score = STR_VALUE_1</s> --->                                         \n",
      "<s>SELECT COUNT Wins FROM table WHERE Top-25 < NUM_VALUE_1 AND Events > NUM_VALUE_2 AND Top-5 < NUM_VALUE_3</s> --->                                         \n",
      "##############################\n"
     ]
    },
    {
     "name": "stderr",
     "output_type": "stream",
     "text": [
      " 52%|█████▏    | 209/400 [01:26<01:18,  2.42it/s, train score=0.0385, val score=0.264, train loss=1.85, val loss=2.34]"
     ]
    },
    {
     "name": "stdout",
     "output_type": "stream",
     "text": [
      "<s>SELECT Winner FROM table WHERE St_Kilda_score = STR_VALUE_1</s> --->                                         \n",
      "<s>SELECT COUNT Wins FROM table WHERE Top-25 < NUM_VALUE_1 AND Events > NUM_VALUE_2 AND Top-5 < NUM_VALUE_3</s> --->                                         \n",
      "##############################\n"
     ]
    },
    {
     "name": "stderr",
     "output_type": "stream",
     "text": [
      " 52%|█████▎    | 210/400 [01:27<01:18,  2.44it/s, train score=0.0385, val score=0.264, train loss=2.12, val loss=2.33]"
     ]
    },
    {
     "name": "stdout",
     "output_type": "stream",
     "text": [
      "<s>SELECT Winner FROM table WHERE St_Kilda_score = STR_VALUE_1</s> --->                                         \n",
      "<s>SELECT COUNT Wins FROM table WHERE Top-25 < NUM_VALUE_1 AND Events > NUM_VALUE_2 AND Top-5 < NUM_VALUE_3</s> --->                                         \n",
      "##############################\n"
     ]
    },
    {
     "name": "stderr",
     "output_type": "stream",
     "text": [
      " 53%|█████▎    | 211/400 [01:27<01:17,  2.42it/s, train score=0.0755, val score=0.264, train loss=1.86, val loss=2.33]"
     ]
    },
    {
     "name": "stdout",
     "output_type": "stream",
     "text": [
      "<s>SELECT Winner FROM table WHERE St_Kilda_score = STR_VALUE_1</s> --->                                         \n",
      "<s>SELECT COUNT Wins FROM table WHERE Top-25 < NUM_VALUE_1 AND Events > NUM_VALUE_2 AND Top-5 < NUM_VALUE_3</s> --->                                         \n",
      "##############################\n"
     ]
    },
    {
     "name": "stderr",
     "output_type": "stream",
     "text": [
      " 53%|█████▎    | 212/400 [01:28<01:17,  2.44it/s, train score=0.0556, val score=0.264, train loss=1.99, val loss=2.33]"
     ]
    },
    {
     "name": "stdout",
     "output_type": "stream",
     "text": [
      "<s>SELECT Winner FROM table WHERE St_Kilda_score = STR_VALUE_1</s> --->                                         \n",
      "<s>SELECT COUNT Wins FROM table WHERE Top-25 < NUM_VALUE_1 AND Events > NUM_VALUE_2 AND Top-5 < NUM_VALUE_3</s> --->                                         \n",
      "##############################\n"
     ]
    },
    {
     "name": "stderr",
     "output_type": "stream",
     "text": [
      " 53%|█████▎    | 213/400 [01:28<01:16,  2.46it/s, train score=0.094, val score=0.264, train loss=2.05, val loss=2.31] "
     ]
    },
    {
     "name": "stdout",
     "output_type": "stream",
     "text": [
      "<s>SELECT Winner FROM table WHERE St_Kilda_score = STR_VALUE_1</s> --->                                         \n",
      "<s>SELECT COUNT Wins FROM table WHERE Top-25 < NUM_VALUE_1 AND Events > NUM_VALUE_2 AND Top-5 < NUM_VALUE_3</s> --->                                         \n",
      "##############################\n"
     ]
    },
    {
     "name": "stderr",
     "output_type": "stream",
     "text": [
      " 54%|█████▎    | 214/400 [01:28<01:16,  2.44it/s, train score=0.0185, val score=0.264, train loss=1.82, val loss=2.31]"
     ]
    },
    {
     "name": "stdout",
     "output_type": "stream",
     "text": [
      "<s>SELECT Winner FROM table WHERE St_Kilda_score = STR_VALUE_1</s> --->                                         \n",
      "<s>SELECT COUNT Wins FROM table WHERE Top-25 < NUM_VALUE_1 AND Events > NUM_VALUE_2 AND Top-5 < NUM_VALUE_3</s> --->                                         \n",
      "##############################\n"
     ]
    },
    {
     "name": "stderr",
     "output_type": "stream",
     "text": [
      " 54%|█████▍    | 215/400 [01:29<01:15,  2.46it/s, train score=0.0755, val score=0.264, train loss=1.91, val loss=2.3] "
     ]
    },
    {
     "name": "stdout",
     "output_type": "stream",
     "text": [
      "<s>SELECT Winner FROM table WHERE St_Kilda_score = STR_VALUE_1</s> --->                                         \n",
      "<s>SELECT COUNT Wins FROM table WHERE Top-25 < NUM_VALUE_1 AND Events > NUM_VALUE_2 AND Top-5 < NUM_VALUE_3</s> --->                                         \n",
      "##############################\n"
     ]
    },
    {
     "name": "stderr",
     "output_type": "stream",
     "text": [
      " 54%|█████▍    | 216/400 [01:29<01:17,  2.38it/s, train score=0.057, val score=0.264, train loss=1.86, val loss=2.3] "
     ]
    },
    {
     "name": "stdout",
     "output_type": "stream",
     "text": [
      "<s>SELECT Winner FROM table WHERE St_Kilda_score = STR_VALUE_1</s> --->                                         \n",
      "<s>SELECT COUNT Wins FROM table WHERE Top-25 < NUM_VALUE_1 AND Events > NUM_VALUE_2 AND Top-5 < NUM_VALUE_3</s> --->                                         \n",
      "##############################\n"
     ]
    },
    {
     "name": "stderr",
     "output_type": "stream",
     "text": [
      " 54%|█████▍    | 217/400 [01:30<01:15,  2.41it/s, train score=0.111, val score=0.264, train loss=1.94, val loss=2.31]"
     ]
    },
    {
     "name": "stdout",
     "output_type": "stream",
     "text": [
      "<s>SELECT Winner FROM table WHERE St_Kilda_score = STR_VALUE_1</s> --->                                         \n",
      "<s>SELECT COUNT Wins FROM table WHERE Top-25 < NUM_VALUE_1 AND Events > NUM_VALUE_2 AND Top-5 < NUM_VALUE_3</s> --->                                         \n",
      "##############################\n"
     ]
    },
    {
     "name": "stderr",
     "output_type": "stream",
     "text": [
      " 55%|█████▍    | 218/400 [01:30<01:14,  2.43it/s, train score=0, val score=0.264, train loss=1.87, val loss=2.31]    "
     ]
    },
    {
     "name": "stdout",
     "output_type": "stream",
     "text": [
      "<s>SELECT Winner FROM table WHERE St_Kilda_score = STR_VALUE_1</s> --->                                         \n",
      "<s>SELECT COUNT Wins FROM table WHERE Top-25 < NUM_VALUE_1 AND Events > NUM_VALUE_2 AND Top-5 < NUM_VALUE_3</s> --->                                         \n",
      "##############################\n"
     ]
    },
    {
     "name": "stderr",
     "output_type": "stream",
     "text": [
      " 55%|█████▍    | 219/400 [01:30<01:14,  2.45it/s, train score=0.0769, val score=0.264, train loss=2.03, val loss=2.31]"
     ]
    },
    {
     "name": "stdout",
     "output_type": "stream",
     "text": [
      "<s>SELECT Winner FROM table WHERE St_Kilda_score = STR_VALUE_1</s> --->                                         \n",
      "<s>SELECT COUNT Wins FROM table WHERE Top-25 < NUM_VALUE_1 AND Events > NUM_VALUE_2 AND Top-5 < NUM_VALUE_3</s> --->                                         \n",
      "##############################\n"
     ]
    },
    {
     "name": "stderr",
     "output_type": "stream",
     "text": [
      " 55%|█████▌    | 220/400 [01:31<01:14,  2.42it/s, train score=0, val score=0.264, train loss=1.9, val loss=2.31]      "
     ]
    },
    {
     "name": "stdout",
     "output_type": "stream",
     "text": [
      "<s>SELECT Winner FROM table WHERE St_Kilda_score = STR_VALUE_1</s> --->                                         \n",
      "<s>SELECT COUNT Wins FROM table WHERE Top-25 < NUM_VALUE_1 AND Events > NUM_VALUE_2 AND Top-5 < NUM_VALUE_3</s> --->                                         \n",
      "##############################\n"
     ]
    },
    {
     "name": "stderr",
     "output_type": "stream",
     "text": [
      " 55%|█████▌    | 221/400 [01:31<01:13,  2.44it/s, train score=0.0185, val score=0.264, train loss=1.92, val loss=2.31]"
     ]
    },
    {
     "name": "stdout",
     "output_type": "stream",
     "text": [
      "<s>SELECT Winner FROM table WHERE St_Kilda_score = STR_VALUE_1</s> --->                                         \n",
      "<s>SELECT COUNT Wins FROM table WHERE Top-25 < NUM_VALUE_1 AND Events > NUM_VALUE_2 AND Top-5 < NUM_VALUE_3</s> --->                                         \n",
      "##############################\n"
     ]
    },
    {
     "name": "stderr",
     "output_type": "stream",
     "text": [
      " 56%|█████▌    | 222/400 [01:32<01:12,  2.46it/s, train score=0, val score=0.264, train loss=1.82, val loss=2.32]     "
     ]
    },
    {
     "name": "stdout",
     "output_type": "stream",
     "text": [
      "<s>SELECT Winner FROM table WHERE St_Kilda_score = STR_VALUE_1</s> --->                                         \n",
      "<s>SELECT COUNT Wins FROM table WHERE Top-25 < NUM_VALUE_1 AND Events > NUM_VALUE_2 AND Top-5 < NUM_VALUE_3</s> --->                                         \n",
      "##############################\n"
     ]
    },
    {
     "name": "stderr",
     "output_type": "stream",
     "text": [
      " 56%|█████▌    | 223/400 [01:32<01:12,  2.46it/s, train score=0.0556, val score=0.264, train loss=1.9, val loss=2.33]"
     ]
    },
    {
     "name": "stdout",
     "output_type": "stream",
     "text": [
      "<s>SELECT Winner FROM table WHERE St_Kilda_score = STR_VALUE_1</s> --->                                         \n",
      "<s>SELECT COUNT Wins FROM table WHERE Top-25 < NUM_VALUE_1 AND Events > NUM_VALUE_2 AND Top-5 < NUM_VALUE_3</s> --->                                         \n",
      "##############################\n"
     ]
    },
    {
     "name": "stderr",
     "output_type": "stream",
     "text": [
      " 56%|█████▌    | 224/400 [01:33<01:11,  2.46it/s, train score=0.0185, val score=0.264, train loss=2.01, val loss=2.33]"
     ]
    },
    {
     "name": "stdout",
     "output_type": "stream",
     "text": [
      "<s>SELECT Winner FROM table WHERE St_Kilda_score = STR_VALUE_1</s> --->                                         \n",
      "<s>SELECT COUNT Wins FROM table WHERE Top-25 < NUM_VALUE_1 AND Events > NUM_VALUE_2 AND Top-5 < NUM_VALUE_3</s> --->                                         \n",
      "##############################\n"
     ]
    },
    {
     "name": "stderr",
     "output_type": "stream",
     "text": [
      " 56%|█████▋    | 225/400 [01:33<01:11,  2.46it/s, train score=0, val score=0.264, train loss=2.16, val loss=2.32]     "
     ]
    },
    {
     "name": "stdout",
     "output_type": "stream",
     "text": [
      "<s>SELECT Winner FROM table WHERE St_Kilda_score = STR_VALUE_1</s> --->                                         \n",
      "<s>SELECT COUNT Wins FROM table WHERE Top-25 < NUM_VALUE_1 AND Events > NUM_VALUE_2 AND Top-5 < NUM_VALUE_3</s> --->                                         \n",
      "##############################\n"
     ]
    },
    {
     "name": "stderr",
     "output_type": "stream",
     "text": [
      " 56%|█████▋    | 226/400 [01:33<01:10,  2.45it/s, train score=0.0755, val score=0.264, train loss=1.87, val loss=2.31]"
     ]
    },
    {
     "name": "stdout",
     "output_type": "stream",
     "text": [
      "<s>SELECT Winner FROM table WHERE St_Kilda_score = STR_VALUE_1</s> --->                                         \n",
      "<s>SELECT COUNT Wins FROM table WHERE Top-25 < NUM_VALUE_1 AND Events > NUM_VALUE_2 AND Top-5 < NUM_VALUE_3</s> --->                                         \n",
      "##############################\n"
     ]
    },
    {
     "name": "stderr",
     "output_type": "stream",
     "text": [
      " 57%|█████▋    | 227/400 [01:34<01:17,  2.23it/s, train score=0, val score=0.264, train loss=1.94, val loss=2.31]     "
     ]
    },
    {
     "name": "stdout",
     "output_type": "stream",
     "text": [
      "<s>SELECT Winner FROM table WHERE St_Kilda_score = STR_VALUE_1</s> --->                                         \n",
      "<s>SELECT COUNT Wins FROM table WHERE Top-25 < NUM_VALUE_1 AND Events > NUM_VALUE_2 AND Top-5 < NUM_VALUE_3</s> --->                                         \n",
      "##############################\n"
     ]
    },
    {
     "name": "stderr",
     "output_type": "stream",
     "text": [
      " 57%|█████▋    | 228/400 [01:34<01:19,  2.17it/s, train score=0.0954, val score=0.264, train loss=1.83, val loss=2.31]"
     ]
    },
    {
     "name": "stdout",
     "output_type": "stream",
     "text": [
      "<s>SELECT Winner FROM table WHERE St_Kilda_score = STR_VALUE_1</s> --->                                         \n",
      "<s>SELECT COUNT Wins FROM table WHERE Top-25 < NUM_VALUE_1 AND Events > NUM_VALUE_2 AND Top-5 < NUM_VALUE_3</s> --->                                         \n",
      "##############################\n"
     ]
    },
    {
     "name": "stderr",
     "output_type": "stream",
     "text": [
      " 57%|█████▋    | 228/400 [01:35<01:19,  2.17it/s, train score=0.0185, val score=0.264, train loss=1.91, val loss=2.3] "
     ]
    },
    {
     "name": "stdout",
     "output_type": "stream",
     "text": [
      "<s>SELECT Winner FROM table WHERE St_Kilda_score = STR_VALUE_1</s> --->                                         \n",
      "<s>SELECT COUNT Wins FROM table WHERE Top-25 < NUM_VALUE_1 AND Events > NUM_VALUE_2 AND Top-5 < NUM_VALUE_3</s> --->                                         \n",
      "##############################\n"
     ]
    },
    {
     "name": "stderr",
     "output_type": "stream",
     "text": [
      " 57%|█████▊    | 230/400 [01:36<01:30,  1.87it/s, train score=0, val score=0.264, train loss=1.87, val loss=2.3]     "
     ]
    },
    {
     "name": "stdout",
     "output_type": "stream",
     "text": [
      "<s>SELECT Winner FROM table WHERE St_Kilda_score = STR_VALUE_1</s> --->                                         \n",
      "<s>SELECT COUNT Wins FROM table WHERE Top-25 < NUM_VALUE_1 AND Events > NUM_VALUE_2 AND Top-5 < NUM_VALUE_3</s> --->                                         \n",
      "##############################\n"
     ]
    },
    {
     "name": "stderr",
     "output_type": "stream",
     "text": [
      " 58%|█████▊    | 231/400 [01:36<01:23,  2.03it/s, train score=0.0185, val score=0.264, train loss=1.91, val loss=2.31]"
     ]
    },
    {
     "name": "stdout",
     "output_type": "stream",
     "text": [
      "<s>SELECT Winner FROM table WHERE St_Kilda_score = STR_VALUE_1</s> --->                                         \n",
      "<s>SELECT COUNT Wins FROM table WHERE Top-25 < NUM_VALUE_1 AND Events > NUM_VALUE_2 AND Top-5 < NUM_VALUE_3</s> --->                                         \n",
      "##############################\n"
     ]
    },
    {
     "name": "stderr",
     "output_type": "stream",
     "text": [
      " 58%|█████▊    | 232/400 [01:36<01:19,  2.12it/s, train score=0.094, val score=0.264, train loss=1.79, val loss=2.31] "
     ]
    },
    {
     "name": "stdout",
     "output_type": "stream",
     "text": [
      "<s>SELECT Winner FROM table WHERE St_Kilda_score = STR_VALUE_1</s> --->                                         \n",
      "<s>SELECT COUNT Wins FROM table WHERE Top-25 < NUM_VALUE_1 AND Events > NUM_VALUE_2 AND Top-5 < NUM_VALUE_3</s> --->                                         \n",
      "##############################\n"
     ]
    },
    {
     "name": "stderr",
     "output_type": "stream",
     "text": [
      " 58%|█████▊    | 233/400 [01:37<01:15,  2.22it/s, train score=0.225, val score=0.264, train loss=1.9, val loss=2.32] "
     ]
    },
    {
     "name": "stdout",
     "output_type": "stream",
     "text": [
      "<s>SELECT Winner FROM table WHERE St_Kilda_score = STR_VALUE_1</s> --->                                         \n",
      "<s>SELECT COUNT Wins FROM table WHERE Top-25 < NUM_VALUE_1 AND Events > NUM_VALUE_2 AND Top-5 < NUM_VALUE_3</s> --->                                         \n",
      "##############################\n"
     ]
    },
    {
     "name": "stderr",
     "output_type": "stream",
     "text": [
      " 58%|█████▊    | 234/400 [01:37<01:12,  2.28it/s, train score=0.0385, val score=0.264, train loss=2.09, val loss=2.32]"
     ]
    },
    {
     "name": "stdout",
     "output_type": "stream",
     "text": [
      "<s>SELECT Winner FROM table WHERE St_Kilda_score = STR_VALUE_1</s> --->                                         \n",
      "<s>SELECT COUNT Wins FROM table WHERE Top-25 < NUM_VALUE_1 AND Events > NUM_VALUE_2 AND Top-5 < NUM_VALUE_3</s> --->                                         \n",
      "##############################\n"
     ]
    },
    {
     "name": "stderr",
     "output_type": "stream",
     "text": [
      " 59%|█████▉    | 235/400 [01:38<01:11,  2.32it/s, train score=0.037, val score=0.264, train loss=1.78, val loss=2.32] "
     ]
    },
    {
     "name": "stdout",
     "output_type": "stream",
     "text": [
      "<s>SELECT Winner FROM table WHERE St_Kilda_score = STR_VALUE_1</s> --->                                         \n",
      "<s>SELECT COUNT Wins FROM table WHERE Top-25 < NUM_VALUE_1 AND Events > NUM_VALUE_2 AND Top-5 < NUM_VALUE_3</s> --->                                         \n",
      "##############################\n"
     ]
    },
    {
     "name": "stderr",
     "output_type": "stream",
     "text": [
      " 59%|█████▉    | 236/400 [01:38<01:13,  2.23it/s, train score=0, val score=0.264, train loss=1.95, val loss=2.33]    "
     ]
    },
    {
     "name": "stdout",
     "output_type": "stream",
     "text": [
      "<s>SELECT Winner FROM table WHERE St_Kilda_score = STR_VALUE_1</s> --->                                         \n",
      "<s>SELECT COUNT Wins FROM table WHERE Top-25 < NUM_VALUE_1 AND Events > NUM_VALUE_2 AND Top-5 < NUM_VALUE_3</s> --->                                         \n",
      "##############################\n"
     ]
    },
    {
     "name": "stderr",
     "output_type": "stream",
     "text": [
      " 59%|█████▉    | 237/400 [01:39<01:11,  2.29it/s, train score=0.094, val score=0.264, train loss=2.19, val loss=2.32]"
     ]
    },
    {
     "name": "stdout",
     "output_type": "stream",
     "text": [
      "<s>SELECT Winner FROM table WHERE St_Kilda_score = STR_VALUE_1</s> --->                                         \n",
      "<s>SELECT COUNT Wins FROM table WHERE Top-25 < NUM_VALUE_1 AND Events > NUM_VALUE_2 AND Top-5 < NUM_VALUE_3</s> --->                                         \n",
      "##############################\n"
     ]
    },
    {
     "name": "stderr",
     "output_type": "stream",
     "text": [
      " 60%|█████▉    | 238/400 [01:39<01:10,  2.30it/s, train score=0.134, val score=0.264, train loss=1.87, val loss=2.32]"
     ]
    },
    {
     "name": "stdout",
     "output_type": "stream",
     "text": [
      "<s>SELECT Winner FROM table WHERE St_Kilda_score = STR_VALUE_1</s> --->                                         \n",
      "<s>SELECT COUNT Wins FROM table WHERE Top-25 < NUM_VALUE_1 AND Events > NUM_VALUE_2 AND Top-5 < NUM_VALUE_3</s> --->                                         \n",
      "##############################\n"
     ]
    },
    {
     "name": "stderr",
     "output_type": "stream",
     "text": [
      " 60%|█████▉    | 239/400 [01:39<01:11,  2.25it/s, train score=0.0741, val score=0.264, train loss=1.89, val loss=2.31]"
     ]
    },
    {
     "name": "stdout",
     "output_type": "stream",
     "text": [
      "<s>SELECT Winner FROM table WHERE St_Kilda_score = STR_VALUE_1</s> --->                                         \n",
      "<s>SELECT COUNT Wins FROM table WHERE Top-25 < NUM_VALUE_1 AND Events > NUM_VALUE_2 AND Top-5 < NUM_VALUE_3</s> --->                                         \n",
      "##############################\n"
     ]
    },
    {
     "name": "stderr",
     "output_type": "stream",
     "text": [
      " 60%|██████    | 240/400 [01:40<01:09,  2.31it/s, train score=0.037, val score=0.264, train loss=1.72, val loss=2.31] "
     ]
    },
    {
     "name": "stdout",
     "output_type": "stream",
     "text": [
      "<s>SELECT Winner FROM table WHERE St_Kilda_score = STR_VALUE_1</s> --->                                         \n",
      "<s>SELECT COUNT Wins FROM table WHERE Top-25 < NUM_VALUE_1 AND Events > NUM_VALUE_2 AND Top-5 < NUM_VALUE_3</s> --->                                         \n",
      "##############################\n"
     ]
    },
    {
     "name": "stderr",
     "output_type": "stream",
     "text": [
      " 60%|██████    | 241/400 [01:40<01:07,  2.36it/s, train score=0.0385, val score=0.264, train loss=1.84, val loss=2.31]"
     ]
    },
    {
     "name": "stdout",
     "output_type": "stream",
     "text": [
      "<s>SELECT Winner FROM table WHERE St_Kilda_score = STR_VALUE_1</s> --->                                         \n",
      "<s>SELECT COUNT Wins FROM table WHERE Top-25 < NUM_VALUE_1 AND Events > NUM_VALUE_2 AND Top-5 < NUM_VALUE_3</s> --->                                         \n",
      "##############################\n"
     ]
    },
    {
     "name": "stderr",
     "output_type": "stream",
     "text": [
      " 60%|██████    | 242/400 [01:41<01:06,  2.39it/s, train score=0, val score=0.264, train loss=1.83, val loss=2.3]      "
     ]
    },
    {
     "name": "stdout",
     "output_type": "stream",
     "text": [
      "<s>SELECT Winner FROM table WHERE St_Kilda_score = STR_VALUE_1</s> --->                                         \n",
      "<s>SELECT COUNT Wins FROM table WHERE Top-25 < NUM_VALUE_1 AND Events > NUM_VALUE_2 AND Top-5 < NUM_VALUE_3</s> --->                                         \n",
      "##############################\n"
     ]
    },
    {
     "name": "stderr",
     "output_type": "stream",
     "text": [
      " 61%|██████    | 243/400 [01:41<01:04,  2.42it/s, train score=0.0185, val score=0.264, train loss=1.93, val loss=2.31]"
     ]
    },
    {
     "name": "stdout",
     "output_type": "stream",
     "text": [
      "<s>SELECT Winner FROM table WHERE St_Kilda_score = STR_VALUE_1</s> --->                                         \n",
      "<s>SELECT COUNT Wins FROM table WHERE Top-25 < NUM_VALUE_1 AND Events > NUM_VALUE_2 AND Top-5 < NUM_VALUE_3</s> --->                                         \n",
      "##############################\n"
     ]
    },
    {
     "name": "stderr",
     "output_type": "stream",
     "text": [
      " 61%|██████    | 244/400 [01:41<01:05,  2.40it/s, train score=0.0755, val score=0.264, train loss=2.04, val loss=2.31]"
     ]
    },
    {
     "name": "stdout",
     "output_type": "stream",
     "text": [
      "<s>SELECT Winner FROM table WHERE St_Kilda_score = STR_VALUE_1</s> --->                                         \n",
      "<s>SELECT COUNT Wins FROM table WHERE Top-25 < NUM_VALUE_1 AND Events > NUM_VALUE_2 AND Top-5 < NUM_VALUE_3</s> --->                                         \n",
      "##############################\n"
     ]
    },
    {
     "name": "stderr",
     "output_type": "stream",
     "text": [
      " 61%|██████▏   | 245/400 [01:42<01:03,  2.43it/s, train score=0.037, val score=0.264, train loss=1.93, val loss=2.31] "
     ]
    },
    {
     "name": "stdout",
     "output_type": "stream",
     "text": [
      "<s>SELECT Winner FROM table WHERE St_Kilda_score = STR_VALUE_1</s> --->                                         \n",
      "<s>SELECT COUNT Wins FROM table WHERE Top-25 < NUM_VALUE_1 AND Events > NUM_VALUE_2 AND Top-5 < NUM_VALUE_3</s> --->                                         \n",
      "##############################\n"
     ]
    },
    {
     "name": "stderr",
     "output_type": "stream",
     "text": [
      " 62%|██████▏   | 246/400 [01:42<01:02,  2.45it/s, train score=0.0769, val score=0.264, train loss=1.9, val loss=2.32]"
     ]
    },
    {
     "name": "stdout",
     "output_type": "stream",
     "text": [
      "<s>SELECT Winner FROM table WHERE St_Kilda_score = STR_VALUE_1</s> --->                                         \n",
      "<s>SELECT COUNT Wins FROM table WHERE Top-25 < NUM_VALUE_1 AND Events > NUM_VALUE_2 AND Top-5 < NUM_VALUE_3</s> --->                                         \n",
      "##############################\n"
     ]
    },
    {
     "name": "stderr",
     "output_type": "stream",
     "text": [
      " 62%|██████▏   | 247/400 [01:43<01:02,  2.46it/s, train score=0.0385, val score=0.264, train loss=1.82, val loss=2.32]"
     ]
    },
    {
     "name": "stdout",
     "output_type": "stream",
     "text": [
      "<s>SELECT Winner FROM table WHERE St_Kilda_score = STR_VALUE_1</s> --->                                         \n",
      "<s>SELECT COUNT Wins FROM table WHERE Top-25 < NUM_VALUE_1 AND Events > NUM_VALUE_2 AND Top-5 < NUM_VALUE_3</s> --->                                         \n",
      "##############################\n"
     ]
    },
    {
     "name": "stderr",
     "output_type": "stream",
     "text": [
      " 62%|██████▏   | 248/400 [01:43<01:02,  2.43it/s, train score=0.115, val score=0.264, train loss=1.92, val loss=2.33] "
     ]
    },
    {
     "name": "stdout",
     "output_type": "stream",
     "text": [
      "<s>SELECT Winner FROM table WHERE St_Kilda_score = STR_VALUE_1</s> --->                                         \n",
      "<s>SELECT COUNT Wins FROM table WHERE Top-25 < NUM_VALUE_1 AND Events > NUM_VALUE_2 AND Top-5 < NUM_VALUE_3</s> --->                                         \n",
      "##############################\n"
     ]
    },
    {
     "name": "stderr",
     "output_type": "stream",
     "text": [
      " 62%|██████▏   | 249/400 [01:44<01:01,  2.44it/s, train score=0.037, val score=0.264, train loss=2.01, val loss=2.34]"
     ]
    },
    {
     "name": "stdout",
     "output_type": "stream",
     "text": [
      "<s>SELECT Winner FROM table WHERE St_Kilda_score = STR_VALUE_1</s> --->                                         \n",
      "<s>SELECT COUNT Wins FROM table WHERE Top-25 < NUM_VALUE_1 AND Events > NUM_VALUE_2 AND Top-5 < NUM_VALUE_3</s> --->                                         \n",
      "##############################\n"
     ]
    },
    {
     "name": "stderr",
     "output_type": "stream",
     "text": [
      " 62%|██████▎   | 250/400 [01:44<01:01,  2.45it/s, train score=0, val score=0.264, train loss=1.97, val loss=2.35]    "
     ]
    },
    {
     "name": "stdout",
     "output_type": "stream",
     "text": [
      "<s>SELECT Winner FROM table WHERE St_Kilda_score = STR_VALUE_1</s> --->                                         \n",
      "<s>SELECT COUNT Wins FROM table WHERE Top-25 < NUM_VALUE_1 AND Events > NUM_VALUE_2 AND Top-5 < NUM_VALUE_3</s> --->                                         \n",
      "##############################\n"
     ]
    },
    {
     "name": "stderr",
     "output_type": "stream",
     "text": [
      " 63%|██████▎   | 251/400 [01:44<01:00,  2.45it/s, train score=0.057, val score=0.264, train loss=1.9, val loss=2.34]"
     ]
    },
    {
     "name": "stdout",
     "output_type": "stream",
     "text": [
      "<s>SELECT Winner FROM table WHERE St_Kilda_score = STR_VALUE_1</s> --->                                         \n",
      "<s>SELECT COUNT Wins FROM table WHERE Top-25 < NUM_VALUE_1 AND Events > NUM_VALUE_2 AND Top-5 < NUM_VALUE_3</s> --->                                         \n",
      "##############################\n"
     ]
    },
    {
     "name": "stderr",
     "output_type": "stream",
     "text": [
      " 63%|██████▎   | 252/400 [01:45<01:01,  2.39it/s, train score=0.0769, val score=0.264, train loss=2, val loss=2.34] "
     ]
    },
    {
     "name": "stdout",
     "output_type": "stream",
     "text": [
      "<s>SELECT Winner FROM table WHERE St_Kilda_score = STR_VALUE_1</s> --->                                         \n",
      "<s>SELECT COUNT Wins FROM table WHERE Top-25 < NUM_VALUE_1 AND Events > NUM_VALUE_2 AND Top-5 < NUM_VALUE_3</s> --->                                         \n",
      "##############################\n"
     ]
    },
    {
     "name": "stderr",
     "output_type": "stream",
     "text": [
      " 63%|██████▎   | 253/400 [01:45<01:01,  2.37it/s, train score=0.171, val score=0.264, train loss=1.92, val loss=2.34]"
     ]
    },
    {
     "name": "stdout",
     "output_type": "stream",
     "text": [
      "<s>SELECT Winner FROM table WHERE St_Kilda_score = STR_VALUE_1</s> --->                                         \n",
      "<s>SELECT COUNT Wins FROM table WHERE Top-25 < NUM_VALUE_1 AND Events > NUM_VALUE_2 AND Top-5 < NUM_VALUE_3</s> --->                                         \n",
      "##############################\n"
     ]
    },
    {
     "name": "stderr",
     "output_type": "stream",
     "text": [
      " 64%|██████▎   | 254/400 [01:46<01:00,  2.40it/s, train score=0.0385, val score=0.264, train loss=1.93, val loss=2.33]"
     ]
    },
    {
     "name": "stdout",
     "output_type": "stream",
     "text": [
      "<s>SELECT Winner FROM table WHERE St_Kilda_score = STR_VALUE_1</s> --->                                         \n",
      "<s>SELECT COUNT Wins FROM table WHERE Top-25 < NUM_VALUE_1 AND Events > NUM_VALUE_2 AND Top-5 < NUM_VALUE_3</s> --->                                         \n",
      "##############################\n"
     ]
    },
    {
     "name": "stderr",
     "output_type": "stream",
     "text": [
      " 64%|██████▍   | 255/400 [01:46<00:59,  2.43it/s, train score=0, val score=0.264, train loss=1.91, val loss=2.33]     "
     ]
    },
    {
     "name": "stdout",
     "output_type": "stream",
     "text": [
      "<s>SELECT Winner FROM table WHERE St_Kilda_score = STR_VALUE_1</s> --->                                         \n",
      "<s>SELECT COUNT Wins FROM table WHERE Top-25 < NUM_VALUE_1 AND Events > NUM_VALUE_2 AND Top-5 < NUM_VALUE_3</s> --->                                         \n",
      "##############################\n"
     ]
    },
    {
     "name": "stderr",
     "output_type": "stream",
     "text": [
      " 64%|██████▍   | 256/400 [01:46<00:59,  2.42it/s, train score=0, val score=0.264, train loss=1.74, val loss=2.33]"
     ]
    },
    {
     "name": "stdout",
     "output_type": "stream",
     "text": [
      "<s>SELECT Winner FROM table WHERE St_Kilda_score = STR_VALUE_1</s> --->                                         \n",
      "<s>SELECT COUNT Wins FROM table WHERE Top-25 < NUM_VALUE_1 AND Events > NUM_VALUE_2 AND Top-5 < NUM_VALUE_3</s> --->                                         \n",
      "##############################\n"
     ]
    },
    {
     "name": "stderr",
     "output_type": "stream",
     "text": [
      " 64%|██████▍   | 257/400 [01:47<00:59,  2.42it/s, train score=0, val score=0.264, train loss=2.14, val loss=2.33]"
     ]
    },
    {
     "name": "stdout",
     "output_type": "stream",
     "text": [
      "<s>SELECT Winner FROM table WHERE St_Kilda_score = STR_VALUE_1</s> --->                                         \n",
      "<s>SELECT COUNT Wins FROM table WHERE Top-25 < NUM_VALUE_1 AND Events > NUM_VALUE_2 AND Top-5 < NUM_VALUE_3</s> --->                                         \n",
      "##############################\n"
     ]
    },
    {
     "name": "stderr",
     "output_type": "stream",
     "text": [
      " 64%|██████▍   | 258/400 [01:47<00:58,  2.44it/s, train score=0.131, val score=0.264, train loss=1.79, val loss=2.32]"
     ]
    },
    {
     "name": "stdout",
     "output_type": "stream",
     "text": [
      "<s>SELECT Winner FROM table WHERE St_Kilda_score = STR_VALUE_1</s> --->                                         \n",
      "<s>SELECT COUNT Wins FROM table WHERE Top-25 < NUM_VALUE_1 AND Events > NUM_VALUE_2 AND Top-5 < NUM_VALUE_3</s> --->                                         \n",
      "##############################\n"
     ]
    },
    {
     "name": "stderr",
     "output_type": "stream",
     "text": [
      " 65%|██████▍   | 259/400 [01:48<00:58,  2.43it/s, train score=0, val score=0.264, train loss=1.92, val loss=2.32]    "
     ]
    },
    {
     "name": "stdout",
     "output_type": "stream",
     "text": [
      "<s>SELECT Winner FROM table WHERE St_Kilda_score = STR_VALUE_1</s> --->                                         \n",
      "<s>SELECT COUNT Wins FROM table WHERE Top-25 < NUM_VALUE_1 AND Events > NUM_VALUE_2 AND Top-5 < NUM_VALUE_3</s> --->                                         \n",
      "##############################\n"
     ]
    },
    {
     "name": "stderr",
     "output_type": "stream",
     "text": [
      " 65%|██████▌   | 260/400 [01:48<00:57,  2.43it/s, train score=0.0185, val score=0.264, train loss=1.82, val loss=2.32]"
     ]
    },
    {
     "name": "stdout",
     "output_type": "stream",
     "text": [
      "<s>SELECT Winner FROM table WHERE St_Kilda_score = STR_VALUE_1</s> --->                                         \n",
      "<s>SELECT COUNT Wins FROM table WHERE Top-25 < NUM_VALUE_1 AND Events > NUM_VALUE_2 AND Top-5 < NUM_VALUE_3</s> --->                                         \n",
      "##############################\n"
     ]
    },
    {
     "name": "stderr",
     "output_type": "stream",
     "text": [
      " 65%|██████▌   | 261/400 [01:48<00:56,  2.44it/s, train score=0.0385, val score=0.264, train loss=1.88, val loss=2.32]"
     ]
    },
    {
     "name": "stdout",
     "output_type": "stream",
     "text": [
      "<s>SELECT Winner FROM table WHERE St_Kilda_score = STR_VALUE_1</s> --->                                         \n",
      "<s>SELECT COUNT Wins FROM table WHERE Top-25 < NUM_VALUE_1 AND Events > NUM_VALUE_2 AND Top-5 < NUM_VALUE_3</s> --->                                         \n",
      "##############################\n"
     ]
    },
    {
     "name": "stderr",
     "output_type": "stream",
     "text": [
      " 66%|██████▌   | 262/400 [01:49<00:57,  2.42it/s, train score=0.0926, val score=0.264, train loss=1.89, val loss=2.32]"
     ]
    },
    {
     "name": "stdout",
     "output_type": "stream",
     "text": [
      "<s>SELECT Winner FROM table WHERE St_Kilda_score = STR_VALUE_1</s> --->                                         \n",
      "<s>SELECT COUNT Wins FROM table WHERE Top-25 < NUM_VALUE_1 AND Events > NUM_VALUE_2 AND Top-5 < NUM_VALUE_3</s> --->                                         \n",
      "##############################\n"
     ]
    },
    {
     "name": "stderr",
     "output_type": "stream",
     "text": [
      " 66%|██████▌   | 263/400 [01:49<00:56,  2.43it/s, train score=0.0755, val score=0.264, train loss=1.76, val loss=2.33]"
     ]
    },
    {
     "name": "stdout",
     "output_type": "stream",
     "text": [
      "<s>SELECT Winner FROM table WHERE St_Kilda_score = STR_VALUE_1</s> --->                                         \n",
      "<s>SELECT COUNT Wins FROM table WHERE Top-25 < NUM_VALUE_1 AND Events > NUM_VALUE_2 AND Top-5 < NUM_VALUE_3</s> --->                                         \n",
      "##############################\n"
     ]
    },
    {
     "name": "stderr",
     "output_type": "stream",
     "text": [
      " 66%|██████▌   | 264/400 [01:50<00:56,  2.39it/s, train score=0, val score=0.264, train loss=1.95, val loss=2.33]     "
     ]
    },
    {
     "name": "stdout",
     "output_type": "stream",
     "text": [
      "<s>SELECT Winner FROM table WHERE St_Kilda_score = STR_VALUE_1</s> --->                                         \n",
      "<s>SELECT COUNT Wins FROM table WHERE Top-25 < NUM_VALUE_1 AND Events > NUM_VALUE_2 AND Top-5 < NUM_VALUE_3</s> --->                                         \n",
      "##############################\n"
     ]
    },
    {
     "name": "stderr",
     "output_type": "stream",
     "text": [
      " 66%|██████▋   | 265/400 [01:50<00:56,  2.38it/s, train score=0.037, val score=0.264, train loss=1.77, val loss=2.33]"
     ]
    },
    {
     "name": "stdout",
     "output_type": "stream",
     "text": [
      "<s>SELECT Winner FROM table WHERE St_Kilda_score = STR_VALUE_1</s> --->                                         \n",
      "<s>SELECT COUNT Wins FROM table WHERE Top-25 < NUM_VALUE_1 AND Events > NUM_VALUE_2 AND Top-5 < NUM_VALUE_3</s> --->                                         \n",
      "##############################\n"
     ]
    },
    {
     "name": "stderr",
     "output_type": "stream",
     "text": [
      " 66%|██████▋   | 266/400 [01:51<00:55,  2.42it/s, train score=0.113, val score=0.264, train loss=1.88, val loss=2.33]"
     ]
    },
    {
     "name": "stdout",
     "output_type": "stream",
     "text": [
      "<s>SELECT Winner FROM table WHERE St_Kilda_score = STR_VALUE_1</s> --->                                         \n",
      "<s>SELECT COUNT Wins FROM table WHERE Top-25 < NUM_VALUE_1 AND Events > NUM_VALUE_2 AND Top-5 < NUM_VALUE_3</s> --->                                         \n",
      "##############################\n"
     ]
    },
    {
     "name": "stderr",
     "output_type": "stream",
     "text": [
      " 67%|██████▋   | 267/400 [01:51<00:54,  2.43it/s, train score=0.0185, val score=0.264, train loss=1.75, val loss=2.34]"
     ]
    },
    {
     "name": "stdout",
     "output_type": "stream",
     "text": [
      "<s>SELECT Winner FROM table WHERE St_Kilda_score = STR_VALUE_1</s> --->                                         \n",
      "<s>SELECT COUNT Wins FROM table WHERE Top-25 < NUM_VALUE_1 AND Events > NUM_VALUE_2 AND Top-5 < NUM_VALUE_3</s> --->                                         \n",
      "##############################\n"
     ]
    },
    {
     "name": "stderr",
     "output_type": "stream",
     "text": [
      " 67%|██████▋   | 268/400 [01:51<00:53,  2.45it/s, train score=0.0755, val score=0.264, train loss=1.8, val loss=2.35] "
     ]
    },
    {
     "name": "stdout",
     "output_type": "stream",
     "text": [
      "<s>SELECT Winner FROM table WHERE St_Kilda_score = STR_VALUE_1</s> --->                                         \n",
      "<s>SELECT COUNT Wins FROM table WHERE Top-25 < NUM_VALUE_1 AND Events > NUM_VALUE_2 AND Top-5 < NUM_VALUE_3</s> --->                                         \n",
      "##############################\n"
     ]
    },
    {
     "name": "stderr",
     "output_type": "stream",
     "text": [
      " 67%|██████▋   | 269/400 [01:52<00:53,  2.45it/s, train score=0, val score=0.264, train loss=1.86, val loss=2.36]    "
     ]
    },
    {
     "name": "stdout",
     "output_type": "stream",
     "text": [
      "<s>SELECT Winner FROM table WHERE St_Kilda_score = STR_VALUE_1</s> --->                                         \n",
      "<s>SELECT COUNT Wins FROM table WHERE Top-25 < NUM_VALUE_1 AND Events > NUM_VALUE_2 AND Top-5 < NUM_VALUE_3</s> --->                                         \n",
      "##############################\n"
     ]
    },
    {
     "name": "stderr",
     "output_type": "stream",
     "text": [
      " 68%|██████▊   | 270/400 [01:52<00:52,  2.46it/s, train score=0.0741, val score=0.264, train loss=2.08, val loss=2.36]"
     ]
    },
    {
     "name": "stdout",
     "output_type": "stream",
     "text": [
      "<s>SELECT Winner FROM table WHERE St_Kilda_score = STR_VALUE_1</s> --->                                         \n",
      "<s>SELECT COUNT Wins FROM table WHERE Top-25 < NUM_VALUE_1 AND Events > NUM_VALUE_2 AND Top-5 < NUM_VALUE_3</s> --->                                         \n",
      "##############################\n"
     ]
    },
    {
     "name": "stderr",
     "output_type": "stream",
     "text": [
      " 68%|██████▊   | 271/400 [01:53<00:52,  2.46it/s, train score=0.0556, val score=0.264, train loss=2.15, val loss=2.36]"
     ]
    },
    {
     "name": "stdout",
     "output_type": "stream",
     "text": [
      "<s>SELECT Winner FROM table WHERE St_Kilda_score = STR_VALUE_1</s> --->                                         \n",
      "<s>SELECT COUNT Wins FROM table WHERE Top-25 < NUM_VALUE_1 AND Events > NUM_VALUE_2 AND Top-5 < NUM_VALUE_3</s> --->                                         \n",
      "##############################\n"
     ]
    },
    {
     "name": "stderr",
     "output_type": "stream",
     "text": [
      " 68%|██████▊   | 272/400 [01:53<00:51,  2.47it/s, train score=0.113, val score=0.264, train loss=1.8, val loss=2.35]  "
     ]
    },
    {
     "name": "stdout",
     "output_type": "stream",
     "text": [
      "<s>SELECT Winner FROM table WHERE St_Kilda_score = STR_VALUE_1</s> --->                                         \n",
      "<s>SELECT COUNT Wins FROM table WHERE Top-25 < NUM_VALUE_1 AND Events > NUM_VALUE_2 AND Top-5 < NUM_VALUE_3</s> --->                                         \n",
      "##############################\n"
     ]
    },
    {
     "name": "stderr",
     "output_type": "stream",
     "text": [
      " 68%|██████▊   | 273/400 [01:53<00:51,  2.47it/s, train score=0.114, val score=0.264, train loss=1.84, val loss=2.35]"
     ]
    },
    {
     "name": "stdout",
     "output_type": "stream",
     "text": [
      "<s>SELECT Winner FROM table WHERE St_Kilda_score = STR_VALUE_1</s> --->                                         \n",
      "<s>SELECT COUNT Wins FROM table WHERE Top-25 < NUM_VALUE_1 AND Events > NUM_VALUE_2 AND Top-5 < NUM_VALUE_3</s> --->                                         \n",
      "##############################\n"
     ]
    },
    {
     "name": "stderr",
     "output_type": "stream",
     "text": [
      " 68%|██████▊   | 274/400 [01:54<00:50,  2.47it/s, train score=0.0755, val score=0.264, train loss=1.78, val loss=2.34]"
     ]
    },
    {
     "name": "stdout",
     "output_type": "stream",
     "text": [
      "<s>SELECT Winner FROM table WHERE St_Kilda_score = STR_VALUE_1</s> --->                                         \n",
      "<s>SELECT COUNT Wins FROM table WHERE Top-25 < NUM_VALUE_1 AND Events > NUM_VALUE_2 AND Top-5 < NUM_VALUE_3</s> --->                                         \n",
      "##############################\n"
     ]
    },
    {
     "name": "stderr",
     "output_type": "stream",
     "text": [
      " 69%|██████▉   | 275/400 [01:54<00:50,  2.47it/s, train score=0.037, val score=0.264, train loss=1.85, val loss=2.35] "
     ]
    },
    {
     "name": "stdout",
     "output_type": "stream",
     "text": [
      "<s>SELECT Winner FROM table WHERE St_Kilda_score = STR_VALUE_1</s> --->                                         \n",
      "<s>SELECT COUNT Wins FROM table WHERE Top-25 < NUM_VALUE_1 AND Events > NUM_VALUE_2 AND Top-5 < NUM_VALUE_3</s> --->                                         \n",
      "##############################\n"
     ]
    },
    {
     "name": "stderr",
     "output_type": "stream",
     "text": [
      " 69%|██████▉   | 276/400 [01:55<00:50,  2.47it/s, train score=0, val score=0.264, train loss=1.93, val loss=2.35]    "
     ]
    },
    {
     "name": "stdout",
     "output_type": "stream",
     "text": [
      "<s>SELECT Winner FROM table WHERE St_Kilda_score = STR_VALUE_1</s> --->                                         \n",
      "<s>SELECT COUNT Wins FROM table WHERE Top-25 < NUM_VALUE_1 AND Events > NUM_VALUE_2 AND Top-5 < NUM_VALUE_3</s> --->                                         \n",
      "##############################\n"
     ]
    },
    {
     "name": "stderr",
     "output_type": "stream",
     "text": [
      " 69%|██████▉   | 277/400 [01:55<00:49,  2.47it/s, train score=0.0769, val score=0.264, train loss=2.12, val loss=2.35]"
     ]
    },
    {
     "name": "stdout",
     "output_type": "stream",
     "text": [
      "<s>SELECT Winner FROM table WHERE St_Kilda_score = STR_VALUE_1</s> --->                                         \n",
      "<s>SELECT COUNT Wins FROM table WHERE Top-25 < NUM_VALUE_1 AND Events > NUM_VALUE_2 AND Top-5 < NUM_VALUE_3</s> --->                                         \n",
      "##############################\n"
     ]
    },
    {
     "name": "stderr",
     "output_type": "stream",
     "text": [
      " 70%|██████▉   | 278/400 [01:55<00:49,  2.49it/s, train score=0, val score=0.264, train loss=1.89, val loss=2.35]     "
     ]
    },
    {
     "name": "stdout",
     "output_type": "stream",
     "text": [
      "<s>SELECT Winner FROM table WHERE St_Kilda_score = STR_VALUE_1</s> --->                                         \n",
      "<s>SELECT COUNT Wins FROM table WHERE Top-25 < NUM_VALUE_1 AND Events > NUM_VALUE_2 AND Top-5 < NUM_VALUE_3</s> --->                                         \n",
      "##############################\n"
     ]
    },
    {
     "name": "stderr",
     "output_type": "stream",
     "text": [
      " 70%|██████▉   | 279/400 [01:56<00:48,  2.47it/s, train score=0.094, val score=0.264, train loss=1.72, val loss=2.35]"
     ]
    },
    {
     "name": "stdout",
     "output_type": "stream",
     "text": [
      "<s>SELECT Winner FROM table WHERE St_Kilda_score = STR_VALUE_1</s> --->                                         \n",
      "<s>SELECT COUNT Wins FROM table WHERE Top-25 < NUM_VALUE_1 AND Events > NUM_VALUE_2 AND Top-5 < NUM_VALUE_3</s> --->                                         \n",
      "##############################\n"
     ]
    },
    {
     "name": "stderr",
     "output_type": "stream",
     "text": [
      " 70%|███████   | 280/400 [01:56<00:48,  2.50it/s, train score=0.094, val score=0.264, train loss=1.88, val loss=2.35]"
     ]
    },
    {
     "name": "stdout",
     "output_type": "stream",
     "text": [
      "<s>SELECT Winner FROM table WHERE St_Kilda_score = STR_VALUE_1</s> --->                                         \n",
      "<s>SELECT COUNT Wins FROM table WHERE Top-25 < NUM_VALUE_1 AND Events > NUM_VALUE_2 AND Top-5 < NUM_VALUE_3</s> --->                                         \n",
      "##############################\n"
     ]
    },
    {
     "name": "stderr",
     "output_type": "stream",
     "text": [
      " 70%|███████   | 281/400 [01:57<00:47,  2.51it/s, train score=0.134, val score=0.264, train loss=1.99, val loss=2.36]"
     ]
    },
    {
     "name": "stdout",
     "output_type": "stream",
     "text": [
      "<s>SELECT Winner FROM table WHERE St_Kilda_score = STR_VALUE_1</s> --->                                         \n",
      "<s>SELECT COUNT Wins FROM table WHERE Top-25 < NUM_VALUE_1 AND Events > NUM_VALUE_2 AND Top-5 < NUM_VALUE_3</s> --->                                         \n",
      "##############################\n"
     ]
    },
    {
     "name": "stderr",
     "output_type": "stream",
     "text": [
      " 70%|███████   | 282/400 [01:57<00:47,  2.49it/s, train score=0.037, val score=0.264, train loss=1.96, val loss=2.37]"
     ]
    },
    {
     "name": "stdout",
     "output_type": "stream",
     "text": [
      "<s>SELECT Winner FROM table WHERE St_Kilda_score = STR_VALUE_1</s> --->                                         \n",
      "<s>SELECT COUNT Wins FROM table WHERE Top-25 < NUM_VALUE_1 AND Events > NUM_VALUE_2 AND Top-5 < NUM_VALUE_3</s> --->                                         \n",
      "##############################\n"
     ]
    },
    {
     "name": "stderr",
     "output_type": "stream",
     "text": [
      " 71%|███████   | 283/400 [01:57<00:47,  2.48it/s, train score=0, val score=0.264, train loss=1.91, val loss=2.39]    "
     ]
    },
    {
     "name": "stdout",
     "output_type": "stream",
     "text": [
      "<s>SELECT Winner FROM table WHERE St_Kilda_score = STR_VALUE_1</s> --->                                         \n",
      "<s>SELECT COUNT Wins FROM table WHERE Top-25 < NUM_VALUE_1 AND Events > NUM_VALUE_2 AND Top-5 < NUM_VALUE_3</s> --->                                         \n",
      "##############################\n"
     ]
    },
    {
     "name": "stderr",
     "output_type": "stream",
     "text": [
      " 71%|███████   | 284/400 [01:58<00:46,  2.48it/s, train score=0.207, val score=0.264, train loss=2.22, val loss=2.39]"
     ]
    },
    {
     "name": "stdout",
     "output_type": "stream",
     "text": [
      "<s>SELECT Winner FROM table WHERE St_Kilda_score = STR_VALUE_1</s> --->                                         \n",
      "<s>SELECT COUNT Wins FROM table WHERE Top-25 < NUM_VALUE_1 AND Events > NUM_VALUE_2 AND Top-5 < NUM_VALUE_3</s> --->                                         \n",
      "##############################\n"
     ]
    },
    {
     "name": "stderr",
     "output_type": "stream",
     "text": [
      " 71%|███████▏  | 285/400 [01:58<00:46,  2.47it/s, train score=0.0755, val score=0.264, train loss=1.86, val loss=2.4]"
     ]
    },
    {
     "name": "stdout",
     "output_type": "stream",
     "text": [
      "<s>SELECT Winner FROM table WHERE St_Kilda_score = STR_VALUE_1</s> --->                                         \n",
      "<s>SELECT COUNT Wins FROM table WHERE Top-25 < NUM_VALUE_1 AND Events > NUM_VALUE_2 AND Top-5 < NUM_VALUE_3</s> --->                                         \n",
      "##############################\n"
     ]
    },
    {
     "name": "stderr",
     "output_type": "stream",
     "text": [
      " 72%|███████▏  | 286/400 [01:59<00:46,  2.47it/s, train score=0.115, val score=0.264, train loss=1.79, val loss=2.41]"
     ]
    },
    {
     "name": "stdout",
     "output_type": "stream",
     "text": [
      "<s>SELECT Winner FROM table WHERE St_Kilda_score = STR_VALUE_1</s> --->                                         \n",
      "<s>SELECT COUNT Wins FROM table WHERE Top-25 < NUM_VALUE_1 AND Events > NUM_VALUE_2 AND Top-5 < NUM_VALUE_3</s> --->                                         \n",
      "##############################\n"
     ]
    },
    {
     "name": "stderr",
     "output_type": "stream",
     "text": [
      " 72%|███████▏  | 287/400 [01:59<00:45,  2.46it/s, train score=0.0185, val score=0.264, train loss=1.85, val loss=2.41]"
     ]
    },
    {
     "name": "stdout",
     "output_type": "stream",
     "text": [
      "<s>SELECT Winner FROM table WHERE St_Kilda_score = STR_VALUE_1</s> --->                                         \n",
      "<s>SELECT COUNT Wins FROM table WHERE Top-25 < NUM_VALUE_1 AND Events > NUM_VALUE_2 AND Top-5 < NUM_VALUE_3</s> --->                                         \n",
      "##############################\n"
     ]
    },
    {
     "name": "stderr",
     "output_type": "stream",
     "text": [
      " 72%|███████▏  | 288/400 [01:59<00:45,  2.45it/s, train score=0.0769, val score=0.264, train loss=1.83, val loss=2.43]"
     ]
    },
    {
     "name": "stdout",
     "output_type": "stream",
     "text": [
      "<s>SELECT Winner FROM table WHERE St_Kilda_score = STR_VALUE_1</s> --->                                         \n",
      "<s>SELECT COUNT Wins FROM table WHERE Top-25 < NUM_VALUE_1 AND Events > NUM_VALUE_2 AND Top-5 < NUM_VALUE_3</s> --->                                         \n",
      "##############################\n"
     ]
    },
    {
     "name": "stderr",
     "output_type": "stream",
     "text": [
      " 72%|███████▏  | 289/400 [02:00<00:45,  2.46it/s, train score=0.0769, val score=0.264, train loss=1.92, val loss=2.44]"
     ]
    },
    {
     "name": "stdout",
     "output_type": "stream",
     "text": [
      "<s>SELECT Winner FROM table WHERE St_Kilda_score = STR_VALUE_1</s> --->                                         \n",
      "<s>SELECT COUNT Wins FROM table WHERE Top-25 < NUM_VALUE_1 AND Events > NUM_VALUE_2 AND Top-5 < NUM_VALUE_3</s> --->                                         \n",
      "##############################\n"
     ]
    },
    {
     "name": "stderr",
     "output_type": "stream",
     "text": [
      " 72%|███████▎  | 290/400 [02:00<00:46,  2.39it/s, train score=0.037, val score=0.264, train loss=1.75, val loss=2.45] "
     ]
    },
    {
     "name": "stdout",
     "output_type": "stream",
     "text": [
      "<s>SELECT Winner FROM table WHERE St_Kilda_score = STR_VALUE_1</s> --->                                         \n",
      "<s>SELECT COUNT Wins FROM table WHERE Top-25 < NUM_VALUE_1 AND Events > NUM_VALUE_2 AND Top-5 < NUM_VALUE_3</s> --->                                         \n",
      "##############################\n"
     ]
    },
    {
     "name": "stderr",
     "output_type": "stream",
     "text": [
      " 73%|███████▎  | 291/400 [02:01<00:45,  2.39it/s, train score=0.0185, val score=0.264, train loss=1.91, val loss=2.47]"
     ]
    },
    {
     "name": "stdout",
     "output_type": "stream",
     "text": [
      "<s>SELECT Winner FROM table WHERE St_Kilda_score = STR_VALUE_1</s> --->                                         \n",
      "<s>SELECT COUNT Wins FROM table WHERE Top-25 < NUM_VALUE_1 AND Events > NUM_VALUE_2 AND Top-5 < NUM_VALUE_3</s> --->                                         \n",
      "##############################\n"
     ]
    },
    {
     "name": "stderr",
     "output_type": "stream",
     "text": [
      " 73%|███████▎  | 292/400 [02:01<00:44,  2.41it/s, train score=0, val score=0.264, train loss=1.82, val loss=2.48]     "
     ]
    },
    {
     "name": "stdout",
     "output_type": "stream",
     "text": [
      "<s>SELECT Winner FROM table WHERE St_Kilda_score = STR_VALUE_1</s> --->                                         \n",
      "<s>SELECT COUNT Wins FROM table WHERE Top-25 < NUM_VALUE_1 AND Events > NUM_VALUE_2 AND Top-5 < NUM_VALUE_3</s> --->                                         \n",
      "##############################\n"
     ]
    },
    {
     "name": "stderr",
     "output_type": "stream",
     "text": [
      " 73%|███████▎  | 293/400 [02:02<00:44,  2.42it/s, train score=0.0385, val score=0.264, train loss=1.99, val loss=2.48]"
     ]
    },
    {
     "name": "stdout",
     "output_type": "stream",
     "text": [
      "<s>SELECT Winner FROM table WHERE St_Kilda_score = STR_VALUE_1</s> --->                                         \n",
      "<s>SELECT COUNT Wins FROM table WHERE Top-25 < NUM_VALUE_1 AND Events > NUM_VALUE_2 AND Top-5 < NUM_VALUE_3</s> --->                                         \n",
      "##############################\n"
     ]
    },
    {
     "name": "stderr",
     "output_type": "stream",
     "text": [
      " 74%|███████▎  | 294/400 [02:02<00:43,  2.44it/s, train score=0, val score=0.264, train loss=1.87, val loss=2.47]     "
     ]
    },
    {
     "name": "stdout",
     "output_type": "stream",
     "text": [
      "<s>SELECT Winner FROM table WHERE St_Kilda_score = STR_VALUE_1</s> --->                                         \n",
      "<s>SELECT COUNT Wins FROM table WHERE Top-25 < NUM_VALUE_1 AND Events > NUM_VALUE_2 AND Top-5 < NUM_VALUE_3</s> --->                                         \n",
      "##############################\n"
     ]
    },
    {
     "name": "stderr",
     "output_type": "stream",
     "text": [
      " 74%|███████▍  | 295/400 [02:02<00:42,  2.45it/s, train score=0.0755, val score=0.264, train loss=1.83, val loss=2.47]"
     ]
    },
    {
     "name": "stdout",
     "output_type": "stream",
     "text": [
      "<s>SELECT Winner FROM table WHERE St_Kilda_score = STR_VALUE_1</s> --->                                         \n",
      "<s>SELECT COUNT Wins FROM table WHERE Top-25 < NUM_VALUE_1 AND Events > NUM_VALUE_2 AND Top-5 < NUM_VALUE_3</s> --->                                         \n",
      "##############################\n"
     ]
    },
    {
     "name": "stderr",
     "output_type": "stream",
     "text": [
      " 74%|███████▍  | 296/400 [02:03<00:42,  2.46it/s, train score=0.115, val score=0.264, train loss=1.77, val loss=2.46] "
     ]
    },
    {
     "name": "stdout",
     "output_type": "stream",
     "text": [
      "<s>SELECT Winner FROM table WHERE St_Kilda_score = STR_VALUE_1</s> --->                                         \n",
      "<s>SELECT COUNT Wins FROM table WHERE Top-25 < NUM_VALUE_1 AND Events > NUM_VALUE_2 AND Top-5 < NUM_VALUE_3</s> --->                                         \n",
      "##############################\n"
     ]
    },
    {
     "name": "stderr",
     "output_type": "stream",
     "text": [
      " 74%|███████▍  | 297/400 [02:03<00:42,  2.44it/s, train score=0.037, val score=0.264, train loss=2.07, val loss=2.44]"
     ]
    },
    {
     "name": "stdout",
     "output_type": "stream",
     "text": [
      "<s>SELECT Winner FROM table WHERE St_Kilda_score = STR_VALUE_1</s> --->                                         \n",
      "<s>SELECT COUNT Wins FROM table WHERE Top-25 < NUM_VALUE_1 AND Events > NUM_VALUE_2 AND Top-5 < NUM_VALUE_3</s> --->                                         \n",
      "##############################\n"
     ]
    },
    {
     "name": "stderr",
     "output_type": "stream",
     "text": [
      " 74%|███████▍  | 298/400 [02:04<00:41,  2.48it/s, train score=0.057, val score=0.264, train loss=1.77, val loss=2.43]"
     ]
    },
    {
     "name": "stdout",
     "output_type": "stream",
     "text": [
      "<s>SELECT Winner FROM table WHERE St_Kilda_score = STR_VALUE_1</s> --->                                         \n",
      "<s>SELECT COUNT Wins FROM table WHERE Top-25 < NUM_VALUE_1 AND Events > NUM_VALUE_2 AND Top-5 < NUM_VALUE_3</s> --->                                         \n",
      "##############################\n"
     ]
    },
    {
     "name": "stderr",
     "output_type": "stream",
     "text": [
      " 75%|███████▍  | 299/400 [02:04<00:40,  2.48it/s, train score=0.094, val score=0.264, train loss=1.71, val loss=2.41]"
     ]
    },
    {
     "name": "stdout",
     "output_type": "stream",
     "text": [
      "<s>SELECT Winner FROM table WHERE St_Kilda_score = STR_VALUE_1</s> --->                                         \n",
      "<s>SELECT COUNT Wins FROM table WHERE Top-25 < NUM_VALUE_1 AND Events > NUM_VALUE_2 AND Top-5 < NUM_VALUE_3</s> --->                                         \n",
      "##############################\n"
     ]
    },
    {
     "name": "stderr",
     "output_type": "stream",
     "text": [
      " 75%|███████▍  | 299/400 [02:04<00:40,  2.48it/s, train score=0.0385, val score=0.264, train loss=1.71, val loss=2.4]"
     ]
    },
    {
     "name": "stdout",
     "output_type": "stream",
     "text": [
      "<s>SELECT Winner FROM table WHERE St_Kilda_score = STR_VALUE_1</s> --->                                         \n",
      "<s>SELECT COUNT Wins FROM table WHERE Top-25 < NUM_VALUE_1 AND Events > NUM_VALUE_2 AND Top-5 < NUM_VALUE_3</s> --->                                         \n",
      "##############################\n"
     ]
    },
    {
     "name": "stderr",
     "output_type": "stream",
     "text": [
      " 75%|███████▌  | 300/400 [02:05<00:40,  2.45it/s, train score=0.037, val score=0.264, train loss=1.82, val loss=2.4] "
     ]
    },
    {
     "name": "stdout",
     "output_type": "stream",
     "text": [
      "<s>SELECT Winner FROM table WHERE St_Kilda_score = STR_VALUE_1</s> --->                                         \n",
      "<s>SELECT COUNT Wins FROM table WHERE Top-25 < NUM_VALUE_1 AND Events > NUM_VALUE_2 AND Top-5 < NUM_VALUE_3</s> --->                                         \n",
      "##############################\n"
     ]
    },
    {
     "name": "stderr",
     "output_type": "stream",
     "text": [
      " 76%|███████▌  | 302/400 [02:05<00:41,  2.36it/s, train score=0, val score=0.264, train loss=1.99, val loss=2.4]    "
     ]
    },
    {
     "name": "stdout",
     "output_type": "stream",
     "text": [
      "<s>SELECT Winner FROM table WHERE St_Kilda_score = STR_VALUE_1</s> --->                                         \n",
      "<s>SELECT COUNT Wins FROM table WHERE Top-25 < NUM_VALUE_1 AND Events > NUM_VALUE_2 AND Top-5 < NUM_VALUE_3</s> --->                                         \n",
      "##############################\n"
     ]
    },
    {
     "name": "stderr",
     "output_type": "stream",
     "text": [
      " 76%|███████▌  | 303/400 [02:06<00:41,  2.35it/s, train score=0.0769, val score=0.264, train loss=1.84, val loss=2.4]"
     ]
    },
    {
     "name": "stdout",
     "output_type": "stream",
     "text": [
      "<s>SELECT Winner FROM table WHERE St_Kilda_score = STR_VALUE_1</s> --->                                         \n",
      "<s>SELECT COUNT Wins FROM table WHERE Top-25 < NUM_VALUE_1 AND Events > NUM_VALUE_2 AND Top-5 < NUM_VALUE_3</s> --->                                         \n",
      "##############################\n"
     ]
    },
    {
     "name": "stderr",
     "output_type": "stream",
     "text": [
      " 76%|███████▌  | 304/400 [02:06<00:40,  2.37it/s, train score=0.151, val score=0.264, train loss=1.86, val loss=2.4] "
     ]
    },
    {
     "name": "stdout",
     "output_type": "stream",
     "text": [
      "<s>SELECT Winner FROM table WHERE St_Kilda_score = STR_VALUE_1</s> --->                                         \n",
      "<s>SELECT COUNT Wins FROM table WHERE Top-25 < NUM_VALUE_1 AND Events > NUM_VALUE_2 AND Top-5 < NUM_VALUE_3</s> --->                                         \n",
      "##############################\n"
     ]
    },
    {
     "name": "stderr",
     "output_type": "stream",
     "text": [
      " 76%|███████▋  | 305/400 [02:06<00:39,  2.39it/s, train score=0, val score=0.264, train loss=1.85, val loss=2.4]    "
     ]
    },
    {
     "name": "stdout",
     "output_type": "stream",
     "text": [
      "<s>SELECT Winner FROM table WHERE St_Kilda_score = STR_VALUE_1</s> --->                                         \n",
      "<s>SELECT COUNT Wins FROM table WHERE Top-25 < NUM_VALUE_1 AND Events > NUM_VALUE_2 AND Top-5 < NUM_VALUE_3</s> --->                                         \n",
      "##############################\n"
     ]
    },
    {
     "name": "stderr",
     "output_type": "stream",
     "text": [
      " 76%|███████▋  | 306/400 [02:07<00:38,  2.42it/s, train score=0.131, val score=0.264, train loss=2.12, val loss=2.4]"
     ]
    },
    {
     "name": "stdout",
     "output_type": "stream",
     "text": [
      "<s>SELECT Winner FROM table WHERE St_Kilda_score = STR_VALUE_1</s> --->                                         \n",
      "<s>SELECT COUNT Wins FROM table WHERE Top-25 < NUM_VALUE_1 AND Events > NUM_VALUE_2 AND Top-5 < NUM_VALUE_3</s> --->                                         \n",
      "##############################\n"
     ]
    },
    {
     "name": "stderr",
     "output_type": "stream",
     "text": [
      " 77%|███████▋  | 307/400 [02:07<00:38,  2.44it/s, train score=0.0954, val score=0.264, train loss=1.93, val loss=2.4]"
     ]
    },
    {
     "name": "stdout",
     "output_type": "stream",
     "text": [
      "<s>SELECT Winner FROM table WHERE St_Kilda_score = STR_VALUE_1</s> --->                                         \n",
      "<s>SELECT COUNT Wins FROM table WHERE Top-25 < NUM_VALUE_1 AND Events > NUM_VALUE_2 AND Top-5 < NUM_VALUE_3</s> --->                                         \n",
      "##############################\n"
     ]
    },
    {
     "name": "stderr",
     "output_type": "stream",
     "text": [
      " 77%|███████▋  | 308/400 [02:08<00:37,  2.47it/s, train score=0.057, val score=0.264, train loss=1.75, val loss=2.4] "
     ]
    },
    {
     "name": "stdout",
     "output_type": "stream",
     "text": [
      "<s>SELECT Winner FROM table WHERE St_Kilda_score = STR_VALUE_1</s> --->                                         \n",
      "<s>SELECT COUNT Wins FROM table WHERE Top-25 < NUM_VALUE_1 AND Events > NUM_VALUE_2 AND Top-5 < NUM_VALUE_3</s> --->                                         \n",
      "##############################\n"
     ]
    },
    {
     "name": "stderr",
     "output_type": "stream",
     "text": [
      " 77%|███████▋  | 309/400 [02:08<00:36,  2.46it/s, train score=0.0556, val score=0.264, train loss=2.02, val loss=2.4]"
     ]
    },
    {
     "name": "stdout",
     "output_type": "stream",
     "text": [
      "<s>SELECT Winner FROM table WHERE St_Kilda_score = STR_VALUE_1</s> --->                                         \n",
      "<s>SELECT COUNT Wins FROM table WHERE Top-25 < NUM_VALUE_1 AND Events > NUM_VALUE_2 AND Top-5 < NUM_VALUE_3</s> --->                                         \n",
      "##############################\n"
     ]
    },
    {
     "name": "stderr",
     "output_type": "stream",
     "text": [
      " 78%|███████▊  | 310/400 [02:08<00:36,  2.48it/s, train score=0.152, val score=0.264, train loss=1.83, val loss=2.39]"
     ]
    },
    {
     "name": "stdout",
     "output_type": "stream",
     "text": [
      "<s>SELECT Winner FROM table WHERE St_Kilda_score = STR_VALUE_1</s> --->                                         \n",
      "<s>SELECT COUNT Wins FROM table WHERE Top-25 < NUM_VALUE_1 AND Events > NUM_VALUE_2 AND Top-5 < NUM_VALUE_3</s> --->                                         \n",
      "##############################\n"
     ]
    },
    {
     "name": "stderr",
     "output_type": "stream",
     "text": [
      " 78%|███████▊  | 311/400 [02:09<00:36,  2.47it/s, train score=0.0185, val score=0.264, train loss=1.87, val loss=2.39]"
     ]
    },
    {
     "name": "stdout",
     "output_type": "stream",
     "text": [
      "<s>SELECT Winner FROM table WHERE St_Kilda_score = STR_VALUE_1</s> --->                                         \n",
      "<s>SELECT COUNT Wins FROM table WHERE Top-25 < NUM_VALUE_1 AND Events > NUM_VALUE_2 AND Top-5 < NUM_VALUE_3</s> --->                                         \n",
      "##############################\n"
     ]
    },
    {
     "name": "stderr",
     "output_type": "stream",
     "text": [
      " 78%|███████▊  | 312/400 [02:09<00:35,  2.46it/s, train score=0, val score=0.264, train loss=1.9, val loss=2.39]      "
     ]
    },
    {
     "name": "stdout",
     "output_type": "stream",
     "text": [
      "<s>SELECT Winner FROM table WHERE St_Kilda_score = STR_VALUE_1</s> --->                                         \n",
      "<s>SELECT COUNT Wins FROM table WHERE Top-25 < NUM_VALUE_1 AND Events > NUM_VALUE_2 AND Top-5 < NUM_VALUE_3</s> --->                                         \n",
      "##############################\n"
     ]
    },
    {
     "name": "stderr",
     "output_type": "stream",
     "text": [
      " 78%|███████▊  | 313/400 [02:10<00:35,  2.48it/s, train score=0.0556, val score=0.264, train loss=1.91, val loss=2.39]"
     ]
    },
    {
     "name": "stdout",
     "output_type": "stream",
     "text": [
      "<s>SELECT Winner FROM table WHERE St_Kilda_score = STR_VALUE_1</s> --->                                         \n",
      "<s>SELECT COUNT Wins FROM table WHERE Top-25 < NUM_VALUE_1 AND Events > NUM_VALUE_2 AND Top-5 < NUM_VALUE_3</s> --->                                         \n",
      "##############################\n"
     ]
    },
    {
     "name": "stderr",
     "output_type": "stream",
     "text": [
      " 78%|███████▊  | 314/400 [02:10<00:34,  2.47it/s, train score=0.037, val score=0.264, train loss=1.85, val loss=2.39] "
     ]
    },
    {
     "name": "stdout",
     "output_type": "stream",
     "text": [
      "<s>SELECT Winner FROM table WHERE St_Kilda_score = STR_VALUE_1</s> --->                                         \n",
      "<s>SELECT COUNT Wins FROM table WHERE Top-25 < NUM_VALUE_1 AND Events > NUM_VALUE_2 AND Top-5 < NUM_VALUE_3</s> --->                                         \n",
      "##############################\n"
     ]
    },
    {
     "name": "stderr",
     "output_type": "stream",
     "text": [
      " 79%|███████▉  | 315/400 [02:11<00:34,  2.47it/s, train score=0.134, val score=0.264, train loss=1.91, val loss=2.39]"
     ]
    },
    {
     "name": "stdout",
     "output_type": "stream",
     "text": [
      "<s>SELECT Winner FROM table WHERE St_Kilda_score = STR_VALUE_1</s> --->                                         \n",
      "<s>SELECT COUNT Wins FROM table WHERE Top-25 < NUM_VALUE_1 AND Events > NUM_VALUE_2 AND Top-5 < NUM_VALUE_3</s> --->                                         \n",
      "##############################\n"
     ]
    },
    {
     "name": "stderr",
     "output_type": "stream",
     "text": [
      " 79%|███████▉  | 316/400 [02:11<00:34,  2.46it/s, train score=0.0769, val score=0.264, train loss=1.8, val loss=2.39]"
     ]
    },
    {
     "name": "stdout",
     "output_type": "stream",
     "text": [
      "<s>SELECT Winner FROM table WHERE St_Kilda_score = STR_VALUE_1</s> --->                                         \n",
      "<s>SELECT COUNT Wins FROM table WHERE Top-25 < NUM_VALUE_1 AND Events > NUM_VALUE_2 AND Top-5 < NUM_VALUE_3</s> --->                                         \n",
      "##############################\n"
     ]
    },
    {
     "name": "stderr",
     "output_type": "stream",
     "text": [
      " 79%|███████▉  | 317/400 [02:11<00:33,  2.48it/s, train score=0.0185, val score=0.264, train loss=1.91, val loss=2.39]"
     ]
    },
    {
     "name": "stdout",
     "output_type": "stream",
     "text": [
      "<s>SELECT Winner FROM table WHERE St_Kilda_score = STR_VALUE_1</s> --->                                         \n",
      "<s>SELECT COUNT Wins FROM table WHERE Top-25 < NUM_VALUE_1 AND Events > NUM_VALUE_2 AND Top-5 < NUM_VALUE_3</s> --->                                         \n",
      "##############################\n"
     ]
    },
    {
     "name": "stderr",
     "output_type": "stream",
     "text": [
      " 80%|███████▉  | 318/400 [02:12<00:33,  2.46it/s, train score=0.0954, val score=0.264, train loss=1.92, val loss=2.39]"
     ]
    },
    {
     "name": "stdout",
     "output_type": "stream",
     "text": [
      "<s>SELECT Winner FROM table WHERE St_Kilda_score = STR_VALUE_1</s> --->                                         \n",
      "<s>SELECT COUNT Wins FROM table WHERE Top-25 < NUM_VALUE_1 AND Events > NUM_VALUE_2 AND Top-5 < NUM_VALUE_3</s> --->                                         \n",
      "##############################\n"
     ]
    },
    {
     "name": "stderr",
     "output_type": "stream",
     "text": [
      " 80%|███████▉  | 319/400 [02:12<00:32,  2.50it/s, train score=0.115, val score=0.264, train loss=1.77, val loss=2.39] "
     ]
    },
    {
     "name": "stdout",
     "output_type": "stream",
     "text": [
      "<s>SELECT Winner FROM table WHERE St_Kilda_score = STR_VALUE_1</s> --->                                         \n",
      "<s>SELECT COUNT Wins FROM table WHERE Top-25 < NUM_VALUE_1 AND Events > NUM_VALUE_2 AND Top-5 < NUM_VALUE_3</s> --->                                         \n",
      "##############################\n"
     ]
    },
    {
     "name": "stderr",
     "output_type": "stream",
     "text": [
      " 80%|████████  | 320/400 [02:13<00:32,  2.47it/s, train score=0.151, val score=0.264, train loss=1.89, val loss=2.4] "
     ]
    },
    {
     "name": "stdout",
     "output_type": "stream",
     "text": [
      "<s>SELECT Winner FROM table WHERE St_Kilda_score = STR_VALUE_1</s> --->                                         \n",
      "<s>SELECT COUNT Wins FROM table WHERE Top-25 < NUM_VALUE_1 AND Events > NUM_VALUE_2 AND Top-5 < NUM_VALUE_3</s> --->                                         \n",
      "##############################\n"
     ]
    },
    {
     "name": "stderr",
     "output_type": "stream",
     "text": [
      " 80%|████████  | 321/400 [02:13<00:31,  2.48it/s, train score=0, val score=0.264, train loss=1.73, val loss=2.4]    "
     ]
    },
    {
     "name": "stdout",
     "output_type": "stream",
     "text": [
      "<s>SELECT Winner FROM table WHERE St_Kilda_score = STR_VALUE_1</s> --->                                         \n",
      "<s>SELECT COUNT Wins FROM table WHERE Top-25 < NUM_VALUE_1 AND Events > NUM_VALUE_2 AND Top-5 < NUM_VALUE_3</s> --->                                         \n",
      "##############################\n"
     ]
    },
    {
     "name": "stderr",
     "output_type": "stream",
     "text": [
      " 80%|████████  | 322/400 [02:13<00:31,  2.46it/s, train score=0.0769, val score=0.264, train loss=1.82, val loss=2.4]"
     ]
    },
    {
     "name": "stdout",
     "output_type": "stream",
     "text": [
      "<s>SELECT Winner FROM table WHERE St_Kilda_score = STR_VALUE_1</s> --->                                         \n",
      "<s>SELECT COUNT Wins FROM table WHERE Top-25 < NUM_VALUE_1 AND Events > NUM_VALUE_2 AND Top-5 < NUM_VALUE_3</s> --->                                         \n",
      "##############################\n"
     ]
    },
    {
     "name": "stderr",
     "output_type": "stream",
     "text": [
      " 81%|████████  | 323/400 [02:14<00:31,  2.46it/s, train score=0.057, val score=0.264, train loss=1.87, val loss=2.4] "
     ]
    },
    {
     "name": "stdout",
     "output_type": "stream",
     "text": [
      "<s>SELECT Winner FROM table WHERE St_Kilda_score = STR_VALUE_1</s> --->                                         \n",
      "<s>SELECT COUNT Wins FROM table WHERE Top-25 < NUM_VALUE_1 AND Events > NUM_VALUE_2 AND Top-5 < NUM_VALUE_3</s> --->                                         \n",
      "##############################\n"
     ]
    },
    {
     "name": "stderr",
     "output_type": "stream",
     "text": [
      " 81%|████████  | 324/400 [02:14<00:30,  2.47it/s, train score=0.0185, val score=0.264, train loss=1.81, val loss=2.4]"
     ]
    },
    {
     "name": "stdout",
     "output_type": "stream",
     "text": [
      "<s>SELECT Winner FROM table WHERE St_Kilda_score = STR_VALUE_1</s> --->                                         \n",
      "<s>SELECT COUNT Wins FROM table WHERE Top-25 < NUM_VALUE_1 AND Events > NUM_VALUE_2 AND Top-5 < NUM_VALUE_3</s> --->                                         \n",
      "##############################\n"
     ]
    },
    {
     "name": "stderr",
     "output_type": "stream",
     "text": [
      " 81%|████████▏ | 325/400 [02:15<00:30,  2.47it/s, train score=0.0185, val score=0.264, train loss=2.19, val loss=2.4]"
     ]
    },
    {
     "name": "stdout",
     "output_type": "stream",
     "text": [
      "<s>SELECT Winner FROM table WHERE St_Kilda_score = STR_VALUE_1</s> --->                                         \n",
      "<s>SELECT COUNT Wins FROM table WHERE Top-25 < NUM_VALUE_1 AND Events > NUM_VALUE_2 AND Top-5 < NUM_VALUE_3</s> --->                                         \n",
      "##############################\n"
     ]
    },
    {
     "name": "stderr",
     "output_type": "stream",
     "text": [
      " 82%|████████▏ | 326/400 [02:15<00:30,  2.44it/s, train score=0, val score=0.264, train loss=2.23, val loss=2.4]     "
     ]
    },
    {
     "name": "stdout",
     "output_type": "stream",
     "text": [
      "<s>SELECT Winner FROM table WHERE St_Kilda_score = STR_VALUE_1</s> --->                                         \n",
      "<s>SELECT COUNT Wins FROM table WHERE Top-25 < NUM_VALUE_1 AND Events > NUM_VALUE_2 AND Top-5 < NUM_VALUE_3</s> --->                                         \n",
      "##############################\n"
     ]
    },
    {
     "name": "stderr",
     "output_type": "stream",
     "text": [
      " 82%|████████▏ | 327/400 [02:15<00:29,  2.45it/s, train score=0.0556, val score=0.264, train loss=1.84, val loss=2.4]"
     ]
    },
    {
     "name": "stdout",
     "output_type": "stream",
     "text": [
      "<s>SELECT Winner FROM table WHERE St_Kilda_score = STR_VALUE_1</s> --->                                         \n",
      "<s>SELECT COUNT Wins FROM table WHERE Top-25 < NUM_VALUE_1 AND Events > NUM_VALUE_2 AND Top-5 < NUM_VALUE_3</s> --->                                         \n",
      "##############################\n"
     ]
    },
    {
     "name": "stderr",
     "output_type": "stream",
     "text": [
      " 82%|████████▏ | 328/400 [02:16<00:30,  2.36it/s, train score=0, val score=0.264, train loss=1.85, val loss=2.4]     "
     ]
    },
    {
     "name": "stdout",
     "output_type": "stream",
     "text": [
      "<s>SELECT Winner FROM table WHERE St_Kilda_score = STR_VALUE_1</s> --->                                         \n",
      "<s>SELECT COUNT Wins FROM table WHERE Top-25 < NUM_VALUE_1 AND Events > NUM_VALUE_2 AND Top-5 < NUM_VALUE_3</s> --->                                         \n",
      "##############################\n"
     ]
    },
    {
     "name": "stderr",
     "output_type": "stream",
     "text": [
      " 82%|████████▏ | 329/400 [02:16<00:29,  2.40it/s, train score=0.0385, val score=0.264, train loss=1.87, val loss=2.4]"
     ]
    },
    {
     "name": "stdout",
     "output_type": "stream",
     "text": [
      "<s>SELECT Winner FROM table WHERE St_Kilda_score = STR_VALUE_1</s> --->                                         \n",
      "<s>SELECT COUNT Wins FROM table WHERE Top-25 < NUM_VALUE_1 AND Events > NUM_VALUE_2 AND Top-5 < NUM_VALUE_3</s> --->                                         \n",
      "##############################\n"
     ]
    },
    {
     "name": "stderr",
     "output_type": "stream",
     "text": [
      " 82%|████████▎ | 330/400 [02:17<00:29,  2.40it/s, train score=0, val score=0.264, train loss=1.89, val loss=2.4]     "
     ]
    },
    {
     "name": "stdout",
     "output_type": "stream",
     "text": [
      "<s>SELECT Winner FROM table WHERE St_Kilda_score = STR_VALUE_1</s> --->                                         \n",
      "<s>SELECT COUNT Wins FROM table WHERE Top-25 < NUM_VALUE_1 AND Events > NUM_VALUE_2 AND Top-5 < NUM_VALUE_3</s> --->                                         \n",
      "##############################\n"
     ]
    },
    {
     "name": "stderr",
     "output_type": "stream",
     "text": [
      " 83%|████████▎ | 331/400 [02:17<00:28,  2.44it/s, train score=0.0755, val score=0.264, train loss=1.83, val loss=2.4]"
     ]
    },
    {
     "name": "stdout",
     "output_type": "stream",
     "text": [
      "<s>SELECT Winner FROM table WHERE St_Kilda_score = STR_VALUE_1</s> --->                                         \n",
      "<s>SELECT COUNT Wins FROM table WHERE Top-25 < NUM_VALUE_1 AND Events > NUM_VALUE_2 AND Top-5 < NUM_VALUE_3</s> --->                                         \n",
      "##############################\n"
     ]
    },
    {
     "name": "stderr",
     "output_type": "stream",
     "text": [
      " 83%|████████▎ | 332/400 [02:17<00:27,  2.44it/s, train score=0.115, val score=0.264, train loss=1.85, val loss=2.4] "
     ]
    },
    {
     "name": "stdout",
     "output_type": "stream",
     "text": [
      "<s>SELECT Winner FROM table WHERE St_Kilda_score = STR_VALUE_1</s> --->                                         \n",
      "<s>SELECT COUNT Wins FROM table WHERE Top-25 < NUM_VALUE_1 AND Events > NUM_VALUE_2 AND Top-5 < NUM_VALUE_3</s> --->                                         \n",
      "##############################\n"
     ]
    },
    {
     "name": "stderr",
     "output_type": "stream",
     "text": [
      " 83%|████████▎ | 333/400 [02:18<00:27,  2.43it/s, train score=0, val score=0.264, train loss=1.82, val loss=2.4]    "
     ]
    },
    {
     "name": "stdout",
     "output_type": "stream",
     "text": [
      "<s>SELECT Winner FROM table WHERE St_Kilda_score = STR_VALUE_1</s> --->                                         \n",
      "<s>SELECT COUNT Wins FROM table WHERE Top-25 < NUM_VALUE_1 AND Events > NUM_VALUE_2 AND Top-5 < NUM_VALUE_3</s> --->                                         \n",
      "##############################\n"
     ]
    },
    {
     "name": "stderr",
     "output_type": "stream",
     "text": [
      " 84%|████████▎ | 334/400 [02:18<00:26,  2.45it/s, train score=0.0741, val score=0.264, train loss=1.86, val loss=2.41]"
     ]
    },
    {
     "name": "stdout",
     "output_type": "stream",
     "text": [
      "<s>SELECT Winner FROM table WHERE St_Kilda_score = STR_VALUE_1</s> --->                                         \n",
      "<s>SELECT COUNT Wins FROM table WHERE Top-25 < NUM_VALUE_1 AND Events > NUM_VALUE_2 AND Top-5 < NUM_VALUE_3</s> --->                                         \n",
      "##############################\n"
     ]
    },
    {
     "name": "stderr",
     "output_type": "stream",
     "text": [
      " 84%|████████▍ | 335/400 [02:19<00:26,  2.42it/s, train score=0.0769, val score=0.264, train loss=1.76, val loss=2.41]"
     ]
    },
    {
     "name": "stdout",
     "output_type": "stream",
     "text": [
      "<s>SELECT Winner FROM table WHERE St_Kilda_score = STR_VALUE_1</s> --->                                         \n",
      "<s>SELECT COUNT Wins FROM table WHERE Top-25 < NUM_VALUE_1 AND Events > NUM_VALUE_2 AND Top-5 < NUM_VALUE_3</s> --->                                         \n",
      "##############################\n"
     ]
    },
    {
     "name": "stderr",
     "output_type": "stream",
     "text": [
      " 84%|████████▍ | 336/400 [02:19<00:27,  2.33it/s, train score=0.0185, val score=0.264, train loss=1.88, val loss=2.41]"
     ]
    },
    {
     "name": "stdout",
     "output_type": "stream",
     "text": [
      "<s>SELECT Winner FROM table WHERE St_Kilda_score = STR_VALUE_1</s> --->                                         \n",
      "<s>SELECT COUNT Wins FROM table WHERE Top-25 < NUM_VALUE_1 AND Events > NUM_VALUE_2 AND Top-5 < NUM_VALUE_3</s> --->                                         \n",
      "##############################\n"
     ]
    },
    {
     "name": "stderr",
     "output_type": "stream",
     "text": [
      " 84%|████████▍ | 337/400 [02:20<00:27,  2.28it/s, train score=0.0185, val score=0.264, train loss=1.97, val loss=2.41]"
     ]
    },
    {
     "name": "stdout",
     "output_type": "stream",
     "text": [
      "<s>SELECT Winner FROM table WHERE St_Kilda_score = STR_VALUE_1</s> --->                                         \n",
      "<s>SELECT COUNT Wins FROM table WHERE Top-25 < NUM_VALUE_1 AND Events > NUM_VALUE_2 AND Top-5 < NUM_VALUE_3</s> --->                                         \n",
      "##############################\n"
     ]
    },
    {
     "name": "stderr",
     "output_type": "stream",
     "text": [
      " 84%|████████▍ | 338/400 [02:20<00:26,  2.33it/s, train score=0.0741, val score=0.264, train loss=1.79, val loss=2.41]"
     ]
    },
    {
     "name": "stdout",
     "output_type": "stream",
     "text": [
      "<s>SELECT Winner FROM table WHERE St_Kilda_score = STR_VALUE_1</s> --->                                         \n",
      "<s>SELECT COUNT Wins FROM table WHERE Top-25 < NUM_VALUE_1 AND Events > NUM_VALUE_2 AND Top-5 < NUM_VALUE_3</s> --->                                         \n",
      "##############################\n"
     ]
    },
    {
     "name": "stderr",
     "output_type": "stream",
     "text": [
      " 85%|████████▍ | 339/400 [02:21<00:27,  2.25it/s, train score=0.0769, val score=0.264, train loss=2.1, val loss=2.41] "
     ]
    },
    {
     "name": "stdout",
     "output_type": "stream",
     "text": [
      "<s>SELECT Winner FROM table WHERE St_Kilda_score = STR_VALUE_1</s> --->                                         \n",
      "<s>SELECT COUNT Wins FROM table WHERE Top-25 < NUM_VALUE_1 AND Events > NUM_VALUE_2 AND Top-5 < NUM_VALUE_3</s> --->                                         \n",
      "##############################\n"
     ]
    },
    {
     "name": "stderr",
     "output_type": "stream",
     "text": [
      " 85%|████████▌ | 340/400 [02:21<00:26,  2.25it/s, train score=0.111, val score=0.264, train loss=1.74, val loss=2.41]"
     ]
    },
    {
     "name": "stdout",
     "output_type": "stream",
     "text": [
      "<s>SELECT Winner FROM table WHERE St_Kilda_score = STR_VALUE_1</s> --->                                         \n",
      "<s>SELECT COUNT Wins FROM table WHERE Top-25 < NUM_VALUE_1 AND Events > NUM_VALUE_2 AND Top-5 < NUM_VALUE_3</s> --->                                         \n",
      "##############################\n"
     ]
    },
    {
     "name": "stderr",
     "output_type": "stream",
     "text": [
      " 85%|████████▌ | 341/400 [02:21<00:27,  2.16it/s, train score=0, val score=0.264, train loss=2.03, val loss=2.41]    "
     ]
    },
    {
     "name": "stdout",
     "output_type": "stream",
     "text": [
      "<s>SELECT Winner FROM table WHERE St_Kilda_score = STR_VALUE_1</s> --->                                         \n",
      "<s>SELECT COUNT Wins FROM table WHERE Top-25 < NUM_VALUE_1 AND Events > NUM_VALUE_2 AND Top-5 < NUM_VALUE_3</s> --->                                         \n",
      "##############################\n"
     ]
    },
    {
     "name": "stderr",
     "output_type": "stream",
     "text": [
      " 86%|████████▌ | 342/400 [02:22<00:26,  2.20it/s, train score=0.0741, val score=0.264, train loss=1.88, val loss=2.41]"
     ]
    },
    {
     "name": "stdout",
     "output_type": "stream",
     "text": [
      "<s>SELECT Winner FROM table WHERE St_Kilda_score = STR_VALUE_1</s> --->                                         \n",
      "<s>SELECT COUNT Wins FROM table WHERE Top-25 < NUM_VALUE_1 AND Events > NUM_VALUE_2 AND Top-5 < NUM_VALUE_3</s> --->                                         \n",
      "##############################\n"
     ]
    },
    {
     "name": "stderr",
     "output_type": "stream",
     "text": [
      " 86%|████████▌ | 343/400 [02:22<00:25,  2.26it/s, train score=0, val score=0.264, train loss=1.85, val loss=2.41]     "
     ]
    },
    {
     "name": "stdout",
     "output_type": "stream",
     "text": [
      "<s>SELECT Winner FROM table WHERE St_Kilda_score = STR_VALUE_1</s> --->                                         \n",
      "<s>SELECT COUNT Wins FROM table WHERE Top-25 < NUM_VALUE_1 AND Events > NUM_VALUE_2 AND Top-5 < NUM_VALUE_3</s> --->                                         \n",
      "##############################\n"
     ]
    },
    {
     "name": "stderr",
     "output_type": "stream",
     "text": [
      " 86%|████████▌ | 344/400 [02:23<00:24,  2.32it/s, train score=0, val score=0.264, train loss=2.22, val loss=2.41]"
     ]
    },
    {
     "name": "stdout",
     "output_type": "stream",
     "text": [
      "<s>SELECT Winner FROM table WHERE St_Kilda_score = STR_VALUE_1</s> --->                                         \n",
      "<s>SELECT COUNT Wins FROM table WHERE Top-25 < NUM_VALUE_1 AND Events > NUM_VALUE_2 AND Top-5 < NUM_VALUE_3</s> --->                                         \n",
      "##############################\n"
     ]
    },
    {
     "name": "stderr",
     "output_type": "stream",
     "text": [
      " 86%|████████▋ | 345/400 [02:23<00:23,  2.36it/s, train score=0.0556, val score=0.264, train loss=1.93, val loss=2.41]"
     ]
    },
    {
     "name": "stdout",
     "output_type": "stream",
     "text": [
      "<s>SELECT Winner FROM table WHERE St_Kilda_score = STR_VALUE_1</s> --->                                         \n",
      "<s>SELECT COUNT Wins FROM table WHERE Top-25 < NUM_VALUE_1 AND Events > NUM_VALUE_2 AND Top-5 < NUM_VALUE_3</s> --->                                         \n",
      "##############################\n"
     ]
    },
    {
     "name": "stderr",
     "output_type": "stream",
     "text": [
      " 86%|████████▋ | 346/400 [02:24<00:22,  2.37it/s, train score=0.0769, val score=0.264, train loss=1.79, val loss=2.41]"
     ]
    },
    {
     "name": "stdout",
     "output_type": "stream",
     "text": [
      "<s>SELECT Winner FROM table WHERE St_Kilda_score = STR_VALUE_1</s> --->                                         \n",
      "<s>SELECT COUNT Wins FROM table WHERE Top-25 < NUM_VALUE_1 AND Events > NUM_VALUE_2 AND Top-5 < NUM_VALUE_3</s> --->                                         \n",
      "##############################\n"
     ]
    },
    {
     "name": "stderr",
     "output_type": "stream",
     "text": [
      " 87%|████████▋ | 347/400 [02:24<00:22,  2.39it/s, train score=0.037, val score=0.264, train loss=2.05, val loss=2.41] "
     ]
    },
    {
     "name": "stdout",
     "output_type": "stream",
     "text": [
      "<s>SELECT Winner FROM table WHERE St_Kilda_score = STR_VALUE_1</s> --->                                         \n",
      "<s>SELECT COUNT Wins FROM table WHERE Top-25 < NUM_VALUE_1 AND Events > NUM_VALUE_2 AND Top-5 < NUM_VALUE_3</s> --->                                         \n",
      "##############################\n"
     ]
    },
    {
     "name": "stderr",
     "output_type": "stream",
     "text": [
      " 87%|████████▋ | 348/400 [02:24<00:21,  2.44it/s, train score=0.0926, val score=0.264, train loss=1.79, val loss=2.41]"
     ]
    },
    {
     "name": "stdout",
     "output_type": "stream",
     "text": [
      "<s>SELECT Winner FROM table WHERE St_Kilda_score = STR_VALUE_1</s> --->                                         \n",
      "<s>SELECT COUNT Wins FROM table WHERE Top-25 < NUM_VALUE_1 AND Events > NUM_VALUE_2 AND Top-5 < NUM_VALUE_3</s> --->                                         \n",
      "##############################\n"
     ]
    },
    {
     "name": "stderr",
     "output_type": "stream",
     "text": [
      " 87%|████████▋ | 349/400 [02:25<00:21,  2.42it/s, train score=0.0556, val score=0.264, train loss=1.9, val loss=2.41] "
     ]
    },
    {
     "name": "stdout",
     "output_type": "stream",
     "text": [
      "<s>SELECT Winner FROM table WHERE St_Kilda_score = STR_VALUE_1</s> --->                                         \n",
      "<s>SELECT COUNT Wins FROM table WHERE Top-25 < NUM_VALUE_1 AND Events > NUM_VALUE_2 AND Top-5 < NUM_VALUE_3</s> --->                                         \n",
      "##############################\n"
     ]
    },
    {
     "name": "stderr",
     "output_type": "stream",
     "text": [
      " 88%|████████▊ | 350/400 [02:25<00:20,  2.39it/s, train score=0.0385, val score=0.264, train loss=1.83, val loss=2.4]"
     ]
    },
    {
     "name": "stdout",
     "output_type": "stream",
     "text": [
      "<s>SELECT Winner FROM table WHERE St_Kilda_score = STR_VALUE_1</s> --->                                         \n",
      "<s>SELECT COUNT Wins FROM table WHERE Top-25 < NUM_VALUE_1 AND Events > NUM_VALUE_2 AND Top-5 < NUM_VALUE_3</s> --->                                         \n",
      "##############################\n"
     ]
    },
    {
     "name": "stderr",
     "output_type": "stream",
     "text": [
      " 88%|████████▊ | 351/400 [02:26<00:20,  2.41it/s, train score=0, val score=0.264, train loss=2.17, val loss=2.4]     "
     ]
    },
    {
     "name": "stdout",
     "output_type": "stream",
     "text": [
      "<s>SELECT Winner FROM table WHERE St_Kilda_score = STR_VALUE_1</s> --->                                         \n",
      "<s>SELECT COUNT Wins FROM table WHERE Top-25 < NUM_VALUE_1 AND Events > NUM_VALUE_2 AND Top-5 < NUM_VALUE_3</s> --->                                         \n",
      "##############################\n"
     ]
    },
    {
     "name": "stderr",
     "output_type": "stream",
     "text": [
      " 88%|████████▊ | 352/400 [02:26<00:20,  2.40it/s, train score=0.114, val score=0.264, train loss=1.9, val loss=2.4]"
     ]
    },
    {
     "name": "stdout",
     "output_type": "stream",
     "text": [
      "<s>SELECT Winner FROM table WHERE St_Kilda_score = STR_VALUE_1</s> --->                                         \n",
      "<s>SELECT COUNT Wins FROM table WHERE Top-25 < NUM_VALUE_1 AND Events > NUM_VALUE_2 AND Top-5 < NUM_VALUE_3</s> --->                                         \n",
      "##############################\n"
     ]
    },
    {
     "name": "stderr",
     "output_type": "stream",
     "text": [
      " 88%|████████▊ | 353/400 [02:26<00:19,  2.37it/s, train score=0.0769, val score=0.264, train loss=1.8, val loss=2.4]"
     ]
    },
    {
     "name": "stdout",
     "output_type": "stream",
     "text": [
      "<s>SELECT Winner FROM table WHERE St_Kilda_score = STR_VALUE_1</s> --->                                         \n",
      "<s>SELECT COUNT Wins FROM table WHERE Top-25 < NUM_VALUE_1 AND Events > NUM_VALUE_2 AND Top-5 < NUM_VALUE_3</s> --->                                         \n",
      "##############################\n"
     ]
    },
    {
     "name": "stderr",
     "output_type": "stream",
     "text": [
      " 88%|████████▊ | 354/400 [02:27<00:19,  2.39it/s, train score=0.171, val score=0.264, train loss=1.78, val loss=2.4]"
     ]
    },
    {
     "name": "stdout",
     "output_type": "stream",
     "text": [
      "<s>SELECT Winner FROM table WHERE St_Kilda_score = STR_VALUE_1</s> --->                                         \n",
      "<s>SELECT COUNT Wins FROM table WHERE Top-25 < NUM_VALUE_1 AND Events > NUM_VALUE_2 AND Top-5 < NUM_VALUE_3</s> --->                                         \n",
      "##############################\n"
     ]
    },
    {
     "name": "stderr",
     "output_type": "stream",
     "text": [
      " 89%|████████▉ | 355/400 [02:27<00:18,  2.39it/s, train score=0.245, val score=0.264, train loss=1.95, val loss=2.4]"
     ]
    },
    {
     "name": "stdout",
     "output_type": "stream",
     "text": [
      "<s>SELECT Winner FROM table WHERE St_Kilda_score = STR_VALUE_1</s> --->                                         \n",
      "<s>SELECT COUNT Wins FROM table WHERE Top-25 < NUM_VALUE_1 AND Events > NUM_VALUE_2 AND Top-5 < NUM_VALUE_3</s> --->                                         \n",
      "##############################\n"
     ]
    },
    {
     "name": "stderr",
     "output_type": "stream",
     "text": [
      " 89%|████████▉ | 356/400 [02:28<00:18,  2.41it/s, train score=0.0926, val score=0.264, train loss=1.73, val loss=2.4]"
     ]
    },
    {
     "name": "stdout",
     "output_type": "stream",
     "text": [
      "<s>SELECT Winner FROM table WHERE St_Kilda_score = STR_VALUE_1</s> --->                                         \n",
      "<s>SELECT COUNT Wins FROM table WHERE Top-25 < NUM_VALUE_1 AND Events > NUM_VALUE_2 AND Top-5 < NUM_VALUE_3</s> --->                                         \n",
      "##############################\n"
     ]
    },
    {
     "name": "stderr",
     "output_type": "stream",
     "text": [
      " 89%|████████▉ | 357/400 [02:28<00:17,  2.42it/s, train score=0, val score=0.264, train loss=1.85, val loss=2.4]     "
     ]
    },
    {
     "name": "stdout",
     "output_type": "stream",
     "text": [
      "<s>SELECT Winner FROM table WHERE St_Kilda_score = STR_VALUE_1</s> --->                                         \n",
      "<s>SELECT COUNT Wins FROM table WHERE Top-25 < NUM_VALUE_1 AND Events > NUM_VALUE_2 AND Top-5 < NUM_VALUE_3</s> --->                                         \n",
      "##############################\n"
     ]
    },
    {
     "name": "stderr",
     "output_type": "stream",
     "text": [
      " 90%|████████▉ | 358/400 [02:29<00:17,  2.42it/s, train score=0.0385, val score=0.264, train loss=1.88, val loss=2.4]"
     ]
    },
    {
     "name": "stdout",
     "output_type": "stream",
     "text": [
      "<s>SELECT Winner FROM table WHERE St_Kilda_score = STR_VALUE_1</s> --->                                         \n",
      "<s>SELECT COUNT Wins FROM table WHERE Top-25 < NUM_VALUE_1 AND Events > NUM_VALUE_2 AND Top-5 < NUM_VALUE_3</s> --->                                         \n",
      "##############################\n"
     ]
    },
    {
     "name": "stderr",
     "output_type": "stream",
     "text": [
      " 90%|████████▉ | 359/400 [02:29<00:16,  2.44it/s, train score=0.115, val score=0.264, train loss=1.95, val loss=2.4] "
     ]
    },
    {
     "name": "stdout",
     "output_type": "stream",
     "text": [
      "<s>SELECT Winner FROM table WHERE St_Kilda_score = STR_VALUE_1</s> --->                                         \n",
      "<s>SELECT COUNT Wins FROM table WHERE Top-25 < NUM_VALUE_1 AND Events > NUM_VALUE_2 AND Top-5 < NUM_VALUE_3</s> --->                                         \n",
      "##############################\n"
     ]
    },
    {
     "name": "stderr",
     "output_type": "stream",
     "text": [
      " 90%|█████████ | 360/400 [02:29<00:16,  2.46it/s, train score=0.115, val score=0.264, train loss=1.74, val loss=2.4]"
     ]
    },
    {
     "name": "stdout",
     "output_type": "stream",
     "text": [
      "<s>SELECT Winner FROM table WHERE St_Kilda_score = STR_VALUE_1</s> --->                                         \n",
      "<s>SELECT COUNT Wins FROM table WHERE Top-25 < NUM_VALUE_1 AND Events > NUM_VALUE_2 AND Top-5 < NUM_VALUE_3</s> --->                                         \n",
      "##############################\n"
     ]
    },
    {
     "name": "stderr",
     "output_type": "stream",
     "text": [
      " 90%|█████████ | 361/400 [02:30<00:15,  2.48it/s, train score=0.0385, val score=0.264, train loss=2.04, val loss=2.4]"
     ]
    },
    {
     "name": "stdout",
     "output_type": "stream",
     "text": [
      "<s>SELECT Winner FROM table WHERE St_Kilda_score = STR_VALUE_1</s> --->                                         \n",
      "<s>SELECT COUNT Wins FROM table WHERE Top-25 < NUM_VALUE_1 AND Events > NUM_VALUE_2 AND Top-5 < NUM_VALUE_3</s> --->                                         \n",
      "##############################\n"
     ]
    },
    {
     "name": "stderr",
     "output_type": "stream",
     "text": [
      " 90%|█████████ | 362/400 [02:30<00:15,  2.48it/s, train score=0, val score=0.264, train loss=1.89, val loss=2.4]     "
     ]
    },
    {
     "name": "stdout",
     "output_type": "stream",
     "text": [
      "<s>SELECT Winner FROM table WHERE St_Kilda_score = STR_VALUE_1</s> --->                                         \n",
      "<s>SELECT COUNT Wins FROM table WHERE Top-25 < NUM_VALUE_1 AND Events > NUM_VALUE_2 AND Top-5 < NUM_VALUE_3</s> --->                                         \n",
      "##############################\n"
     ]
    },
    {
     "name": "stderr",
     "output_type": "stream",
     "text": [
      " 91%|█████████ | 363/400 [02:31<00:15,  2.43it/s, train score=0, val score=0.264, train loss=2.02, val loss=2.4]"
     ]
    },
    {
     "name": "stdout",
     "output_type": "stream",
     "text": [
      "<s>SELECT Winner FROM table WHERE St_Kilda_score = STR_VALUE_1</s> --->                                         \n",
      "<s>SELECT COUNT Wins FROM table WHERE Top-25 < NUM_VALUE_1 AND Events > NUM_VALUE_2 AND Top-5 < NUM_VALUE_3</s> --->                                         \n",
      "##############################\n"
     ]
    },
    {
     "name": "stderr",
     "output_type": "stream",
     "text": [
      " 91%|█████████ | 364/400 [02:31<00:14,  2.44it/s, train score=0.0185, val score=0.264, train loss=1.87, val loss=2.4]"
     ]
    },
    {
     "name": "stdout",
     "output_type": "stream",
     "text": [
      "<s>SELECT Winner FROM table WHERE St_Kilda_score = STR_VALUE_1</s> --->                                         \n",
      "<s>SELECT COUNT Wins FROM table WHERE Top-25 < NUM_VALUE_1 AND Events > NUM_VALUE_2 AND Top-5 < NUM_VALUE_3</s> --->                                         \n",
      "##############################\n"
     ]
    },
    {
     "name": "stderr",
     "output_type": "stream",
     "text": [
      " 91%|█████████▏| 365/400 [02:31<00:14,  2.41it/s, train score=0.037, val score=0.264, train loss=2.15, val loss=2.4] "
     ]
    },
    {
     "name": "stdout",
     "output_type": "stream",
     "text": [
      "<s>SELECT Winner FROM table WHERE St_Kilda_score = STR_VALUE_1</s> --->                                         \n",
      "<s>SELECT COUNT Wins FROM table WHERE Top-25 < NUM_VALUE_1 AND Events > NUM_VALUE_2 AND Top-5 < NUM_VALUE_3</s> --->                                         \n",
      "##############################\n"
     ]
    },
    {
     "name": "stderr",
     "output_type": "stream",
     "text": [
      " 92%|█████████▏| 366/400 [02:32<00:13,  2.44it/s, train score=0, val score=0.264, train loss=1.71, val loss=2.4]    "
     ]
    },
    {
     "name": "stdout",
     "output_type": "stream",
     "text": [
      "<s>SELECT Winner FROM table WHERE St_Kilda_score = STR_VALUE_1</s> --->                                         \n",
      "<s>SELECT COUNT Wins FROM table WHERE Top-25 < NUM_VALUE_1 AND Events > NUM_VALUE_2 AND Top-5 < NUM_VALUE_3</s> --->                                         \n",
      "##############################\n"
     ]
    },
    {
     "name": "stderr",
     "output_type": "stream",
     "text": [
      " 92%|█████████▏| 367/400 [02:32<00:13,  2.46it/s, train score=0.115, val score=0.264, train loss=1.86, val loss=2.4]"
     ]
    },
    {
     "name": "stdout",
     "output_type": "stream",
     "text": [
      "<s>SELECT Winner FROM table WHERE St_Kilda_score = STR_VALUE_1</s> --->                                         \n",
      "<s>SELECT COUNT Wins FROM table WHERE Top-25 < NUM_VALUE_1 AND Events > NUM_VALUE_2 AND Top-5 < NUM_VALUE_3</s> --->                                         \n",
      "##############################\n"
     ]
    },
    {
     "name": "stderr",
     "output_type": "stream",
     "text": [
      " 92%|█████████▏| 368/400 [02:33<00:12,  2.48it/s, train score=0.114, val score=0.264, train loss=1.83, val loss=2.4]"
     ]
    },
    {
     "name": "stdout",
     "output_type": "stream",
     "text": [
      "<s>SELECT Winner FROM table WHERE St_Kilda_score = STR_VALUE_1</s> --->                                         \n",
      "<s>SELECT COUNT Wins FROM table WHERE Top-25 < NUM_VALUE_1 AND Events > NUM_VALUE_2 AND Top-5 < NUM_VALUE_3</s> --->                                         \n",
      "##############################\n"
     ]
    },
    {
     "name": "stderr",
     "output_type": "stream",
     "text": [
      " 92%|█████████▏| 369/400 [02:33<00:12,  2.48it/s, train score=0.132, val score=0.264, train loss=1.89, val loss=2.4]"
     ]
    },
    {
     "name": "stdout",
     "output_type": "stream",
     "text": [
      "<s>SELECT Winner FROM table WHERE St_Kilda_score = STR_VALUE_1</s> --->                                         \n",
      "<s>SELECT COUNT Wins FROM table WHERE Top-25 < NUM_VALUE_1 AND Events > NUM_VALUE_2 AND Top-5 < NUM_VALUE_3</s> --->                                         \n",
      "##############################\n"
     ]
    },
    {
     "name": "stderr",
     "output_type": "stream",
     "text": [
      " 92%|█████████▎| 370/400 [02:33<00:12,  2.48it/s, train score=0.037, val score=0.264, train loss=1.75, val loss=2.4]"
     ]
    },
    {
     "name": "stdout",
     "output_type": "stream",
     "text": [
      "<s>SELECT Winner FROM table WHERE St_Kilda_score = STR_VALUE_1</s> --->                                         \n",
      "<s>SELECT COUNT Wins FROM table WHERE Top-25 < NUM_VALUE_1 AND Events > NUM_VALUE_2 AND Top-5 < NUM_VALUE_3</s> --->                                         \n",
      "##############################\n"
     ]
    },
    {
     "name": "stderr",
     "output_type": "stream",
     "text": [
      " 93%|█████████▎| 371/400 [02:34<00:11,  2.48it/s, train score=0.0185, val score=0.264, train loss=2, val loss=2.4]  "
     ]
    },
    {
     "name": "stdout",
     "output_type": "stream",
     "text": [
      "<s>SELECT Winner FROM table WHERE St_Kilda_score = STR_VALUE_1</s> --->                                         \n",
      "<s>SELECT COUNT Wins FROM table WHERE Top-25 < NUM_VALUE_1 AND Events > NUM_VALUE_2 AND Top-5 < NUM_VALUE_3</s> --->                                         \n",
      "##############################\n"
     ]
    },
    {
     "name": "stderr",
     "output_type": "stream",
     "text": [
      " 93%|█████████▎| 372/400 [02:34<00:11,  2.48it/s, train score=0.113, val score=0.264, train loss=1.77, val loss=2.4]"
     ]
    },
    {
     "name": "stdout",
     "output_type": "stream",
     "text": [
      "<s>SELECT Winner FROM table WHERE St_Kilda_score = STR_VALUE_1</s> --->                                         \n",
      "<s>SELECT COUNT Wins FROM table WHERE Top-25 < NUM_VALUE_1 AND Events > NUM_VALUE_2 AND Top-5 < NUM_VALUE_3</s> --->                                         \n",
      "##############################\n"
     ]
    },
    {
     "name": "stderr",
     "output_type": "stream",
     "text": [
      " 93%|█████████▎| 373/400 [02:35<00:11,  2.44it/s, train score=0.0556, val score=0.264, train loss=1.82, val loss=2.4]"
     ]
    },
    {
     "name": "stdout",
     "output_type": "stream",
     "text": [
      "<s>SELECT Winner FROM table WHERE St_Kilda_score = STR_VALUE_1</s> --->                                         \n",
      "<s>SELECT COUNT Wins FROM table WHERE Top-25 < NUM_VALUE_1 AND Events > NUM_VALUE_2 AND Top-5 < NUM_VALUE_3</s> --->                                         \n",
      "##############################\n"
     ]
    },
    {
     "name": "stderr",
     "output_type": "stream",
     "text": [
      " 94%|█████████▎| 374/400 [02:35<00:10,  2.45it/s, train score=0.0185, val score=0.264, train loss=1.71, val loss=2.4]"
     ]
    },
    {
     "name": "stdout",
     "output_type": "stream",
     "text": [
      "<s>SELECT Winner FROM table WHERE St_Kilda_score = STR_VALUE_1</s> --->                                         \n",
      "<s>SELECT COUNT Wins FROM table WHERE Top-25 < NUM_VALUE_1 AND Events > NUM_VALUE_2 AND Top-5 < NUM_VALUE_3</s> --->                                         \n",
      "##############################\n"
     ]
    },
    {
     "name": "stderr",
     "output_type": "stream",
     "text": [
      " 94%|█████████▍| 375/400 [02:35<00:10,  2.46it/s, train score=0, val score=0.264, train loss=1.89, val loss=2.4]     "
     ]
    },
    {
     "name": "stdout",
     "output_type": "stream",
     "text": [
      "<s>SELECT Winner FROM table WHERE St_Kilda_score = STR_VALUE_1</s> --->                                         \n",
      "<s>SELECT COUNT Wins FROM table WHERE Top-25 < NUM_VALUE_1 AND Events > NUM_VALUE_2 AND Top-5 < NUM_VALUE_3</s> --->                                         \n",
      "##############################\n"
     ]
    },
    {
     "name": "stderr",
     "output_type": "stream",
     "text": [
      " 94%|█████████▍| 376/400 [02:36<00:09,  2.47it/s, train score=0.0185, val score=0.264, train loss=1.83, val loss=2.4]"
     ]
    },
    {
     "name": "stdout",
     "output_type": "stream",
     "text": [
      "<s>SELECT Winner FROM table WHERE St_Kilda_score = STR_VALUE_1</s> --->                                         \n",
      "<s>SELECT COUNT Wins FROM table WHERE Top-25 < NUM_VALUE_1 AND Events > NUM_VALUE_2 AND Top-5 < NUM_VALUE_3</s> --->                                         \n",
      "##############################\n"
     ]
    },
    {
     "name": "stderr",
     "output_type": "stream",
     "text": [
      " 94%|█████████▍| 377/400 [02:36<00:09,  2.46it/s, train score=0.0185, val score=0.264, train loss=2.03, val loss=2.4]"
     ]
    },
    {
     "name": "stdout",
     "output_type": "stream",
     "text": [
      "<s>SELECT Winner FROM table WHERE St_Kilda_score = STR_VALUE_1</s> --->                                         \n",
      "<s>SELECT COUNT Wins FROM table WHERE Top-25 < NUM_VALUE_1 AND Events > NUM_VALUE_2 AND Top-5 < NUM_VALUE_3</s> --->                                         \n",
      "##############################\n"
     ]
    },
    {
     "name": "stderr",
     "output_type": "stream",
     "text": [
      " 94%|█████████▍| 378/400 [02:37<00:09,  2.41it/s, train score=0.115, val score=0.264, train loss=1.84, val loss=2.4] "
     ]
    },
    {
     "name": "stdout",
     "output_type": "stream",
     "text": [
      "<s>SELECT Winner FROM table WHERE St_Kilda_score = STR_VALUE_1</s> --->                                         \n",
      "<s>SELECT COUNT Wins FROM table WHERE Top-25 < NUM_VALUE_1 AND Events > NUM_VALUE_2 AND Top-5 < NUM_VALUE_3</s> --->                                         \n",
      "##############################\n"
     ]
    },
    {
     "name": "stderr",
     "output_type": "stream",
     "text": [
      " 95%|█████████▍| 379/400 [02:37<00:08,  2.43it/s, train score=0.0741, val score=0.264, train loss=1.91, val loss=2.4]"
     ]
    },
    {
     "name": "stdout",
     "output_type": "stream",
     "text": [
      "<s>SELECT Winner FROM table WHERE St_Kilda_score = STR_VALUE_1</s> --->                                         \n",
      "<s>SELECT COUNT Wins FROM table WHERE Top-25 < NUM_VALUE_1 AND Events > NUM_VALUE_2 AND Top-5 < NUM_VALUE_3</s> --->                                         \n",
      "##############################\n"
     ]
    },
    {
     "name": "stderr",
     "output_type": "stream",
     "text": [
      " 95%|█████████▌| 380/400 [02:37<00:08,  2.44it/s, train score=0.0741, val score=0.264, train loss=1.92, val loss=2.4]"
     ]
    },
    {
     "name": "stdout",
     "output_type": "stream",
     "text": [
      "<s>SELECT Winner FROM table WHERE St_Kilda_score = STR_VALUE_1</s> --->                                         \n",
      "<s>SELECT COUNT Wins FROM table WHERE Top-25 < NUM_VALUE_1 AND Events > NUM_VALUE_2 AND Top-5 < NUM_VALUE_3</s> --->                                         \n",
      "##############################\n"
     ]
    },
    {
     "name": "stderr",
     "output_type": "stream",
     "text": [
      " 95%|█████████▌| 380/400 [02:38<00:08,  2.44it/s, train score=0.0755, val score=0.264, train loss=2.12, val loss=2.4]"
     ]
    },
    {
     "name": "stdout",
     "output_type": "stream",
     "text": [
      "<s>SELECT Winner FROM table WHERE St_Kilda_score = STR_VALUE_1</s> --->                                         \n",
      "<s>SELECT COUNT Wins FROM table WHERE Top-25 < NUM_VALUE_1 AND Events > NUM_VALUE_2 AND Top-5 < NUM_VALUE_3</s> --->                                         \n",
      "##############################\n"
     ]
    },
    {
     "name": "stderr",
     "output_type": "stream",
     "text": [
      " 96%|█████████▌| 382/400 [02:39<00:09,  1.95it/s, train score=0.113, val score=0.264, train loss=1.84, val loss=2.4] "
     ]
    },
    {
     "name": "stdout",
     "output_type": "stream",
     "text": [
      "<s>SELECT Winner FROM table WHERE St_Kilda_score = STR_VALUE_1</s> --->                                         \n",
      "<s>SELECT COUNT Wins FROM table WHERE Top-25 < NUM_VALUE_1 AND Events > NUM_VALUE_2 AND Top-5 < NUM_VALUE_3</s> --->                                         \n",
      "##############################\n"
     ]
    },
    {
     "name": "stderr",
     "output_type": "stream",
     "text": [
      " 96%|█████████▌| 383/400 [02:39<00:08,  2.07it/s, train score=0.0769, val score=0.264, train loss=1.92, val loss=2.4]"
     ]
    },
    {
     "name": "stdout",
     "output_type": "stream",
     "text": [
      "<s>SELECT Winner FROM table WHERE St_Kilda_score = STR_VALUE_1</s> --->                                         \n",
      "<s>SELECT COUNT Wins FROM table WHERE Top-25 < NUM_VALUE_1 AND Events > NUM_VALUE_2 AND Top-5 < NUM_VALUE_3</s> --->                                         \n",
      "##############################\n"
     ]
    },
    {
     "name": "stderr",
     "output_type": "stream",
     "text": [
      " 96%|█████████▌| 384/400 [02:40<00:07,  2.17it/s, train score=0.114, val score=0.264, train loss=1.97, val loss=2.4] "
     ]
    },
    {
     "name": "stdout",
     "output_type": "stream",
     "text": [
      "<s>SELECT Winner FROM table WHERE St_Kilda_score = STR_VALUE_1</s> --->                                         \n",
      "<s>SELECT COUNT Wins FROM table WHERE Top-25 < NUM_VALUE_1 AND Events > NUM_VALUE_2 AND Top-5 < NUM_VALUE_3</s> --->                                         \n",
      "##############################\n"
     ]
    },
    {
     "name": "stderr",
     "output_type": "stream",
     "text": [
      " 96%|█████████▋| 385/400 [02:40<00:06,  2.26it/s, train score=0.0385, val score=0.264, train loss=1.91, val loss=2.4]"
     ]
    },
    {
     "name": "stdout",
     "output_type": "stream",
     "text": [
      "<s>SELECT Winner FROM table WHERE St_Kilda_score = STR_VALUE_1</s> --->                                         \n",
      "<s>SELECT COUNT Wins FROM table WHERE Top-25 < NUM_VALUE_1 AND Events > NUM_VALUE_2 AND Top-5 < NUM_VALUE_3</s> --->                                         \n",
      "##############################\n"
     ]
    },
    {
     "name": "stderr",
     "output_type": "stream",
     "text": [
      " 96%|█████████▋| 386/400 [02:40<00:06,  2.33it/s, train score=0.094, val score=0.264, train loss=1.76, val loss=2.4] "
     ]
    },
    {
     "name": "stdout",
     "output_type": "stream",
     "text": [
      "<s>SELECT Winner FROM table WHERE St_Kilda_score = STR_VALUE_1</s> --->                                         \n",
      "<s>SELECT COUNT Wins FROM table WHERE Top-25 < NUM_VALUE_1 AND Events > NUM_VALUE_2 AND Top-5 < NUM_VALUE_3</s> --->                                         \n",
      "##############################\n"
     ]
    },
    {
     "name": "stderr",
     "output_type": "stream",
     "text": [
      " 97%|█████████▋| 387/400 [02:41<00:05,  2.35it/s, train score=0.0185, val score=0.264, train loss=2.1, val loss=2.4]"
     ]
    },
    {
     "name": "stdout",
     "output_type": "stream",
     "text": [
      "<s>SELECT Winner FROM table WHERE St_Kilda_score = STR_VALUE_1</s> --->                                         \n",
      "<s>SELECT COUNT Wins FROM table WHERE Top-25 < NUM_VALUE_1 AND Events > NUM_VALUE_2 AND Top-5 < NUM_VALUE_3</s> --->                                         \n",
      "##############################\n"
     ]
    },
    {
     "name": "stderr",
     "output_type": "stream",
     "text": [
      " 97%|█████████▋| 388/400 [02:41<00:05,  2.40it/s, train score=0.0769, val score=0.264, train loss=1.84, val loss=2.4]"
     ]
    },
    {
     "name": "stdout",
     "output_type": "stream",
     "text": [
      "<s>SELECT Winner FROM table WHERE St_Kilda_score = STR_VALUE_1</s> --->                                         \n",
      "<s>SELECT COUNT Wins FROM table WHERE Top-25 < NUM_VALUE_1 AND Events > NUM_VALUE_2 AND Top-5 < NUM_VALUE_3</s> --->                                         \n",
      "##############################\n"
     ]
    },
    {
     "name": "stderr",
     "output_type": "stream",
     "text": [
      " 97%|█████████▋| 389/400 [02:42<00:04,  2.35it/s, train score=0.0385, val score=0.264, train loss=2.31, val loss=2.4]"
     ]
    },
    {
     "name": "stdout",
     "output_type": "stream",
     "text": [
      "<s>SELECT Winner FROM table WHERE St_Kilda_score = STR_VALUE_1</s> --->                                         \n",
      "<s>SELECT COUNT Wins FROM table WHERE Top-25 < NUM_VALUE_1 AND Events > NUM_VALUE_2 AND Top-5 < NUM_VALUE_3</s> --->                                         \n",
      "##############################\n"
     ]
    },
    {
     "name": "stderr",
     "output_type": "stream",
     "text": [
      " 98%|█████████▊| 390/400 [02:42<00:04,  2.37it/s, train score=0.171, val score=0.264, train loss=2.08, val loss=2.4] "
     ]
    },
    {
     "name": "stdout",
     "output_type": "stream",
     "text": [
      "<s>SELECT Winner FROM table WHERE St_Kilda_score = STR_VALUE_1</s> --->                                         \n",
      "<s>SELECT COUNT Wins FROM table WHERE Top-25 < NUM_VALUE_1 AND Events > NUM_VALUE_2 AND Top-5 < NUM_VALUE_3</s> --->                                         \n",
      "##############################\n"
     ]
    },
    {
     "name": "stderr",
     "output_type": "stream",
     "text": [
      " 98%|█████████▊| 391/400 [02:42<00:03,  2.40it/s, train score=0.132, val score=0.264, train loss=1.89, val loss=2.4]"
     ]
    },
    {
     "name": "stdout",
     "output_type": "stream",
     "text": [
      "<s>SELECT Winner FROM table WHERE St_Kilda_score = STR_VALUE_1</s> --->                                         \n",
      "<s>SELECT COUNT Wins FROM table WHERE Top-25 < NUM_VALUE_1 AND Events > NUM_VALUE_2 AND Top-5 < NUM_VALUE_3</s> --->                                         \n",
      "##############################\n"
     ]
    },
    {
     "name": "stderr",
     "output_type": "stream",
     "text": [
      " 98%|█████████▊| 392/400 [02:43<00:03,  2.43it/s, train score=0, val score=0.264, train loss=2.03, val loss=2.4]    "
     ]
    },
    {
     "name": "stdout",
     "output_type": "stream",
     "text": [
      "<s>SELECT Winner FROM table WHERE St_Kilda_score = STR_VALUE_1</s> --->                                         \n",
      "<s>SELECT COUNT Wins FROM table WHERE Top-25 < NUM_VALUE_1 AND Events > NUM_VALUE_2 AND Top-5 < NUM_VALUE_3</s> --->                                         \n",
      "##############################\n"
     ]
    },
    {
     "name": "stderr",
     "output_type": "stream",
     "text": [
      " 98%|█████████▊| 393/400 [02:43<00:02,  2.45it/s, train score=0, val score=0.264, train loss=1.79, val loss=2.39]"
     ]
    },
    {
     "name": "stdout",
     "output_type": "stream",
     "text": [
      "<s>SELECT Winner FROM table WHERE St_Kilda_score = STR_VALUE_1</s> --->                                         \n",
      "<s>SELECT COUNT Wins FROM table WHERE Top-25 < NUM_VALUE_1 AND Events > NUM_VALUE_2 AND Top-5 < NUM_VALUE_3</s> --->                                         \n",
      "##############################\n"
     ]
    },
    {
     "name": "stderr",
     "output_type": "stream",
     "text": [
      " 98%|█████████▊| 394/400 [02:44<00:02,  2.47it/s, train score=0.0926, val score=0.264, train loss=1.75, val loss=2.39]"
     ]
    },
    {
     "name": "stdout",
     "output_type": "stream",
     "text": [
      "<s>SELECT Winner FROM table WHERE St_Kilda_score = STR_VALUE_1</s> --->                                         \n",
      "<s>SELECT COUNT Wins FROM table WHERE Top-25 < NUM_VALUE_1 AND Events > NUM_VALUE_2 AND Top-5 < NUM_VALUE_3</s> --->                                         \n",
      "##############################\n"
     ]
    },
    {
     "name": "stderr",
     "output_type": "stream",
     "text": [
      " 99%|█████████▉| 395/400 [02:44<00:02,  2.47it/s, train score=0.057, val score=0.264, train loss=2.09, val loss=2.39] "
     ]
    },
    {
     "name": "stdout",
     "output_type": "stream",
     "text": [
      "<s>SELECT Winner FROM table WHERE St_Kilda_score = STR_VALUE_1</s> --->                                         \n",
      "<s>SELECT COUNT Wins FROM table WHERE Top-25 < NUM_VALUE_1 AND Events > NUM_VALUE_2 AND Top-5 < NUM_VALUE_3</s> --->                                         \n",
      "##############################\n"
     ]
    },
    {
     "name": "stderr",
     "output_type": "stream",
     "text": [
      " 99%|█████████▉| 396/400 [02:44<00:01,  2.47it/s, train score=0.037, val score=0.264, train loss=1.9, val loss=2.39] "
     ]
    },
    {
     "name": "stdout",
     "output_type": "stream",
     "text": [
      "<s>SELECT Winner FROM table WHERE St_Kilda_score = STR_VALUE_1</s> --->                                         \n",
      "<s>SELECT COUNT Wins FROM table WHERE Top-25 < NUM_VALUE_1 AND Events > NUM_VALUE_2 AND Top-5 < NUM_VALUE_3</s> --->                                         \n",
      "##############################\n"
     ]
    },
    {
     "name": "stderr",
     "output_type": "stream",
     "text": [
      " 99%|█████████▉| 397/400 [02:45<00:01,  2.47it/s, train score=0, val score=0.264, train loss=1.73, val loss=2.39]   "
     ]
    },
    {
     "name": "stdout",
     "output_type": "stream",
     "text": [
      "<s>SELECT Winner FROM table WHERE St_Kilda_score = STR_VALUE_1</s> --->                                         \n",
      "<s>SELECT COUNT Wins FROM table WHERE Top-25 < NUM_VALUE_1 AND Events > NUM_VALUE_2 AND Top-5 < NUM_VALUE_3</s> --->                                         \n",
      "##############################\n"
     ]
    },
    {
     "name": "stderr",
     "output_type": "stream",
     "text": [
      "100%|█████████▉| 398/400 [02:45<00:00,  2.48it/s, train score=0.0769, val score=0.264, train loss=2.2, val loss=2.39]"
     ]
    },
    {
     "name": "stdout",
     "output_type": "stream",
     "text": [
      "<s>SELECT Winner FROM table WHERE St_Kilda_score = STR_VALUE_1</s> --->                                         \n",
      "<s>SELECT COUNT Wins FROM table WHERE Top-25 < NUM_VALUE_1 AND Events > NUM_VALUE_2 AND Top-5 < NUM_VALUE_3</s> --->                                         \n",
      "##############################\n"
     ]
    },
    {
     "name": "stderr",
     "output_type": "stream",
     "text": [
      "100%|█████████▉| 399/400 [02:46<00:00,  2.46it/s, train score=0.094, val score=0.264, train loss=1.87, val loss=2.39]"
     ]
    },
    {
     "name": "stdout",
     "output_type": "stream",
     "text": [
      "<s>SELECT Winner FROM table WHERE St_Kilda_score = STR_VALUE_1</s> --->                                         \n",
      "<s>SELECT COUNT Wins FROM table WHERE Top-25 < NUM_VALUE_1 AND Events > NUM_VALUE_2 AND Top-5 < NUM_VALUE_3</s> --->                                         \n",
      "##############################\n"
     ]
    },
    {
     "name": "stderr",
     "output_type": "stream",
     "text": [
      "100%|██████████| 400/400 [02:46<00:00,  2.40it/s, train score=0, val score=0.264, train loss=1.96, val loss=2.38]    "
     ]
    },
    {
     "name": "stdout",
     "output_type": "stream",
     "text": [
      "<s>SELECT Winner FROM table WHERE St_Kilda_score = STR_VALUE_1</s> --->                                         \n",
      "<s>SELECT COUNT Wins FROM table WHERE Top-25 < NUM_VALUE_1 AND Events > NUM_VALUE_2 AND Top-5 < NUM_VALUE_3</s> --->                                         \n",
      "##############################\n",
      "Last 399 epoch train loss:  1.9629201889038086\n",
      "Last 399 epoch val loss:  2.384148120880127\n",
      "Last 399 epoch train score:  0.0\n",
      "Last 399 epoch val score:  0.26353276520967484\n"
     ]
    },
    {
     "name": "stderr",
     "output_type": "stream",
     "text": [
      "\n"
     ]
    }
   ],
   "source": [
    "name_exp = \"wikisql_train\"\n",
    "model, dm, dataloader = ptst.train(prin=True, filename=\"progress_log_\"+name_exp+\".txt\")"
   ]
  },
  {
   "cell_type": "code",
   "execution_count": 8,
   "id": "b58300ab-44cc-412f-ae68-c9002bacabdd",
   "metadata": {
    "execution": {
     "iopub.execute_input": "2024-03-06T10:08:56.736267Z",
     "iopub.status.busy": "2024-03-06T10:08:56.735279Z",
     "iopub.status.idle": "2024-03-06T10:09:04.837975Z",
     "shell.execute_reply": "2024-03-06T10:09:04.837007Z",
     "shell.execute_reply.started": "2024-03-06T10:08:56.736222Z"
    }
   },
   "outputs": [],
   "source": [
    "torch.save(model.state_dict(), \"save_model_train_\"+name_exp+\".pt\")"
   ]
  },
  {
   "cell_type": "code",
   "execution_count": 16,
   "id": "961240ad-4709-4d27-8b76-b51693759cd3",
   "metadata": {
    "execution": {
     "iopub.execute_input": "2024-03-17T22:56:19.886670Z",
     "iopub.status.busy": "2024-03-17T22:56:19.886047Z",
     "iopub.status.idle": "2024-03-17T22:56:19.896899Z",
     "shell.execute_reply": "2024-03-17T22:56:19.896218Z",
     "shell.execute_reply.started": "2024-03-17T22:56:19.886639Z"
    },
    "tags": []
   },
   "outputs": [],
   "source": [
    "data_config = yaml.load(open(\"configs/data_config.yaml\", 'r', encoding='utf-8'), Loader=yaml.Loader)"
   ]
  },
  {
   "cell_type": "code",
   "execution_count": 17,
   "id": "ee02df89-e879-456a-b284-229c1eece8b3",
   "metadata": {
    "execution": {
     "iopub.execute_input": "2024-03-17T22:56:20.221443Z",
     "iopub.status.busy": "2024-03-17T22:56:20.220821Z",
     "iopub.status.idle": "2024-03-17T22:56:20.417078Z",
     "shell.execute_reply": "2024-03-17T22:56:20.416346Z",
     "shell.execute_reply.started": "2024-03-17T22:56:20.221412Z"
    },
    "tags": []
   },
   "outputs": [
    {
     "name": "stdout",
     "output_type": "stream",
     "text": [
      "+-----------------+-------------------------+\n",
      "|    параметры    |         значения        |\n",
      "+-----------------+-------------------------+\n",
      "| pre_train_model | FacebookAI/roberta-base |\n",
      "|  learning_rate  |          0.001          |\n",
      "|    sched_step   |           100           |\n",
      "|   sched_gamma   |           0.1           |\n",
      "|    epoch_num    |           400           |\n",
      "|  try_one_batch  |           True          |\n",
      "+-----------------+-------------------------+\n"
     ]
    },
    {
     "data": {
      "image/png": "[encoded data removed]",
      "text/plain": [
       "<Figure size 576x576 with 2 Axes>"
      ]
     },
     "metadata": {
      "needs_background": "light"
     },
     "output_type": "display_data"
    }
   ],
   "source": [
    "utils.graf(data_config[\"path_repository\"] + \"training_logs_/progress_log_wikisql_train.txt\")"
   ]
  },
  {
   "cell_type": "code",
   "execution_count": null,
   "id": "67f66148-4936-4550-ac7a-8f21b0e0c9d2",
   "metadata": {},
   "outputs": [],
   "source": []
  },
  {
   "cell_type": "code",
   "execution_count": 22,
   "id": "6413d605-6fae-4644-94a1-53f7d8de4664",
   "metadata": {
    "execution": {
     "iopub.execute_input": "2024-03-17T22:59:20.855726Z",
     "iopub.status.busy": "2024-03-17T22:59:20.855028Z",
     "iopub.status.idle": "2024-03-17T22:59:21.060151Z",
     "shell.execute_reply": "2024-03-17T22:59:21.059436Z",
     "shell.execute_reply.started": "2024-03-17T22:59:20.855692Z"
    },
    "tags": []
   },
   "outputs": [
    {
     "name": "stdout",
     "output_type": "stream",
     "text": [
      "+-----------------+-------------------------+\n",
      "|    параметры    |         значения        |\n",
      "+-----------------+-------------------------+\n",
      "| pre_train_model | FacebookAI/roberta-base |\n",
      "|  learning_rate  |          0.001          |\n",
      "|    sched_step   |           100           |\n",
      "|   sched_gamma   |           0.1           |\n",
      "|    epoch_num    |           400           |\n",
      "|  try_one_batch  |           True          |\n",
      "+-----------------+-------------------------+\n"
     ]
    },
    {
     "data": {
      "image/png": "[encoded data removed]",
      "text/plain": [
       "<Figure size 576x576 with 2 Axes>"
      ]
     },
     "metadata": {
      "needs_background": "light"
     },
     "output_type": "display_data"
    }
   ],
   "source": [
    "import ast\n",
    "from matplotlib import pyplot as plt\n",
    "from prettytable import PrettyTable\n",
    "\n",
    "path = data_config[\"path_repository\"] + \"training_logs_/progress_log_wikisql_train.txt\"\n",
    "data_graf = {'loss_val': [], 'loss_train': [],\n",
    "             'val_score': [], 'train_score': []}\n",
    "\n",
    "lebes = list(data_graf.keys())\n",
    "\n",
    "with open(path, 'r') as f:\n",
    "    description_model = f.readline()\n",
    "    for lin in f:\n",
    "        line = ast.literal_eval(lin)\n",
    "        for leb in lebes:\n",
    "            data_graf[leb].append(line[leb])\n",
    "\n",
    "description_model = ast.literal_eval(description_model)\n",
    "\n",
    "table_print = PrettyTable()\n",
    "table_print.field_names = [\"параметры\", \"значения\"]\n",
    "\n",
    "for i in description_model:\n",
    "    table_print.add_row((i, description_model[i]))\n",
    "\n",
    "print(table_print)\n",
    "\n",
    "fig, (ax1, ax2) = plt.subplots(2, 1)\n",
    "\n",
    "fig.set_size_inches(8, 8, forward=True)\n",
    "\n",
    "x = range(101, len(data_graf[lebes[0]]) + 1)\n",
    "\n",
    "ax1.title.set_text('Loss')\n",
    "ax1.plot(x, data_graf['loss_val'][100:], label='val')\n",
    "ax1.plot(x, data_graf['loss_train'][100:], label='train')\n",
    "ax1.legend()\n",
    "\n",
    "ax2.title.set_text('Score')\n",
    "ax2.plot(x, data_graf['val_score'][100:], label='val')\n",
    "ax2.plot(x, data_graf['train_score'][100:], label='train')\n",
    "ax2.legend()\n",
    "\n",
    "plt.show()"
   ]
  },
  {
   "cell_type": "code",
   "execution_count": null,
   "id": "eb927a4b-3508-4b8a-aadd-02918ce1d94e",
   "metadata": {},
   "outputs": [],
   "source": []
  }
 ],
 "metadata": {
  "kernelspec": {
   "display_name": "DataSphere Kernel",
   "language": "python",
   "name": "python3"
  },
  "language_info": {
   "codemirror_mode": {
    "name": "ipython",
    "version": 3
   },
   "file_extension": ".py",
   "mimetype": "text/x-python",
   "name": "python",
   "nbconvert_exporter": "python",
   "pygments_lexer": "ipython3",
   "version": "3.7.7"
  }
 },
 "nbformat": 4,
 "nbformat_minor": 5
}
